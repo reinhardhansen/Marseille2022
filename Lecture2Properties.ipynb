{
 "cells": [
  {
   "cell_type": "markdown",
   "id": "57e32c8b-59e3-49f5-ab0d-0dfb0105cb13",
   "metadata": {},
   "source": [
    "# Distributional Properties of $\\gamma(C)$\n",
    "## Marseille, June 14: Notebook for Lecture 2"
   ]
  },
  {
   "cell_type": "code",
   "execution_count": null,
   "id": "6351c984-da09-4e6e-ad93-90c919b56b53",
   "metadata": {},
   "outputs": [],
   "source": [
    "#import Pkg; Pkg.add(\"StatsPlots\")\n",
    "using Plots\n",
    "using LinearAlgebra\n",
    "using StatsPlots\n",
    "using Statistics"
   ]
  },
  {
   "cell_type": "markdown",
   "id": "f9ed6b7f-6215-4544-a19d-27b7f7ba07c6",
   "metadata": {},
   "source": [
    "# Part 2.A: Sample Correlation and its Finite Sample Properties"
   ]
  },
  {
   "cell_type": "markdown",
   "id": "ebd71587-af38-42de-bba8-8df004f162af",
   "metadata": {},
   "source": [
    "Suppose that $(X_i,Y_i)$ are iid with finite fourth moment, and denote $\\rho=\\mathrm{corr}(X,Y)$ their correlation coefficient."
   ]
  },
  {
   "cell_type": "markdown",
   "id": "085ac178-6657-4214-92e2-2077fc346c06",
   "metadata": {},
   "source": [
    "Empirical correlation\n",
    "\n",
    "$$ \\hat{\\rho}= \n",
    "\\frac{ \n",
    "    \\widehat{\\mathrm{cov}}(X,Y)\n",
    "    }{ \n",
    "    \\sqrt{\\widehat{\\mathrm{var}}(X)\\widehat{\\mathrm{var}}(Y)}\n",
    "    },\n",
    "$$"
   ]
  },
  {
   "cell_type": "markdown",
   "id": "c44a4063-2771-4026-88cb-daea39e4dd4f",
   "metadata": {},
   "source": [
    "is such that\n",
    "$$ \\sqrt{T}(\\hat{\\rho}-\\rho) \\overset{d}{\\rightarrow} N(0,[1-\\rho^2]^2)\\qquad \\text{as}\\quad T\\rightarrow \\infty. $$\n",
    "## Simulate a single correlation (Julia code)"
   ]
  },
  {
   "cell_type": "code",
   "execution_count": null,
   "id": "5be8f775-481d-455b-9a3b-9f6778bba380",
   "metadata": {
    "tags": []
   },
   "outputs": [],
   "source": [
    "ρ = 0.5\n",
    "Z  = randn(100,1)\n",
    "X  = randn(100,1)\n",
    "Y  = ρ.*X +sqrt(1-ρ^2).*Z\n",
    "cor(X,Y)"
   ]
  },
  {
   "cell_type": "markdown",
   "id": "5e33a30f-4caf-4e62-9d10-e9361c2e524f",
   "metadata": {},
   "source": [
    "## Simulate $N$ Sample Correlations"
   ]
  },
  {
   "cell_type": "code",
   "execution_count": null,
   "id": "6da2f1f5-95a9-4b63-b9ed-6d91b754e181",
   "metadata": {
    "tags": []
   },
   "outputs": [],
   "source": [
    "function ρhat(ρ,T)\n",
    "    X  = randn(T)\n",
    "    Y  = ρ.*X +sqrt(1-ρ^2).*randn(T)\n",
    "    return cor(X,Y)\n",
    "end\n",
    "function ρhats(ρ,T,N)\n",
    "    r = [ρhat(ρ,T) for i in 1:N]\n",
    "end    \n",
    "function t_ρ(ρ,T)\n",
    "    ρ̂ = ρhat(ρ,T)\n",
    "    return sqrt(T)*(ρ̂-ρ)/(1-ρ̂^2)\n",
    "end\n",
    "function tρCDF(ρ,T,N,c)\n",
    "    δ = [ (t_ρ(ρ,T)<c) for i in 1:N]\n",
    "    return mean(δ)\n",
    "end    \n",
    "    \n",
    "T = 40\n",
    "ρ = 0.9\n",
    "N = 100000\n",
    "LeftTailρ  = tρCDF(ρ,T,N,-1.64)\n",
    "RightTailρ = 1- tρCDF(ρ,T,N,1.64)\n",
    "(LeftTailρ,RightTailρ,LeftTailρ+RightTailρ)"
   ]
  },
  {
   "cell_type": "code",
   "execution_count": null,
   "id": "4907dca5-60da-4462-8e3c-5d2f8ede54c9",
   "metadata": {},
   "outputs": [],
   "source": [
    "# Fisher tranformation\n",
    "function Fisher(r)\n",
    "    log((1+r)/(1-r))/2\n",
    "end\n",
    "function t_ϕ(ρ,T)\n",
    "    ρ̂ = ρhat(ρ,T)\n",
    "    return sqrt(T)*(Fisher(ρ̂)-Fisher(ρ))\n",
    "end\n",
    "\n",
    "function tϕCDF(ρ,T,N,c)\n",
    "    δ = [ (t_ϕ(ρ,T)<c) for i in 1:N]\n",
    "    return mean(δ)\n",
    "end    \n",
    "LeftTailϕ  = tϕCDF(ρ,T,N,-1.64)\n",
    "RightTailϕ = 1- tϕCDF(ρ,T,N,1.64)\n",
    "(LeftTailϕ,RightTailϕ,LeftTailϕ+RightTailϕ)"
   ]
  },
  {
   "cell_type": "markdown",
   "id": "3e333f60-575b-4f28-a1f2-9d3a81d87a91",
   "metadata": {},
   "source": [
    "## Plot Empirical distribution of $\\hat\\rho$"
   ]
  },
  {
   "cell_type": "code",
   "execution_count": null,
   "id": "773b54eb-d6bf-4a99-be3d-3e23a6a37ee2",
   "metadata": {
    "tags": []
   },
   "outputs": [],
   "source": [
    "plot(title = \"Distribution of ρ̂. (ρ = $ρ, T = $T)\", legend=:none)\n",
    "r = ρhats(ρ,T,N)\n",
    "density!(r)"
   ]
  },
  {
   "cell_type": "code",
   "execution_count": null,
   "id": "b3b7bf97-5387-4791-aa56-d8ca0264fd33",
   "metadata": {
    "tags": []
   },
   "outputs": [],
   "source": [
    "using Distributions\n",
    "plot!(Normal(ρ,√((1-ρ^2)^2/T)), fill=(0, 0.1,:red),xlims=(0.75,1.05))"
   ]
  },
  {
   "cell_type": "markdown",
   "id": "1da209ef-7a28-437d-a9a6-942adc2e32e7",
   "metadata": {},
   "source": [
    "## Empirical distribution of $\\hat\\phi$"
   ]
  },
  {
   "cell_type": "code",
   "execution_count": null,
   "id": "579b1b86-c600-4003-9cc9-e14aaee1b2bf",
   "metadata": {
    "tags": []
   },
   "outputs": [],
   "source": [
    "ϕ₀ = Fisher(ρ)\n",
    "ϕ = [Fisher(r[i]) for i in 1:N] \n",
    "plot(title = \"Distribution of ϕ̂. (ρ = $ρ, T = $T)\", legend=:none,xlims=(0.9,2.1))\n",
    "density!(ϕ)\n",
    "#plot!(Normal(ϕ₀ +ρ/(2*T),√(1/T+(6-ρ^2)/(2*T^2))), fill=(0, 0.1,:red))\n",
    "plot!(Normal(ϕ₀,√(1/T)), fill=(0, 0.1,:red))"
   ]
  },
  {
   "cell_type": "markdown",
   "id": "4d901beb-b8ca-4bbc-86e3-d42180001075",
   "metadata": {},
   "source": [
    "# Part 2.B New Parametrization (Case $n=3$)"
   ]
  },
  {
   "cell_type": "code",
   "execution_count": null,
   "id": "0ef6c3a6-92bb-4acc-81f9-5619e220bc7b",
   "metadata": {},
   "outputs": [],
   "source": [
    "#vecl operator\n",
    "function vecl(A::AbstractMatrix{T}) where T # vectorization operator (below diagonal elements)\n",
    "    m = LinearAlgebra.checksquare(A)\n",
    "    v = Vector{T}(undef, (m*(m-1))>>1)\n",
    "    k = 0\n",
    "    for j = 1:m-1, i = j+1:m\n",
    "        @inbounds v[k += 1] = A[i,j]\n",
    "    end\n",
    "    return v\n",
    "end"
   ]
  },
  {
   "cell_type": "markdown",
   "id": "c76798c3-ca59-4b90-805d-fe07992dcd54",
   "metadata": {},
   "source": [
    "We will simulate data from the following correlation matrix:"
   ]
  },
  {
   "cell_type": "code",
   "execution_count": null,
   "id": "a0e1ce6a-31b5-41f7-87fc-167f8f13d00d",
   "metadata": {},
   "outputs": [],
   "source": [
    "C = [ 1.0 0.8 0.95\n",
    "      0.8 1.0 0.7\n",
    "      0.95 0.7 1.0 ]"
   ]
  },
  {
   "cell_type": "markdown",
   "id": "51932998-08d5-4b80-8008-ac850111e88a",
   "metadata": {},
   "source": [
    "Simulate T random variables from N(0,C), and compute empirical correlation matrix"
   ]
  },
  {
   "cell_type": "code",
   "execution_count": null,
   "id": "9b711568-126a-4933-b60b-c9ae6f50e3ff",
   "metadata": {},
   "outputs": [],
   "source": [
    "T = 40; n = size(C,1)\n",
    "X = randn(T,n)*C^(0.5) # Simulate T vectors from N(0,C)\n",
    "Ĉ = cor(X)             # Empirical correlation matrix"
   ]
  },
  {
   "cell_type": "markdown",
   "id": "861e07a2-ef67-457e-aa4f-e43581bee58d",
   "metadata": {},
   "source": [
    "Let us do this N times and investigate distributional properties"
   ]
  },
  {
   "cell_type": "code",
   "execution_count": null,
   "id": "34fc7a00-c7ca-4ec8-a60d-b2a17c20491b",
   "metadata": {},
   "outputs": [],
   "source": [
    "N = 100000                 # Number of simulations \n",
    "ρ̂ = zeros(N,(n*(n-1))>>1)\n",
    "γ̂ = zeros(N,(n*(n-1))>>1)  \n",
    "for i ∈ 1:N\n",
    "    X      = randn(T,n)*C^(0.5)\n",
    "    Ĉ      = cor(X)\n",
    "    ρ̂[i,:] = vecl(Ĉ)'\n",
    "    γ̂[i,:] = vecl(log(Ĉ))'   # New representation\n",
    "end\n",
    "mean(ρ̂, dims=1)  # sample average of correlations"
   ]
  },
  {
   "cell_type": "markdown",
   "id": "9ed7cd2d-387b-48d0-8ef3-14ae536f41ba",
   "metadata": {},
   "source": [
    "What do the sample distributions look like?"
   ]
  },
  {
   "cell_type": "code",
   "execution_count": null,
   "id": "f38057a1-7e42-4489-895f-185d4664b608",
   "metadata": {},
   "outputs": [],
   "source": [
    "plot(legend=:topleft, xlims=(0.5,1.0))\n",
    "    density!(ρ̂[:,1],  label = \"ρ̂₁\")\n",
    "    density!(ρ̂[:,2], label = \"ρ̂₂\")\n",
    "    density!(ρ̂[:,3], label = \"ρ̂₃\")     "
   ]
  },
  {
   "cell_type": "markdown",
   "id": "c8a301fa-6634-488a-82a5-5b04b1efb1a1",
   "metadata": {},
   "source": [
    "## \"Studentize\" with sqrt(avar(ρ) = (1-ρ²)^2)"
   ]
  },
  {
   "cell_type": "code",
   "execution_count": null,
   "id": "342d9b1f-d8ad-4ba2-8ebd-f9991aebe335",
   "metadata": {},
   "outputs": [],
   "source": [
    "ρ = vecl(C)                # vector of correlations\n",
    "plot(legend=:topleft,xlims=(-4,4),title=\"'Infeasible' t-stat\") \n",
    "    density!( √T*(ρ̂[:,1].-ρ[1])/(1-ρ[1]^2),  label = \"T(ρ̂₁)\")\n",
    "    density!( √T*(ρ̂[:,2].-ρ[2])/(1-ρ[2]^2), label = \"T(ρ̂₂)\")\n",
    "    density!( √T*(ρ̂[:,3].-ρ[3])/(1-ρ[3]^2), label = \"T(ρ̂₃)\")\n",
    "    plot!(x -> exp(-x^2/2)/√(2π), linecolor=:black, linestyle=:dash, label = \"N(0,1)\")"
   ]
  },
  {
   "cell_type": "code",
   "execution_count": null,
   "id": "51458c28-6e3e-423f-ac4b-5353e8ae3e8c",
   "metadata": {},
   "outputs": [],
   "source": [
    "plot(legend=:topleft,xlims=(-4,4),title=\"t-statistics\") \n",
    "    density!( √T*(ρ̂[:,1].-ρ[1])./(1 .- ρ̂[:,1].^2),  label = \"t(ρ̂₁)\")\n",
    "    density!( √T*(ρ̂[:,2].-ρ[2])./(1 .- ρ̂[:,2].^2), label = \"t(ρ̂₂)\")\n",
    "    density!( √T*(ρ̂[:,3].-ρ[3])./(1 .- ρ̂[:,3].^2), label = \"t(ρ̂₃)\")\n",
    "    plot!(x -> exp(-x^2/2)/√(2π), linecolor=:black, linestyle=:dash, label = \"N(0,1)\")"
   ]
  },
  {
   "cell_type": "markdown",
   "id": "fd44524f-d086-48ea-83ad-386795916a7e",
   "metadata": {},
   "source": [
    "## Fisher transformed correlations look much better"
   ]
  },
  {
   "cell_type": "code",
   "execution_count": null,
   "id": "83a33c17-a01e-49f3-9fca-b7b091959be0",
   "metadata": {},
   "outputs": [],
   "source": [
    "ϕ = atanh.(ρ)                # vector of Fisher transformed correlations\n",
    "ϕ̂ = atanh.(ρ̂)                # Simulated F-transformed correlations\n",
    "plot(legend=:topleft) \n",
    "    density!( √T*(ϕ̂[:,1].-ϕ[1]), label = \"t-ϕ̂₁\")\n",
    "    density!( √T*(ϕ̂[:,2].-ϕ[2]), label = \"t-ϕ̂₂\")\n",
    "    density!( √T*(ϕ̂[:,3].-ϕ[3]), label = \"t-ϕ̂₃\")\n",
    "    plot!(x -> exp(-x^2/2)/√(2π), linecolor=:black, linestyle=:dash, label = \"N(0,1)\")"
   ]
  },
  {
   "cell_type": "markdown",
   "id": "3f5639f4-54e5-4b46-957c-03859c893e6d",
   "metadata": {},
   "source": [
    "## Generalized Fisher Transformed correlations. [Can be improved using avar(γ̂)]"
   ]
  },
  {
   "cell_type": "code",
   "execution_count": null,
   "id": "56b88f17-6428-4bdf-8c46-8083c5ad5119",
   "metadata": {},
   "outputs": [],
   "source": [
    "γ = vecl(log(C))             # GFT correlation matrix\n",
    "plot(legend=:topleft) \n",
    "    density!( √T*(γ̂[:,1].-γ[1]), label = \"t-γ̂₁\")\n",
    "    density!( √T*(γ̂[:,2].-γ[2]), label = \"t-γ̂₂\")\n",
    "    density!( √T*(γ̂[:,3].-γ[3]), label = \"t-γ̂₃\")\n",
    "    plot!(x -> exp(-x^2/2)/√(2π), linecolor=:black, linestyle=:dash, label = \"N(0,1)\")"
   ]
  },
  {
   "cell_type": "markdown",
   "id": "f0af6eca-f2ff-46a9-9e93-32a47e36bec2",
   "metadata": {},
   "source": [
    "## Inter-dependence reveal advantage of GFT"
   ]
  },
  {
   "cell_type": "code",
   "execution_count": null,
   "id": "b430e658-04e3-4c26-92cc-24d8de7e0201",
   "metadata": {},
   "outputs": [],
   "source": [
    "corrplot(ρ̂[1:5000,:], title = \"Empirical Correlations: ρ̂\")"
   ]
  },
  {
   "cell_type": "code",
   "execution_count": null,
   "id": "81007d2b-7791-4d19-a5d7-029a40e824f0",
   "metadata": {},
   "outputs": [],
   "source": [
    "corrplot(ϕ̂[1:5000,:], title = \"Empirical Fisher-transformed Correlations: ϕ̂\")    "
   ]
  },
  {
   "cell_type": "code",
   "execution_count": null,
   "id": "647428ef-1dc8-48d8-b331-64d1a1cd2a07",
   "metadata": {},
   "outputs": [],
   "source": [
    "corrplot(γ̂[1:5000,:], title = \"New Pametrization: γ̂\")#, aspect_ratio=1)"
   ]
  },
  {
   "cell_type": "code",
   "execution_count": null,
   "id": "9d76536f-e425-44e7-a6d2-56982170f72c",
   "metadata": {},
   "outputs": [],
   "source": [
    "cornerplot(γ̂[1:5000,:])"
   ]
  },
  {
   "cell_type": "code",
   "execution_count": null,
   "id": "d2419c79-f153-447f-9864-805bdf47f262",
   "metadata": {},
   "outputs": [],
   "source": [
    "cornerplot(γ̂[1:5000,:], markercolor =:blues, aspect_ratio=1)"
   ]
  },
  {
   "cell_type": "code",
   "execution_count": null,
   "id": "107d0201-cb93-43a2-a976-0f43f3d90e40",
   "metadata": {},
   "outputs": [],
   "source": []
  }
 ],
 "metadata": {
  "kernelspec": {
   "display_name": "Julia 1.7.0-rc3",
   "language": "julia",
   "name": "julia-1.7"
  },
  "language_info": {
   "file_extension": ".jl",
   "mimetype": "application/julia",
   "name": "julia",
   "version": "1.7.0"
  }
 },
 "nbformat": 4,
 "nbformat_minor": 5
}
