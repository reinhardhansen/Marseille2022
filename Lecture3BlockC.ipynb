{
 "cells": [
  {
   "cell_type": "markdown",
   "id": "74f9d62c",
   "metadata": {},
   "source": [
    "# Canonical Representation of Block Matrix\n",
    "## Marseille, June 14: Notebook for Lecture 3"
   ]
  },
  {
   "cell_type": "code",
   "execution_count": 1,
   "id": "e86c1aed-c9cf-47a8-887d-226f3552dcb8",
   "metadata": {},
   "outputs": [],
   "source": [
    "#import Pkg; Pkg.add(\"Latexify\")\n",
    "using LinearAlgebra\n",
    "using Latexify\n",
    "using Distributions\n",
    "using Plots, ColorSchemes"
   ]
  },
  {
   "cell_type": "markdown",
   "id": "a83dded5",
   "metadata": {},
   "source": [
    "$n \\times n$ correlation matrix, $C$, with $K\\times K$ blocks. Block sizes are $n_k\\times n_l $ and  $n_{1}+\\cdots+n_{K}=n$.\n",
    "\n",
    "\n",
    "$$ C=\\left[\\begin{array}{cccc}\n",
    "C_{[1,1]} & C_{[1,2]} & \\cdots & C_{[1,K]}\\\\\n",
    "C_{[2,1]} & C_{[2,2]}\\\\\n",
    "\\vdots &  & \\ddots\\\\\n",
    "C_{[K,1]} &  &  & C_{[K,K]}\n",
    "\\end{array}\\right]\\in\\mathbb{R}^{n\\times n},\n",
    "$$\n",
    "and the diagonal blocks and off-diagonal blocks are given by\n",
    "$$\n",
    "C_{[k,k]} = \n",
    "    \\left[\n",
    "        \\begin{array}{cccc}\n",
    "            1 &  \\rho_{k,k}& \\cdots & \\rho_{k,k}\\\\\n",
    "            \\rho_{k,k}  & 1 & \\ddots & \\vdots\\\\\n",
    "            \\vdots  & \\ddots & \\ddots & \\rho_{k,k} \\\\\n",
    "            \\rho_{k,k}  & \\cdots &\\rho_{k,k}  & 1\n",
    "        \\end{array}\n",
    "    \\right]\\in\\mathbb{R}^{n_k\\times n_k},\n",
    "\\quad \n",
    "C_{[k,l]} = \n",
    "    \\left[\n",
    "        \\begin{array}{cccc}\n",
    "            \\rho_{k,l} & \\rho_{k,l}&\\cdots & \\rho_{k,l}\\\\\n",
    "            \\rho_{k,l} & \\rho_{k,l}& \\ddots & \\vdots \\\\\n",
    "            \\vdots & \\ddots & \\ddots & \\rho_{k,l}\\\\\n",
    "            \\rho_{k,l} & \\cdots & \\rho_{k,l} & \\rho_{k,l}\n",
    "        \\end{array}\n",
    "    \\right]\\in\\mathbb{R}^{n_k\\times n_l} \\qquad k,l=1,\\ldots,K.\n",
    "$$"
   ]
  },
  {
   "cell_type": "markdown",
   "id": "cd521426",
   "metadata": {},
   "source": [
    "## Canonical Representation of Block Matrices\n",
    "$$\n",
    "C = QDQ^{\\prime},\\qquad \n",
    "    D=\\left[\\begin{array}{cccc}\n",
    "        A & 0 & \\cdots & 0\\\\\n",
    "0 & (1-\\rho_{11})I_{n_{1}-1} & \\ddots & \\vdots\\\\\n",
    "\\vdots & \\ddots & \\ddots & 0\\\\\n",
    "0 & \\cdots & 0 & (1-\\rho_{KK})I_{n_{K}-1}\n",
    "\\end{array}\\right]$$\n",
    "where \n",
    "$A$ is an $K\\times K$ matrix, with elements\n",
    "\n",
    "$$A_{kl}=\\begin{cases}\n",
    "\\rho_{kk}(n_{k}-1)+ 1 & k=l,\\\\\n",
    "\\rho_{kl}\\sqrt{n_{k}n_{l}} & i\\neq j.\n",
    "\\end{cases}$$\n",
    "\n",
    "The $Q$-matrix, $Q'Q=I$ does not depend on the correlation coefficients. Identical for all block matrices with the same block structure."
   ]
  },
  {
   "cell_type": "code",
   "execution_count": 2,
   "id": "8a26f70a",
   "metadata": {
    "tags": []
   },
   "outputs": [
    {
     "data": {
      "text/plain": [
       "MakeQ (generic function with 1 method)"
      ]
     },
     "execution_count": 2,
     "metadata": {},
     "output_type": "execute_result"
    }
   ],
   "source": [
    "# Function that creates the Q-matrix for a Block Correlation matrix\n",
    "function MakeQ(nK)   # nK is vector with block dimensions\n",
    "    K = size(nK,1)   # number of blocks\n",
    "    n = sum(nK)      # dimension of C matrix\n",
    "    Q = zeros(n,n)\n",
    "    i₀=0\n",
    "    for k in 1:K\n",
    "        nₖ = nK[k]\n",
    "        v  = ones(nₖ,1)./ √nₖ\n",
    "        Q[i₀+1:i₀+nₖ,k] = v\n",
    "        if nₖ>1\n",
    "            v⊥ = eigvecs(I(nₖ)-v*v')[:,2:end]\n",
    "            Q[i₀+1:i₀+nₖ,K+i₀+1-(k-1):K+i₀+nₖ-1-(k-1)] = v⊥\n",
    "        end\n",
    "        i₀ = i₀ + nₖ\n",
    "    end\n",
    "    Q\n",
    "end      "
   ]
  },
  {
   "cell_type": "code",
   "execution_count": 3,
   "id": "1a22f8b3",
   "metadata": {
    "tags": []
   },
   "outputs": [
    {
     "data": {
      "text/latex": [
       "\\begin{equation}\n",
       "\\left[\n",
       "\\begin{array}{cccccccccc}\n",
       "0.707 & 0 & 0 & 0 & -0.707 & 0 & 0 & 0 & 0 & 0 \\\\\n",
       "0.707 & 0 & 0 & 0 & 0.707 & 0 & 0 & 0 & 0 & 0 \\\\\n",
       "0 & 0.5 & 0 & 0 & 0 & -0.38 & 0.723 & -0.289 & 0 & 0 \\\\\n",
       "0 & 0.5 & 0 & 0 & 0 & -0.436 & -0.691 & -0.289 & 0 & 0 \\\\\n",
       "0 & 0.5 & 0 & 0 & 0 & 0.816 & -0.0321 & -0.289 & 0 & 0 \\\\\n",
       "0 & 0.5 & 0 & 0 & 0 & 0 & 0 & 0.866 & 0 & 0 \\\\\n",
       "0 & 0 & 0.577 & 0 & 0 & 0 & 0 & 0 & 0.707 & -0.408 \\\\\n",
       "0 & 0 & 0.577 & 0 & 0 & 0 & 0 & 0 & -0.707 & -0.408 \\\\\n",
       "0 & 0 & 0.577 & 0 & 0 & 0 & 0 & 0 & 0 & 0.816 \\\\\n",
       "0 & 0 & 0 & 1 & 0 & 0 & 0 & 0 & 0 & 0 \\\\\n",
       "\\end{array}\n",
       "\\right]\n",
       "\\end{equation}\n"
      ],
      "text/plain": [
       "\"\\\\begin{equation}\\n\\\\left[\\n\\\\begin{array}{cccccccccc}\\n0.707 & 0 & 0 & 0 & -0.707 & 0 & 0 & 0 & 0 & 0 \\\\\\\\\\n0.707 & 0 & 0 & 0 & 0.707 & 0 & 0 & 0 & 0 & 0 \\\\\\\\\\n0 & 0.5 & 0 & 0 & 0 & -0.38 & 0.723 & -0.289 & 0 & 0 \\\\\\\\\\n0 & 0.5 & 0 & 0 & 0 & -0.436 & -0.691 & -0.289 & 0 & 0 \\\\\\\\\\n0 & 0.5 \" ⋯ 60 bytes ⋯ \"0 & 0 & 0 & 0 & 0 & 0.866 & 0 & 0 \\\\\\\\\\n0 & 0 & 0.577 & 0 & 0 & 0 & 0 & 0 & 0.707 & -0.408 \\\\\\\\\\n0 & 0 & 0.577 & 0 & 0 & 0 & 0 & 0 & -0.707 & -0.408 \\\\\\\\\\n0 & 0 & 0.577 & 0 & 0 & 0 & 0 & 0 & 0 & 0.816 \\\\\\\\\\n0 & 0 & 0 & 1 & 0 & 0 & 0 & 0 & 0 & 0 \\\\\\\\\\n\\\\end{array}\\n\\\\right]\\n\\\\end{equation}\\n\""
      ]
     },
     "execution_count": 3,
     "metadata": {},
     "output_type": "execute_result"
    }
   ],
   "source": [
    "nK = [2,4,3,1]\n",
    "Q = MakeQ(nK)\n",
    "latexify(Q; fmt = \"%.3g\")"
   ]
  },
  {
   "cell_type": "code",
   "execution_count": 4,
   "id": "0b8cf33f",
   "metadata": {
    "tags": []
   },
   "outputs": [
    {
     "data": {
      "text/plain": [
       "MakeD (generic function with 1 method)"
      ]
     },
     "execution_count": 4,
     "metadata": {},
     "output_type": "execute_result"
    }
   ],
   "source": [
    "function MakeD(Cc,nK)\n",
    "    K  = size(Cc,1)      # number of blocks\n",
    "    n  = sum(nK)         # size of matrix\n",
    "    D  = zeros(n,n)      #initialize\n",
    "    Λₙ = Diagonal(sqrt.(nK))\n",
    "    A  = Λₙ*Cc*Λₙ-Diagonal(diag(Cc .- 1)) \n",
    "    D[1:K,1:K] = A  #   \n",
    "    idx = K\n",
    "    for k in 1:K\n",
    "        if nK[k] > 1\n",
    "            for i = idx+1:idx+nK[k]-1\n",
    "                D[i,i] = 1-Cc[k,k]\n",
    "                idx +=1\n",
    "            end\n",
    "        end\n",
    "    end\n",
    "    return D\n",
    "end"
   ]
  },
  {
   "cell_type": "code",
   "execution_count": 5,
   "id": "9b60546d",
   "metadata": {
    "tags": []
   },
   "outputs": [
    {
     "data": {
      "text/latex": [
       "\\begin{equation}\n",
       "\\left[\n",
       "\\begin{array}{cccc}\n",
       "0.813 & -0.113 & 0.491 & 0.0242 \\\\\n",
       "-0.113 & -0.332 & -0.145 & 0.735 \\\\\n",
       "0.491 & -0.145 & 0.384 & -0.727 \\\\\n",
       "0.0242 & 0.735 & -0.727 & 0.919 \\\\\n",
       "\\end{array}\n",
       "\\right]\n",
       "\\end{equation}\n"
      ],
      "text/plain": [
       "L\"\\begin{equation}\n",
       "\\left[\n",
       "\\begin{array}{cccc}\n",
       "0.813 & -0.113 & 0.491 & 0.0242 \\\\\n",
       "-0.113 & -0.332 & -0.145 & 0.735 \\\\\n",
       "0.491 & -0.145 & 0.384 & -0.727 \\\\\n",
       "0.0242 & 0.735 & -0.727 & 0.919 \\\\\n",
       "\\end{array}\n",
       "\\right]\n",
       "\\end{equation}\n",
       "\""
      ]
     },
     "execution_count": 5,
     "metadata": {},
     "output_type": "execute_result"
    }
   ],
   "source": [
    "# Fill Block matrix with random vars on [-1,1] (may not be psd)\n",
    "using Random\n",
    "Random.seed!(123);\n",
    "K = size(nK,1)\n",
    "Cc = 2*rand(K,K) .-1\n",
    "for k=1:K-1, l=k+1:K\n",
    "    Cc[k,l] = Cc[l,k]\n",
    "end\n",
    "latexify(Cc; fmt = \"%.3g\")"
   ]
  },
  {
   "cell_type": "code",
   "execution_count": 6,
   "id": "56a44de9",
   "metadata": {
    "tags": []
   },
   "outputs": [
    {
     "data": {
      "text/latex": [
       "\\begin{equation}\n",
       "\\left[\n",
       "\\begin{array}{cccccccccc}\n",
       "1.81 & -0.32 & 1.2 & 0.0342 & 0 & 0 & 0 & 0 & 0 & 0 \\\\\n",
       "-0.32 & 0.00491 & -0.503 & 1.47 & 0 & 0 & 0 & 0 & 0 & 0 \\\\\n",
       "1.2 & -0.503 & 1.77 & -1.26 & 0 & 0 & 0 & 0 & 0 & 0 \\\\\n",
       "0.0342 & 1.47 & -1.26 & 1 & 0 & 0 & 0 & 0 & 0 & 0 \\\\\n",
       "0 & 0 & 0 & 0 & 0.187 & 0 & 0 & 0 & 0 & 0 \\\\\n",
       "0 & 0 & 0 & 0 & 0 & 1.33 & 0 & 0 & 0 & 0 \\\\\n",
       "0 & 0 & 0 & 0 & 0 & 0 & 1.33 & 0 & 0 & 0 \\\\\n",
       "0 & 0 & 0 & 0 & 0 & 0 & 0 & 1.33 & 0 & 0 \\\\\n",
       "0 & 0 & 0 & 0 & 0 & 0 & 0 & 0 & 0.616 & 0 \\\\\n",
       "0 & 0 & 0 & 0 & 0 & 0 & 0 & 0 & 0 & 0.616 \\\\\n",
       "\\end{array}\n",
       "\\right]\n",
       "\\end{equation}\n"
      ],
      "text/plain": [
       "\"\\\\begin{equation}\\n\\\\left[\\n\\\\begin{array}{cccccccccc}\\n1.81 & -0.32 & 1.2 & 0.0342 & 0 & 0 & 0 & 0 & 0 & 0 \\\\\\\\\\n-0.32 & 0.00491 & -0.503 & 1.47 & 0 & 0 & 0 & 0 & 0 & 0 \\\\\\\\\\n1.2 & -0.503 & 1.77 & -1.26 & 0 & 0 & 0 & 0 & 0 & 0 \\\\\\\\\\n0.0342 & 1.47 & -1.26 & 1 & 0 & 0 & 0 & 0 & 0 & 0 \\\\\\\\\" ⋯ 32 bytes ⋯ \" 0 & 0 & 0 \\\\\\\\\\n0 & 0 & 0 & 0 & 0 & 1.33 & 0 & 0 & 0 & 0 \\\\\\\\\\n0 & 0 & 0 & 0 & 0 & 0 & 1.33 & 0 & 0 & 0 \\\\\\\\\\n0 & 0 & 0 & 0 & 0 & 0 & 0 & 1.33 & 0 & 0 \\\\\\\\\\n0 & 0 & 0 & 0 & 0 & 0 & 0 & 0 & 0.616 & 0 \\\\\\\\\\n0 & 0 & 0 & 0 & 0 & 0 & 0 & 0 & 0 & 0.616 \\\\\\\\\\n\\\\end{array}\\n\\\\right]\\n\\\\end{equation}\\n\""
      ]
     },
     "execution_count": 6,
     "metadata": {},
     "output_type": "execute_result"
    }
   ],
   "source": [
    "D = MakeD(Cc,nK)\n",
    "latexify(D; fmt = \"%.3g\")"
   ]
  },
  {
   "cell_type": "code",
   "execution_count": 7,
   "id": "45dd7f6e",
   "metadata": {
    "tags": []
   },
   "outputs": [
    {
     "data": {
      "text/latex": [
       "\\begin{equation}\n",
       "\\left[\n",
       "\\begin{array}{cccccccccc}\n",
       "1 & 0.813 & -0.113 & -0.113 & -0.113 & -0.113 & 0.491 & 0.491 & 0.491 & 0.0242 \\\\\n",
       "0.813 & 1 & -0.113 & -0.113 & -0.113 & -0.113 & 0.491 & 0.491 & 0.491 & 0.0242 \\\\\n",
       "-0.113 & -0.113 & 1 & -0.332 & -0.332 & -0.332 & -0.145 & -0.145 & -0.145 & 0.735 \\\\\n",
       "-0.113 & -0.113 & -0.332 & 1 & -0.332 & -0.332 & -0.145 & -0.145 & -0.145 & 0.735 \\\\\n",
       "-0.113 & -0.113 & -0.332 & -0.332 & 1 & -0.332 & -0.145 & -0.145 & -0.145 & 0.735 \\\\\n",
       "-0.113 & -0.113 & -0.332 & -0.332 & -0.332 & 1 & -0.145 & -0.145 & -0.145 & 0.735 \\\\\n",
       "0.491 & 0.491 & -0.145 & -0.145 & -0.145 & -0.145 & 1 & 0.384 & 0.384 & -0.727 \\\\\n",
       "0.491 & 0.491 & -0.145 & -0.145 & -0.145 & -0.145 & 0.384 & 1 & 0.384 & -0.727 \\\\\n",
       "0.491 & 0.491 & -0.145 & -0.145 & -0.145 & -0.145 & 0.384 & 0.384 & 1 & -0.727 \\\\\n",
       "0.0242 & 0.0242 & 0.735 & 0.735 & 0.735 & 0.735 & -0.727 & -0.727 & -0.727 & 1 \\\\\n",
       "\\end{array}\n",
       "\\right]\n",
       "\\end{equation}\n"
      ],
      "text/plain": [
       "\"\\\\begin{equation}\\n\\\\left[\\n\\\\begin{array}{cccccccccc}\\n1 & 0.813 & -0.113 & -0.113 & -0.113 & -0.113 & 0.491 & 0.491 & 0.491 & 0.0242 \\\\\\\\\\n0.813 & 1 & -0.113 & -0.113 & -0.113 & -0.113 & 0.491 & 0.491 & 0.491 & 0.0242 \\\\\\\\\\n-0.113 & -0.113 & 1 & -0.332 & -0.332 & -0.332 & -0.145 &\" ⋯ 376 bytes ⋯ \"91 & -0.145 & -0.145 & -0.145 & -0.145 & 0.384 & 1 & 0.384 & -0.727 \\\\\\\\\\n0.491 & 0.491 & -0.145 & -0.145 & -0.145 & -0.145 & 0.384 & 0.384 & 1 & -0.727 \\\\\\\\\\n0.0242 & 0.0242 & 0.735 & 0.735 & 0.735 & 0.735 & -0.727 & -0.727 & -0.727 & 1 \\\\\\\\\\n\\\\end{array}\\n\\\\right]\\n\\\\end{equation}\\n\""
      ]
     },
     "execution_count": 7,
     "metadata": {},
     "output_type": "execute_result"
    }
   ],
   "source": [
    "C = Q*D*Q'\n",
    "latexify(C; fmt = \"%.3g\")"
   ]
  },
  {
   "cell_type": "code",
   "execution_count": 8,
   "id": "474ddfa3",
   "metadata": {
    "tags": []
   },
   "outputs": [
    {
     "name": "stdout",
     "output_type": "stream",
     "text": [
      "Smallest eigenvalue is: λmin = -1.170722907487592      .....UPS!"
     ]
    }
   ],
   "source": [
    "print(\"Smallest eigenvalue is: λmin = \" ,eigmin(C),\"      .....UPS!\")"
   ]
  },
  {
   "cell_type": "markdown",
   "id": "04ae9d26",
   "metadata": {},
   "source": [
    "## Let's find a valid C and take (matrix) logarithm: log $G=\\log(C)$.\n",
    "First we need a valid $C$ (one without negative eigenvalues)."
   ]
  },
  {
   "cell_type": "code",
   "execution_count": 9,
   "id": "345bbfcb",
   "metadata": {
    "tags": []
   },
   "outputs": [
    {
     "name": "stdout",
     "output_type": "stream",
     "text": [
      "Smallest eigenvalue is = 0.014684833965074227"
     ]
    }
   ],
   "source": [
    "Random.seed!(12); # this one will generate a proper C\n",
    "K = size(nK,1)\n",
    "Cc = rand(K,K) .- 0.5\n",
    "for k=1:K-1, l=k+1:K\n",
    "    Cc[k,l] = Cc[l,k]\n",
    "end\n",
    "D = MakeD(Cc,nK)\n",
    "C = Q*D*Q'\n",
    "print(\"Smallest eigenvalue is = \" , eigmin(C))"
   ]
  },
  {
   "cell_type": "markdown",
   "id": "156ba5ac",
   "metadata": {},
   "source": [
    "# Same Block Structure in log(C) (matrix logarithm)"
   ]
  },
  {
   "cell_type": "code",
   "execution_count": 10,
   "id": "6b24c82e",
   "metadata": {
    "tags": []
   },
   "outputs": [
    {
     "data": {
      "text/latex": [
       "\\begin{equation}\n",
       "\\left[\n",
       "\\begin{array}{cccccccccc}\n",
       "-0.77 & -0.64 & 0.51 & 0.51 & 0.51 & 0.51 & 0.67 & 0.67 & 0.67 & 0.51 \\\\\n",
       "-0.64 & -0.77 & 0.51 & 0.51 & 0.51 & 0.51 & 0.67 & 0.67 & 0.67 & 0.51 \\\\\n",
       "0.51 & 0.51 & -0.37 & 0.15 & 0.15 & 0.15 & -0.26 & -0.26 & -0.26 & -0.44 \\\\\n",
       "0.51 & 0.51 & 0.15 & -0.37 & 0.15 & 0.15 & -0.26 & -0.26 & -0.26 & -0.44 \\\\\n",
       "0.51 & 0.51 & 0.15 & 0.15 & -0.37 & 0.15 & -0.26 & -0.26 & -0.26 & -0.44 \\\\\n",
       "0.51 & 0.51 & 0.15 & 0.15 & 0.15 & -0.37 & -0.26 & -0.26 & -0.26 & -0.44 \\\\\n",
       "0.67 & 0.67 & -0.26 & -0.26 & -0.26 & -0.26 & -0.4 & -0.18 & -0.18 & -0.67 \\\\\n",
       "0.67 & 0.67 & -0.26 & -0.26 & -0.26 & -0.26 & -0.18 & -0.4 & -0.18 & -0.67 \\\\\n",
       "0.67 & 0.67 & -0.26 & -0.26 & -0.26 & -0.26 & -0.18 & -0.18 & -0.4 & -0.67 \\\\\n",
       "0.51 & 0.51 & -0.44 & -0.44 & -0.44 & -0.44 & -0.67 & -0.67 & -0.67 & -0.66 \\\\\n",
       "\\end{array}\n",
       "\\right]\n",
       "\\end{equation}\n"
      ],
      "text/plain": [
       "\"\\\\begin{equation}\\n\\\\left[\\n\\\\begin{array}{cccccccccc}\\n-0.77 & -0.64 & 0.51 & 0.51 & 0.51 & 0.51 & 0.67 & 0.67 & 0.67 & 0.51 \\\\\\\\\\n-0.64 & -0.77 & 0.51 & 0.51 & 0.51 & 0.51 & 0.67 & 0.67 & 0.67 & 0.51 \\\\\\\\\\n0.51 & 0.51 & -0.37 & 0.15 & 0.15 & 0.15 & -0.26 & -0.26 & -0.26 & -0.44 \\\\\\\\\" ⋯ 307 bytes ⋯ \"0.67 & 0.67 & -0.26 & -0.26 & -0.26 & -0.26 & -0.18 & -0.4 & -0.18 & -0.67 \\\\\\\\\\n0.67 & 0.67 & -0.26 & -0.26 & -0.26 & -0.26 & -0.18 & -0.18 & -0.4 & -0.67 \\\\\\\\\\n0.51 & 0.51 & -0.44 & -0.44 & -0.44 & -0.44 & -0.67 & -0.67 & -0.67 & -0.66 \\\\\\\\\\n\\\\end{array}\\n\\\\right]\\n\\\\end{equation}\\n\""
      ]
     },
     "execution_count": 10,
     "metadata": {},
     "output_type": "execute_result"
    }
   ],
   "source": [
    "latexify(real(log(C)); fmt = \"%.2g\")"
   ]
  },
  {
   "cell_type": "markdown",
   "id": "9b4d9ca9",
   "metadata": {},
   "source": [
    "## Using Contraction Algorithm will work\n",
    "\n",
    "Create a block matrix with $\\gamma$ element, leaving its diagonal to be determined.\n",
    "\n",
    "Here is a block matrix $G[0]$. "
   ]
  },
  {
   "cell_type": "code",
   "execution_count": 11,
   "id": "cdc45072",
   "metadata": {
    "tags": []
   },
   "outputs": [
    {
     "data": {
      "text/latex": [
       "\\begin{equation}\n",
       "\\left[\n",
       "\\begin{array}{cccccccccc}\n",
       "0 & -0.639 & 0.514 & 0.514 & 0.514 & 0.514 & 0.671 & 0.671 & 0.671 & 0.508 \\\\\n",
       "-0.639 & 0 & 0.514 & 0.514 & 0.514 & 0.514 & 0.671 & 0.671 & 0.671 & 0.508 \\\\\n",
       "0.514 & 0.514 & 0 & 0.155 & 0.155 & 0.155 & -0.264 & -0.264 & -0.264 & -0.437 \\\\\n",
       "0.514 & 0.514 & 0.155 & 0 & 0.155 & 0.155 & -0.264 & -0.264 & -0.264 & -0.437 \\\\\n",
       "0.514 & 0.514 & 0.155 & 0.155 & 0 & 0.155 & -0.264 & -0.264 & -0.264 & -0.437 \\\\\n",
       "0.514 & 0.514 & 0.155 & 0.155 & 0.155 & 0 & -0.264 & -0.264 & -0.264 & -0.437 \\\\\n",
       "0.671 & 0.671 & -0.264 & -0.264 & -0.264 & -0.264 & 0 & -0.181 & -0.181 & -0.666 \\\\\n",
       "0.671 & 0.671 & -0.264 & -0.264 & -0.264 & -0.264 & -0.181 & 0 & -0.181 & -0.666 \\\\\n",
       "0.671 & 0.671 & -0.264 & -0.264 & -0.264 & -0.264 & -0.181 & -0.181 & 0 & -0.666 \\\\\n",
       "0.508 & 0.508 & -0.437 & -0.437 & -0.437 & -0.437 & -0.666 & -0.666 & -0.666 & 0 \\\\\n",
       "\\end{array}\n",
       "\\right]\n",
       "\\end{equation}\n"
      ],
      "text/plain": [
       "\"\\\\begin{equation}\\n\\\\left[\\n\\\\begin{array}{cccccccccc}\\n0 & -0.639 & 0.514 & 0.514 & 0.514 & 0.514 & 0.671 & 0.671 & 0.671 & 0.508 \\\\\\\\\\n-0.639 & 0 & 0.514 & 0.514 & 0.514 & 0.514 & 0.671 & 0.671 & 0.671 & 0.508 \\\\\\\\\\n0.514 & 0.514 & 0 & 0.155 & 0.155 & 0.155 & -0.264 & -0.264 & -0.\" ⋯ 360 bytes ⋯ \"0.264 & -0.264 & -0.264 & -0.264 & -0.181 & 0 & -0.181 & -0.666 \\\\\\\\\\n0.671 & 0.671 & -0.264 & -0.264 & -0.264 & -0.264 & -0.181 & -0.181 & 0 & -0.666 \\\\\\\\\\n0.508 & 0.508 & -0.437 & -0.437 & -0.437 & -0.437 & -0.666 & -0.666 & -0.666 & 0 \\\\\\\\\\n\\\\end{array}\\n\\\\right]\\n\\\\end{equation}\\n\""
      ]
     },
     "execution_count": 11,
     "metadata": {},
     "output_type": "execute_result"
    }
   ],
   "source": [
    "G = real(log(C))\n",
    "[G[i,i] = 0 for i = 1:size(G,1)]\n",
    "latexify(G; fmt = \"%.3g\")"
   ]
  },
  {
   "cell_type": "markdown",
   "id": "0bcc6e07",
   "metadata": {},
   "source": [
    "Let's determine $x$ such that $G[x]$ is a correlation matrix."
   ]
  },
  {
   "cell_type": "code",
   "execution_count": 12,
   "id": "fabf3339",
   "metadata": {
    "tags": []
   },
   "outputs": [
    {
     "data": {
      "text/plain": [
       "10×10 Symmetric{Float64, Matrix{Float64}}:\n",
       "  1.0        0.125279   0.350311  …   0.301272   0.301272  -0.181649\n",
       "  0.125279   1.0        0.350311      0.301272   0.301272  -0.181649\n",
       "  0.350311   0.350311   1.0          -0.024546  -0.024546  -0.286277\n",
       "  0.350311   0.350311   0.407512     -0.024546  -0.024546  -0.286277\n",
       "  0.350311   0.350311   0.407512     -0.024546  -0.024546  -0.286277\n",
       "  0.350311   0.350311   0.407512  …  -0.024546  -0.024546  -0.286277\n",
       "  0.301272   0.301272  -0.024546      0.193246   0.193246  -0.346991\n",
       "  0.301272   0.301272  -0.024546      1.0        0.193246  -0.346991\n",
       "  0.301272   0.301272  -0.024546      0.193246   1.0       -0.346991\n",
       " -0.181649  -0.181649  -0.286277     -0.346991  -0.346991   1.0"
      ]
     },
     "execution_count": 12,
     "metadata": {},
     "output_type": "execute_result"
    }
   ],
   "source": [
    "function GFTstep!(G,Δx)   # the \"!\" is important for speed. So is \".\" in code below. Modifying memory\n",
    "    Δx .= log.(diag(exp(G)))\n",
    "    for i∈1:length(Δx)\n",
    "        G[i,i] -= Δx[i]   # update diagonal elements\n",
    "    end\n",
    "end\n",
    "function GFT(G, ϵ::Float64 = 1e-12)\n",
    "    n = size(G,1)\n",
    "    δ = Inf; N = -1; Δx = ones(n,1)   # initialize\n",
    "    while δ > sqrt(n)*ϵ\n",
    "        GFTstep!(G,Δx)                # GFTstep updated diagonal of A, the\n",
    "        δ = norm(Δx)                  # convergence is defined by δ\n",
    "        N = N + 1\n",
    "    end\n",
    "    return Symmetric(exp(G)), N\n",
    "end\n",
    "C,N = GFT(G)\n",
    "C"
   ]
  },
  {
   "cell_type": "markdown",
   "id": "082bb3e1",
   "metadata": {},
   "source": [
    "## Generating block-C from arbitrary block-G"
   ]
  },
  {
   "cell_type": "code",
   "execution_count": 13,
   "id": "6fe17cf7",
   "metadata": {
    "tags": []
   },
   "outputs": [
    {
     "data": {
      "text/latex": [
       "\\begin{equation}\n",
       "\\left[\n",
       "\\begin{array}{ccccccccc}\n",
       "0.00 & 1.39 & 1.39 & -0.36 & -0.36 & -0.36 & 0.37 & 0.67 & 0.67 \\\\\n",
       "1.39 & 0.00 & 1.39 & -0.36 & -0.36 & -0.36 & 0.37 & 0.67 & 0.67 \\\\\n",
       "1.39 & 1.39 & 0.00 & -0.36 & -0.36 & -0.36 & 0.37 & 0.67 & 0.67 \\\\\n",
       "-0.36 & -0.36 & -0.36 & 0.00 & 1.04 & 1.04 & -0.10 & -0.64 & -0.64 \\\\\n",
       "-0.36 & -0.36 & -0.36 & 1.04 & 0.00 & 1.04 & -0.10 & -0.64 & -0.64 \\\\\n",
       "-0.36 & -0.36 & -0.36 & 1.04 & 1.04 & 0.00 & -0.10 & -0.64 & -0.64 \\\\\n",
       "0.37 & 0.37 & 0.37 & -0.10 & -0.10 & -0.10 & 0.00 & -0.21 & -0.21 \\\\\n",
       "0.67 & 0.67 & 0.67 & -0.64 & -0.64 & -0.64 & -0.21 & 0.00 & 0.85 \\\\\n",
       "0.67 & 0.67 & 0.67 & -0.64 & -0.64 & -0.64 & -0.21 & 0.85 & 0.00 \\\\\n",
       "\\end{array}\n",
       "\\right]\n",
       "\\end{equation}\n"
      ],
      "text/plain": [
       "\"\\\\begin{equation}\\n\\\\left[\\n\\\\begin{array}{ccccccccc}\\n0.00 & 1.39 & 1.39 & -0.36 & -0.36 & -0.36 & 0.37 & 0.67 & 0.67 \\\\\\\\\\n1.39 & 0.00 & 1.39 & -0.36 & -0.36 & -0.36 & 0.37 & 0.67 & 0.67 \\\\\\\\\\n1.39 & 1.39 & 0.00 & -0.36 & -0.36 & -0.36 & 0.37 & 0.67 & 0.67 \\\\\\\\\\n-0.36 & -0.36 & -0.36\" ⋯ 159 bytes ⋯ \"00 & -0.10 & -0.64 & -0.64 \\\\\\\\\\n0.37 & 0.37 & 0.37 & -0.10 & -0.10 & -0.10 & 0.00 & -0.21 & -0.21 \\\\\\\\\\n0.67 & 0.67 & 0.67 & -0.64 & -0.64 & -0.64 & -0.21 & 0.00 & 0.85 \\\\\\\\\\n0.67 & 0.67 & 0.67 & -0.64 & -0.64 & -0.64 & -0.21 & 0.85 & 0.00 \\\\\\\\\\n\\\\end{array}\\n\\\\right]\\n\\\\end{equation}\\n\""
      ]
     },
     "execution_count": 13,
     "metadata": {},
     "output_type": "execute_result"
    }
   ],
   "source": [
    "function MakeBlockG(Gc,nK)  # Gc = compact form of G\n",
    "    K = size(nK,1)\n",
    "    v_nK = vcat(0,cumsum(nK))\n",
    "    n = v_nK[end]\n",
    "    G = zeros(n,n)\n",
    "    for k in 1:K\n",
    "        i₁ = v_nK[k]+1\n",
    "        i₂ = v_nK[k+1]\n",
    "        G[i₁:i₂,i₁:i₂] .= Gc[k,k]\n",
    "        for l in k+1:K\n",
    "            j₁ = v_nK[l]+1\n",
    "            j₂ = v_nK[l+1]\n",
    "            G[i₁:i₂,j₁:j₂] .= Gc[k,l]         \n",
    "            G[j₁:j₂,i₁:i₂] .= Gc[k,l]       \n",
    "        end\n",
    "    end\n",
    "    G[diagind(G)] .= 0\n",
    "    G\n",
    "end\n",
    "Random.seed!(12)\n",
    "X = randn(K,K)\n",
    "M = X'X./K\n",
    "nK = [ 3,3,1,2]\n",
    "G = MakeBlockG(M,nK)\n",
    "latexify(G; fmt = \"%.2f\")"
   ]
  },
  {
   "cell_type": "code",
   "execution_count": 14,
   "id": "b1936e36",
   "metadata": {
    "tags": []
   },
   "outputs": [
    {
     "name": "stdout",
     "output_type": "stream",
     "text": [
      "N = 48"
     ]
    },
    {
     "data": {
      "text/latex": [
       "\\begin{equation}\n",
       "\\left[\n",
       "\\begin{array}{ccccccccc}\n",
       "1.00 & 0.99 & 0.99 & -0.91 & -0.91 & -0.91 & 0.46 & 0.94 & 0.94 \\\\\n",
       "0.99 & 1.00 & 0.99 & -0.91 & -0.91 & -0.91 & 0.46 & 0.94 & 0.94 \\\\\n",
       "0.99 & 0.99 & 1.00 & -0.91 & -0.91 & -0.91 & 0.46 & 0.94 & 0.94 \\\\\n",
       "-0.91 & -0.91 & -0.91 & 1.00 & 0.97 & 0.97 & -0.33 & -0.94 & -0.94 \\\\\n",
       "-0.91 & -0.91 & -0.91 & 0.97 & 1.00 & 0.97 & -0.33 & -0.94 & -0.94 \\\\\n",
       "-0.91 & -0.91 & -0.91 & 0.97 & 0.97 & 1.00 & -0.33 & -0.94 & -0.94 \\\\\n",
       "0.46 & 0.46 & 0.46 & -0.33 & -0.33 & -0.33 & 1.00 & 0.28 & 0.28 \\\\\n",
       "0.94 & 0.94 & 0.94 & -0.94 & -0.94 & -0.94 & 0.28 & 1.00 & 0.97 \\\\\n",
       "0.94 & 0.94 & 0.94 & -0.94 & -0.94 & -0.94 & 0.28 & 0.97 & 1.00 \\\\\n",
       "\\end{array}\n",
       "\\right]\n",
       "\\end{equation}\n"
      ],
      "text/plain": [
       "\"\\\\begin{equation}\\n\\\\left[\\n\\\\begin{array}{ccccccccc}\\n1.00 & 0.99 & 0.99 & -0.91 & -0.91 & -0.91 & 0.46 & 0.94 & 0.94 \\\\\\\\\\n0.99 & 1.00 & 0.99 & -0.91 & -0.91 & -0.91 & 0.46 & 0.94 & 0.94 \\\\\\\\\\n0.99 & 0.99 & 1.00 & -0.91 & -0.91 & -0.91 & 0.46 & 0.94 & 0.94 \\\\\\\\\\n-0.91 & -0.91 & -0.91\" ⋯ 155 bytes ⋯ \"& 1.00 & -0.33 & -0.94 & -0.94 \\\\\\\\\\n0.46 & 0.46 & 0.46 & -0.33 & -0.33 & -0.33 & 1.00 & 0.28 & 0.28 \\\\\\\\\\n0.94 & 0.94 & 0.94 & -0.94 & -0.94 & -0.94 & 0.28 & 1.00 & 0.97 \\\\\\\\\\n0.94 & 0.94 & 0.94 & -0.94 & -0.94 & -0.94 & 0.28 & 0.97 & 1.00 \\\\\\\\\\n\\\\end{array}\\n\\\\right]\\n\\\\end{equation}\\n\""
      ]
     },
     "execution_count": 14,
     "metadata": {},
     "output_type": "execute_result"
    }
   ],
   "source": [
    "C,N = GFT(G)\n",
    "print(\"N = \", N)\n",
    "latexify(C; fmt = \"%.02f\")"
   ]
  },
  {
   "cell_type": "code",
   "execution_count": 15,
   "id": "7b9f3b69",
   "metadata": {
    "tags": []
   },
   "outputs": [
    {
     "name": "stdout",
     "output_type": "stream",
     "text": [
      "After applying contraction-step 48 times"
     ]
    }
   ],
   "source": [
    "print(\"After applying contraction-step $(N) times\") "
   ]
  },
  {
   "cell_type": "code",
   "execution_count": 16,
   "id": "090a662c-a3a8-4051-97b7-4bef44af3e1a",
   "metadata": {
    "tags": []
   },
   "outputs": [
    {
     "name": "stdout",
     "output_type": "stream",
     "text": [
      "After applying contraction-step 9 times"
     ]
    },
    {
     "data": {
      "text/latex": [
       "\\begin{equation}\n",
       "\\left[\n",
       "\\begin{array}{ccccccccc}\n",
       "1.00 & 0.43 & 0.43 & -0.19 & -0.19 & -0.19 & 0.12 & 0.27 & 0.27 \\\\\n",
       "0.43 & 1.00 & 0.43 & -0.19 & -0.19 & -0.19 & 0.12 & 0.27 & 0.27 \\\\\n",
       "0.43 & 0.43 & 1.00 & -0.19 & -0.19 & -0.19 & 0.12 & 0.27 & 0.27 \\\\\n",
       "-0.19 & -0.19 & -0.19 & 1.00 & 0.33 & 0.33 & -0.04 & -0.25 & -0.25 \\\\\n",
       "-0.19 & -0.19 & -0.19 & 0.33 & 1.00 & 0.33 & -0.04 & -0.25 & -0.25 \\\\\n",
       "-0.19 & -0.19 & -0.19 & 0.33 & 0.33 & 1.00 & -0.04 & -0.25 & -0.25 \\\\\n",
       "0.12 & 0.12 & 0.12 & -0.04 & -0.04 & -0.04 & 1.00 & -0.02 & -0.02 \\\\\n",
       "0.27 & 0.27 & 0.27 & -0.25 & -0.25 & -0.25 & -0.02 & 1.00 & 0.30 \\\\\n",
       "0.27 & 0.27 & 0.27 & -0.25 & -0.25 & -0.25 & -0.02 & 0.30 & 1.00 \\\\\n",
       "\\end{array}\n",
       "\\right]\n",
       "\\end{equation}\n"
      ],
      "text/plain": [
       "\"\\\\begin{equation}\\n\\\\left[\\n\\\\begin{array}{ccccccccc}\\n1.00 & 0.43 & 0.43 & -0.19 & -0.19 & -0.19 & 0.12 & 0.27 & 0.27 \\\\\\\\\\n0.43 & 1.00 & 0.43 & -0.19 & -0.19 & -0.19 & 0.12 & 0.27 & 0.27 \\\\\\\\\\n0.43 & 0.43 & 1.00 & -0.19 & -0.19 & -0.19 & 0.12 & 0.27 & 0.27 \\\\\\\\\\n-0.19 & -0.19 & -0.19\" ⋯ 159 bytes ⋯ \"00 & -0.04 & -0.25 & -0.25 \\\\\\\\\\n0.12 & 0.12 & 0.12 & -0.04 & -0.04 & -0.04 & 1.00 & -0.02 & -0.02 \\\\\\\\\\n0.27 & 0.27 & 0.27 & -0.25 & -0.25 & -0.25 & -0.02 & 1.00 & 0.30 \\\\\\\\\\n0.27 & 0.27 & 0.27 & -0.25 & -0.25 & -0.25 & -0.02 & 0.30 & 1.00 \\\\\\\\\\n\\\\end{array}\\n\\\\right]\\n\\\\end{equation}\\n\""
      ]
     },
     "execution_count": 16,
     "metadata": {},
     "output_type": "execute_result"
    }
   ],
   "source": [
    "Random.seed!(12)\n",
    "X = randn(K,K)\n",
    "M = X'X./K^2\n",
    "nK = [ 3,3,1,2]\n",
    "G = MakeBlockG(M,nK)\n",
    "C,N = GFT(G)\n",
    "print(\"After applying contraction-step $(N) times\") \n",
    "latexify(C; fmt = \"%.02f\")"
   ]
  },
  {
   "cell_type": "markdown",
   "id": "e7ffc142",
   "metadata": {},
   "source": [
    "## Try a bigger one"
   ]
  },
  {
   "cell_type": "code",
   "execution_count": 17,
   "id": "320fddbb",
   "metadata": {
    "tags": []
   },
   "outputs": [
    {
     "data": {
      "text/plain": [
       "1000×1000 Symmetric{Float64, Matrix{Float64}}:\n",
       "  1.0          0.485983     0.485983    …  0.205672    0.205672    0.205672\n",
       "  0.485983     1.0          0.485983       0.205672    0.205672    0.205672\n",
       "  0.485983     0.485983     1.0            0.205672    0.205672    0.205672\n",
       "  0.485983     0.485983     0.485983       0.205672    0.205672    0.205672\n",
       "  0.485983     0.485983     0.485983       0.205672    0.205672    0.205672\n",
       " -0.00726225  -0.00726225  -0.00726225  …  0.00703358  0.00703358  0.00703358\n",
       " -0.00726225  -0.00726225  -0.00726225     0.00703358  0.00703358  0.00703358\n",
       " -0.00726225  -0.00726225  -0.00726225     0.00703358  0.00703358  0.00703358\n",
       " -0.00726225  -0.00726225  -0.00726225     0.00703358  0.00703358  0.00703358\n",
       " -0.00726225  -0.00726225  -0.00726225     0.00703358  0.00703358  0.00703358\n",
       " -0.00726225  -0.00726225  -0.00726225  …  0.00703358  0.00703358  0.00703358\n",
       "  0.0519809    0.0519809    0.0519809      0.0399518   0.0399518   0.0399518\n",
       "  0.0519809    0.0519809    0.0519809      0.0399518   0.0399518   0.0399518\n",
       "  ⋮                                     ⋱                          \n",
       "  0.205672     0.205672     0.205672       0.764082    0.764082    0.764082\n",
       "  0.205672     0.205672     0.205672       0.764082    0.764082    0.764082\n",
       "  0.205672     0.205672     0.205672    …  0.764082    0.764082    0.764082\n",
       "  0.205672     0.205672     0.205672       0.764082    0.764082    0.764082\n",
       "  0.205672     0.205672     0.205672       0.764082    0.764082    0.764082\n",
       "  0.205672     0.205672     0.205672       0.764082    0.764082    0.764082\n",
       "  0.205672     0.205672     0.205672       0.764082    0.764082    0.764082\n",
       "  0.205672     0.205672     0.205672    …  0.764082    0.764082    0.764082\n",
       "  0.205672     0.205672     0.205672       0.764082    0.764082    0.764082\n",
       "  0.205672     0.205672     0.205672       1.0         0.764082    0.764082\n",
       "  0.205672     0.205672     0.205672       0.764082    1.0         0.764082\n",
       "  0.205672     0.205672     0.205672       0.764082    0.764082    1.0"
      ]
     },
     "execution_count": 17,
     "metadata": {},
     "output_type": "execute_result"
    }
   ],
   "source": [
    "nK = [ 5, 6, 7, 8, 9, 11, 12, 13, 14, 15 ]\n",
    "nK = vcat(nK,nK,nK,nK,nK)\n",
    "nK = vcat(nK,nK)\n",
    "n  = sum(nK)\n",
    "K  = size(nK,1)\n",
    "Random.seed!(123)               # save for later\n",
    "Gc = 1.2*randn(K,K)\n",
    "Gc = (Gc'Gc .+ 0.1)./n          # Symmetric random KxK matrix for block construction\n",
    "Gc₀, nK₀ = Gc, nK\n",
    "G = MakeBlockG(Gc₀, nK₀)\n",
    "C,N = GFT(G)\n",
    "C\n",
    "#latexify(C; fmt = \"%.02f\")"
   ]
  },
  {
   "cell_type": "code",
   "execution_count": 18,
   "id": "606a0c9e",
   "metadata": {
    "tags": []
   },
   "outputs": [
    {
     "data": {
      "text/plain": [
       "(21, 0.23142723130701942, -0.4511258480766694, 0.7685727686933737)"
      ]
     },
     "execution_count": 18,
     "metadata": {},
     "output_type": "execute_result"
    }
   ],
   "source": [
    "N, eigmin(C), minimum(C), maximum(C-I(n))"
   ]
  },
  {
   "cell_type": "markdown",
   "id": "cc4ce004",
   "metadata": {},
   "source": [
    "# More Efficiently done with Canonical Form for $G=\\log(C)$\n",
    "$G=\\log(C)$ has the same block structure, with diagonal blocks\n",
    "$$\n",
    "G_{[k,k]} = \n",
    "    \\left[\n",
    "        \\begin{array}{cccc}\n",
    "            y_k &  \\gamma_{k,k}& \\cdots & \\gamma_{k,k}\\\\\n",
    "            \\gamma_{k,k}  & y_k & \\ddots & \\vdots\\\\\n",
    "            \\vdots  & \\ddots & \\ddots & \\gamma_{k,k} \\\\\n",
    "            \\gamma_{k,k}  & \\cdots &\\gamma_{k,k}  & y_k\n",
    "        \\end{array}\n",
    "    \\right]\\in\\mathbb{R}^{n_k\\times n_k},\n",
    "$$\n",
    "\n",
    "where $y_k$, $k=1,\\ldots,K$ denotes the unique diagonal elements of $G$\n",
    "\n",
    "$$ \\mathrm{diag}(G) = (y_1,\\ldots,y_1,\\ldots,y_K,\\ldots,y_K)^\\prime.$$ \n",
    "\n",
    "Thus, $G$ has canonical form \n",
    "\n",
    "$$G=\\log(C) = Q\\tilde{D}Q^{\\prime},\\qquad \n",
    "    \\tilde{D}=\\left[\\begin{array}{cccc}\n",
    "        \\tilde{A}(y) & 0 & \\cdots & 0\\\\\n",
    "0 & (y_1-\\gamma_{11})I_{n_{1}-1} & \\ddots & \\vdots\\\\\n",
    "\\vdots & \\ddots & \\ddots & 0\\\\\n",
    "0 & \\cdots & 0 & (y_K-\\gamma_{KK})I_{n_{K}-1}\n",
    "\\end{array}\\right]$$\n",
    "\n",
    "where $\\tilde{A}$ is a $K\\times K$ matrix, with elements\n",
    "\n",
    "$$\\tilde{A}(y)_{kl}=\\begin{cases}\n",
    "\\gamma_{kk}(n_{k}-1)+ y_k & k=l,\\\\\n",
    "\\gamma_{kl}\\sqrt{n_{k}n_{l}} & i\\neq j.\n",
    "\\end{cases}$$"
   ]
  },
  {
   "cell_type": "markdown",
   "id": "a48b8d8c",
   "metadata": {},
   "source": [
    "## Idea: From $\\tilde{A}$, solve for $y$\n",
    "\n",
    "We can solve for $x^\\ast$, such that $\\exp G[x^\\ast]$ is a correlation matrix using contraction steps. \n",
    "\n",
    "We known that\n",
    "$$ x^\\ast = (y^\\ast_1,\\ldots,y^\\ast_1,\\ldots,y^\\ast_K,\\ldots,y^\\ast_K)^\\prime,$$ where $y^\\ast_1,\\ldots,y^\\ast_K,$ are \n",
    "repeated $n_1,\\ldots,n_K$ times, respectively.\n",
    "\n",
    "If we initialize with a vector with the same structure\n",
    "\n",
    "$$ x^{(0)} = (y^{(0)}_1,\\ldots,y^{(0)}_1,\\ldots,y^{(0)}_K,\\ldots,y^{(0)}_K)^\\prime$$\n",
    "\n",
    "We can undertake the exact same steps using matrices of smaller dimensions, $K\\times K$ instead of $n\\times n$. \n",
    "\n",
    "Because, the $k$-th diagonal block of $\\exp G[x]$ is given by\n",
    "$$\n",
    "[\\exp(\\tilde{A}(y))]_{k,k} P_{n_k} + e^{y_{k}-\\gamma_{kk}}(I-P_{n_k}),\\qquad\n",
    "P_{n_k}  = \\left[\\begin{array}{ccc}\n",
    "            \\tfrac{1}{n_{k}}&  \\cdots & \\tfrac{1}{n_{k}}\\\\\n",
    "            \\vdots  & \\ddots & \\vdots \\\\\n",
    "            \\tfrac{1}{n_{k}}  & \\cdots & \\tfrac{1}{n_{k}}\n",
    "        \\end{array}\\right],\n",
    "$$\n",
    "\n",
    "such that we need \n",
    "$$\n",
    "1= \\frac{[\\exp(\\tilde{A}(y))]_{k,k}}{n_k} + e^{y_{k}-\\gamma_{kk}}(\\frac{n_k-1}{n_k}),\n",
    "$$\n",
    "\n",
    "and the contraction steps (in GFT algorithm) are identical to \n",
    "\n",
    "$$\n",
    "y_k^{(n+1)} = y_k^{(n)} \n",
    "          - \\log \\left(\\frac{[\\exp(\\tilde{A}(y^{(n)}))]_{k,k}}{n_k} + e^{y^{(n)}_{k}-\\gamma_{kk}}(\\frac{n_k-1}{n_k})\\right).\n",
    "$$\n",
    "\n",
    "Notice that \n",
    "$$\\tilde{A}(y) = \\tilde{A}^0 + \\mathrm{diag}(y),\\qquad \\text{where}\\quad \n",
    "\\tilde{A}^0_{kl} =\\begin{cases}\n",
    "\\gamma_{kk}(n_{k}-1) & k=l,\\\\\n",
    "\\gamma_{kl}\\sqrt{n_{k}n_{l}} & i\\neq j.\n",
    "\\end{cases} $$"
   ]
  },
  {
   "cell_type": "markdown",
   "id": "ee5e7781",
   "metadata": {},
   "source": [
    "## Generate Random [Block] Correlation Matrices"
   ]
  },
  {
   "cell_type": "code",
   "execution_count": 23,
   "id": "ff35e1d9",
   "metadata": {
    "tags": []
   },
   "outputs": [
    {
     "data": {
      "text/plain": [
       "Gamma2BlockC (generic function with 2 methods)"
      ]
     },
     "execution_count": 23,
     "metadata": {},
     "output_type": "execute_result"
    }
   ],
   "source": [
    "# generates the block correlation matrix from gammas (in Gc) using block sizes in nK\n",
    "# in: Gc  -- KxK symmetric matrix, with G_kl = G_lk = γ_kl\n",
    "#     nK  -- Kx1 vector with integers defining block sizes\n",
    "#     tol -- (optional) tolerance   \n",
    "function Gamma2BlockC(Gc,nK,tol::Float64 = 1e-12)\n",
    "    Gc = Symmetric(Gc)\n",
    "    K  = size(Gc,1)      # number of blocks\n",
    "    n  = sum(nK)         # size of matrix\n",
    "    Λₙ = Diagonal(sqrt.(nK))\n",
    "    Ã  = Symmetric(Λₙ*Gc*Λₙ-Diagonal(diag(Gc)))  # This is A-tilde\n",
    "    y  = zeros(K)\n",
    "    Δy = ones(K) \n",
    "    while sum(abs.(Δy))>tol\n",
    "        Δy .= real(log.(diag(exp(Ã))./nK .+ (1.0 .- 1.0./nK).*exp.(y-diag(Gc))) )\n",
    "        y -= Δy\n",
    "        for k = 1:K\n",
    "            Ã[k,k] -= Δy[k]   # update diagonal elements\n",
    "        end\n",
    "    end \n",
    "    D  = zeros(n,n)                    # Create D matrix for C\n",
    "    D[1:K,1:K] = exp(Ã)      \n",
    "        idx = K\n",
    "    for k in 1:K\n",
    "        if nK[k] > 1\n",
    "            dₖ = exp(y[k]-Gc[k,k])\n",
    "            for i = idx+1:idx+nK[k]-1\n",
    "                D[i,i] = dₖ\n",
    "                idx +=1\n",
    "            end\n",
    "        end\n",
    "    end\n",
    "    Q = MakeQ(nK)\n",
    "    Symmetric(Q*D*Q')\n",
    "end    "
   ]
  },
  {
   "cell_type": "code",
   "execution_count": 24,
   "id": "a21deaac",
   "metadata": {
    "tags": []
   },
   "outputs": [
    {
     "name": "stdout",
     "output_type": "stream",
     "text": [
      "  41.550 ms (2494 allocations: 42.82 MiB)\n"
     ]
    },
    {
     "data": {
      "text/plain": [
       "1000×1000 Symmetric{Float64, Matrix{Float64}}:\n",
       "  1.0          0.485983     0.485983    …  0.205672    0.205672    0.205672\n",
       "  0.485983     1.0          0.485983       0.205672    0.205672    0.205672\n",
       "  0.485983     0.485983     1.0            0.205672    0.205672    0.205672\n",
       "  0.485983     0.485983     0.485983       0.205672    0.205672    0.205672\n",
       "  0.485983     0.485983     0.485983       0.205672    0.205672    0.205672\n",
       " -0.00726225  -0.00726225  -0.00726225  …  0.00703358  0.00703358  0.00703358\n",
       " -0.00726225  -0.00726225  -0.00726225     0.00703358  0.00703358  0.00703358\n",
       " -0.00726225  -0.00726225  -0.00726225     0.00703358  0.00703358  0.00703358\n",
       " -0.00726225  -0.00726225  -0.00726225     0.00703358  0.00703358  0.00703358\n",
       " -0.00726225  -0.00726225  -0.00726225     0.00703358  0.00703358  0.00703358\n",
       " -0.00726225  -0.00726225  -0.00726225  …  0.00703358  0.00703358  0.00703358\n",
       "  0.0519809    0.0519809    0.0519809      0.0399518   0.0399518   0.0399518\n",
       "  0.0519809    0.0519809    0.0519809      0.0399518   0.0399518   0.0399518\n",
       "  ⋮                                     ⋱                          \n",
       "  0.205672     0.205672     0.205672       0.764082    0.764082    0.764082\n",
       "  0.205672     0.205672     0.205672       0.764082    0.764082    0.764082\n",
       "  0.205672     0.205672     0.205672    …  0.764082    0.764082    0.764082\n",
       "  0.205672     0.205672     0.205672       0.764082    0.764082    0.764082\n",
       "  0.205672     0.205672     0.205672       0.764082    0.764082    0.764082\n",
       "  0.205672     0.205672     0.205672       0.764082    0.764082    0.764082\n",
       "  0.205672     0.205672     0.205672       0.764082    0.764082    0.764082\n",
       "  0.205672     0.205672     0.205672    …  0.764082    0.764082    0.764082\n",
       "  0.205672     0.205672     0.205672       0.764082    0.764082    0.764082\n",
       "  0.205672     0.205672     0.205672       1.0         0.764082    0.764082\n",
       "  0.205672     0.205672     0.205672       0.764082    1.0         0.764082\n",
       "  0.205672     0.205672     0.205672       0.764082    0.764082    1.0"
      ]
     },
     "execution_count": 24,
     "metadata": {},
     "output_type": "execute_result"
    }
   ],
   "source": [
    "#import Pkg; Pkg.add(\"BenchmarkTools\")\n",
    "using BenchmarkTools\n",
    "# The New Way to do it\n",
    "@btime Gamma2BlockC(Gc₀, nK₀)"
   ]
  },
  {
   "cell_type": "markdown",
   "id": "485bee42",
   "metadata": {},
   "source": [
    "How much faster?"
   ]
  },
  {
   "cell_type": "code",
   "execution_count": 25,
   "id": "7f0dea6f",
   "metadata": {
    "tags": []
   },
   "outputs": [
    {
     "data": {
      "text/plain": [
       "Gamma2BlockC_old (generic function with 1 method)"
      ]
     },
     "execution_count": 25,
     "metadata": {},
     "output_type": "execute_result"
    }
   ],
   "source": [
    "function Gamma2BlockC_old(Gc, nK)\n",
    "    G = MakeBlockG(Gc, nK)\n",
    "    C,N = GFT(G)\n",
    "    return C\n",
    "end"
   ]
  },
  {
   "cell_type": "code",
   "execution_count": 26,
   "id": "a2cbe148",
   "metadata": {
    "tags": []
   },
   "outputs": [
    {
     "name": "stdout",
     "output_type": "stream",
     "text": [
      "  7.555 s (536 allocations: 1.04 GiB)\n"
     ]
    },
    {
     "data": {
      "text/plain": [
       "1000×1000 Symmetric{Float64, Matrix{Float64}}:\n",
       "  1.0          0.485983     0.485983    …  0.205672    0.205672    0.205672\n",
       "  0.485983     1.0          0.485983       0.205672    0.205672    0.205672\n",
       "  0.485983     0.485983     1.0            0.205672    0.205672    0.205672\n",
       "  0.485983     0.485983     0.485983       0.205672    0.205672    0.205672\n",
       "  0.485983     0.485983     0.485983       0.205672    0.205672    0.205672\n",
       " -0.00726225  -0.00726225  -0.00726225  …  0.00703358  0.00703358  0.00703358\n",
       " -0.00726225  -0.00726225  -0.00726225     0.00703358  0.00703358  0.00703358\n",
       " -0.00726225  -0.00726225  -0.00726225     0.00703358  0.00703358  0.00703358\n",
       " -0.00726225  -0.00726225  -0.00726225     0.00703358  0.00703358  0.00703358\n",
       " -0.00726225  -0.00726225  -0.00726225     0.00703358  0.00703358  0.00703358\n",
       " -0.00726225  -0.00726225  -0.00726225  …  0.00703358  0.00703358  0.00703358\n",
       "  0.0519809    0.0519809    0.0519809      0.0399518   0.0399518   0.0399518\n",
       "  0.0519809    0.0519809    0.0519809      0.0399518   0.0399518   0.0399518\n",
       "  ⋮                                     ⋱                          \n",
       "  0.205672     0.205672     0.205672       0.764082    0.764082    0.764082\n",
       "  0.205672     0.205672     0.205672       0.764082    0.764082    0.764082\n",
       "  0.205672     0.205672     0.205672    …  0.764082    0.764082    0.764082\n",
       "  0.205672     0.205672     0.205672       0.764082    0.764082    0.764082\n",
       "  0.205672     0.205672     0.205672       0.764082    0.764082    0.764082\n",
       "  0.205672     0.205672     0.205672       0.764082    0.764082    0.764082\n",
       "  0.205672     0.205672     0.205672       0.764082    0.764082    0.764082\n",
       "  0.205672     0.205672     0.205672    …  0.764082    0.764082    0.764082\n",
       "  0.205672     0.205672     0.205672       0.764082    0.764082    0.764082\n",
       "  0.205672     0.205672     0.205672       1.0         0.764082    0.764082\n",
       "  0.205672     0.205672     0.205672       0.764082    1.0         0.764082\n",
       "  0.205672     0.205672     0.205672       0.764082    0.764082    1.0"
      ]
     },
     "execution_count": 26,
     "metadata": {},
     "output_type": "execute_result"
    }
   ],
   "source": [
    "# The Old Way\n",
    "@btime Gamma2BlockC_old(Gc₀, nK₀)"
   ]
  },
  {
   "cell_type": "markdown",
   "id": "c29eb0f1",
   "metadata": {},
   "source": [
    "## This is about ~175x faster and ~30x less memory in this example"
   ]
  },
  {
   "cell_type": "code",
   "execution_count": 27,
   "id": "ca590585",
   "metadata": {
    "tags": []
   },
   "outputs": [
    {
     "data": {
      "text/plain": [
       "1.6711076966657856e-12"
      ]
     },
     "execution_count": 27,
     "metadata": {},
     "output_type": "execute_result"
    }
   ],
   "source": [
    "#Do they give the same solution?\n",
    "maximum(abs.(Gamma2BlockC_old(Gc₀, nK₀).-Gamma2BlockC(Gc₀, nK₀)))"
   ]
  },
  {
   "cell_type": "code",
   "execution_count": 32,
   "id": "c9cff503",
   "metadata": {
    "tags": []
   },
   "outputs": [
    {
     "name": "stdout",
     "output_type": "stream",
     "text": [
      "n = 30     nK = [4, 3, 6, 4, 3, 10]\n",
      "λmin = 0.1593312483564942\n"
     ]
    },
    {
     "data": {
      "text/latex": [
       "\\begin{equation}\n",
       "\\left[\n",
       "\\begin{array}{cccccccccccccccccccccccccccccc}\n",
       "1 & 0.1 & 0.1 & 0.1 & 0.15 & 0.15 & 0.15 & 0.1 & 0.1 & 0.1 & 0.1 & 0.1 & 0.1 & 0.17 & 0.17 & 0.17 & 0.17 & 0.2 & 0.2 & 0.2 & 0.14 & 0.14 & 0.14 & 0.14 & 0.14 & 0.14 & 0.14 & 0.14 & 0.14 & 0.14 \\\\\n",
       "0.1 & 1 & 0.1 & 0.1 & 0.15 & 0.15 & 0.15 & 0.1 & 0.1 & 0.1 & 0.1 & 0.1 & 0.1 & 0.17 & 0.17 & 0.17 & 0.17 & 0.2 & 0.2 & 0.2 & 0.14 & 0.14 & 0.14 & 0.14 & 0.14 & 0.14 & 0.14 & 0.14 & 0.14 & 0.14 \\\\\n",
       "0.1 & 0.1 & 1 & 0.1 & 0.15 & 0.15 & 0.15 & 0.1 & 0.1 & 0.1 & 0.1 & 0.1 & 0.1 & 0.17 & 0.17 & 0.17 & 0.17 & 0.2 & 0.2 & 0.2 & 0.14 & 0.14 & 0.14 & 0.14 & 0.14 & 0.14 & 0.14 & 0.14 & 0.14 & 0.14 \\\\\n",
       "0.1 & 0.1 & 0.1 & 1 & 0.15 & 0.15 & 0.15 & 0.1 & 0.1 & 0.1 & 0.1 & 0.1 & 0.1 & 0.17 & 0.17 & 0.17 & 0.17 & 0.2 & 0.2 & 0.2 & 0.14 & 0.14 & 0.14 & 0.14 & 0.14 & 0.14 & 0.14 & 0.14 & 0.14 & 0.14 \\\\\n",
       "0.15 & 0.15 & 0.15 & 0.15 & 1 & 0.21 & 0.21 & 0.076 & 0.076 & 0.076 & 0.076 & 0.076 & 0.076 & 0.12 & 0.12 & 0.12 & 0.12 & 0.39 & 0.39 & 0.39 & 0.36 & 0.36 & 0.36 & 0.36 & 0.36 & 0.36 & 0.36 & 0.36 & 0.36 & 0.36 \\\\\n",
       "0.15 & 0.15 & 0.15 & 0.15 & 0.21 & 1 & 0.21 & 0.076 & 0.076 & 0.076 & 0.076 & 0.076 & 0.076 & 0.12 & 0.12 & 0.12 & 0.12 & 0.39 & 0.39 & 0.39 & 0.36 & 0.36 & 0.36 & 0.36 & 0.36 & 0.36 & 0.36 & 0.36 & 0.36 & 0.36 \\\\\n",
       "0.15 & 0.15 & 0.15 & 0.15 & 0.21 & 0.21 & 1 & 0.076 & 0.076 & 0.076 & 0.076 & 0.076 & 0.076 & 0.12 & 0.12 & 0.12 & 0.12 & 0.39 & 0.39 & 0.39 & 0.36 & 0.36 & 0.36 & 0.36 & 0.36 & 0.36 & 0.36 & 0.36 & 0.36 & 0.36 \\\\\n",
       "0.1 & 0.1 & 0.1 & 0.1 & 0.076 & 0.076 & 0.076 & 1 & 0.22 & 0.22 & 0.22 & 0.22 & 0.22 & -0.096 & -0.096 & -0.096 & -0.096 & 0.15 & 0.15 & 0.15 & 0.25 & 0.25 & 0.25 & 0.25 & 0.25 & 0.25 & 0.25 & 0.25 & 0.25 & 0.25 \\\\\n",
       "0.1 & 0.1 & 0.1 & 0.1 & 0.076 & 0.076 & 0.076 & 0.22 & 1 & 0.22 & 0.22 & 0.22 & 0.22 & -0.096 & -0.096 & -0.096 & -0.096 & 0.15 & 0.15 & 0.15 & 0.25 & 0.25 & 0.25 & 0.25 & 0.25 & 0.25 & 0.25 & 0.25 & 0.25 & 0.25 \\\\\n",
       "0.1 & 0.1 & 0.1 & 0.1 & 0.076 & 0.076 & 0.076 & 0.22 & 0.22 & 1 & 0.22 & 0.22 & 0.22 & -0.096 & -0.096 & -0.096 & -0.096 & 0.15 & 0.15 & 0.15 & 0.25 & 0.25 & 0.25 & 0.25 & 0.25 & 0.25 & 0.25 & 0.25 & 0.25 & 0.25 \\\\\n",
       "0.1 & 0.1 & 0.1 & 0.1 & 0.076 & 0.076 & 0.076 & 0.22 & 0.22 & 0.22 & 1 & 0.22 & 0.22 & -0.096 & -0.096 & -0.096 & -0.096 & 0.15 & 0.15 & 0.15 & 0.25 & 0.25 & 0.25 & 0.25 & 0.25 & 0.25 & 0.25 & 0.25 & 0.25 & 0.25 \\\\\n",
       "0.1 & 0.1 & 0.1 & 0.1 & 0.076 & 0.076 & 0.076 & 0.22 & 0.22 & 0.22 & 0.22 & 1 & 0.22 & -0.096 & -0.096 & -0.096 & -0.096 & 0.15 & 0.15 & 0.15 & 0.25 & 0.25 & 0.25 & 0.25 & 0.25 & 0.25 & 0.25 & 0.25 & 0.25 & 0.25 \\\\\n",
       "0.1 & 0.1 & 0.1 & 0.1 & 0.076 & 0.076 & 0.076 & 0.22 & 0.22 & 0.22 & 0.22 & 0.22 & 1 & -0.096 & -0.096 & -0.096 & -0.096 & 0.15 & 0.15 & 0.15 & 0.25 & 0.25 & 0.25 & 0.25 & 0.25 & 0.25 & 0.25 & 0.25 & 0.25 & 0.25 \\\\\n",
       "0.17 & 0.17 & 0.17 & 0.17 & 0.12 & 0.12 & 0.12 & -0.096 & -0.096 & -0.096 & -0.096 & -0.096 & -0.096 & 1 & 0.22 & 0.22 & 0.22 & 0.24 & 0.24 & 0.24 & 0.091 & 0.091 & 0.091 & 0.091 & 0.091 & 0.091 & 0.091 & 0.091 & 0.091 & 0.091 \\\\\n",
       "0.17 & 0.17 & 0.17 & 0.17 & 0.12 & 0.12 & 0.12 & -0.096 & -0.096 & -0.096 & -0.096 & -0.096 & -0.096 & 0.22 & 1 & 0.22 & 0.22 & 0.24 & 0.24 & 0.24 & 0.091 & 0.091 & 0.091 & 0.091 & 0.091 & 0.091 & 0.091 & 0.091 & 0.091 & 0.091 \\\\\n",
       "0.17 & 0.17 & 0.17 & 0.17 & 0.12 & 0.12 & 0.12 & -0.096 & -0.096 & -0.096 & -0.096 & -0.096 & -0.096 & 0.22 & 0.22 & 1 & 0.22 & 0.24 & 0.24 & 0.24 & 0.091 & 0.091 & 0.091 & 0.091 & 0.091 & 0.091 & 0.091 & 0.091 & 0.091 & 0.091 \\\\\n",
       "0.17 & 0.17 & 0.17 & 0.17 & 0.12 & 0.12 & 0.12 & -0.096 & -0.096 & -0.096 & -0.096 & -0.096 & -0.096 & 0.22 & 0.22 & 0.22 & 1 & 0.24 & 0.24 & 0.24 & 0.091 & 0.091 & 0.091 & 0.091 & 0.091 & 0.091 & 0.091 & 0.091 & 0.091 & 0.091 \\\\\n",
       "0.2 & 0.2 & 0.2 & 0.2 & 0.39 & 0.39 & 0.39 & 0.15 & 0.15 & 0.15 & 0.15 & 0.15 & 0.15 & 0.24 & 0.24 & 0.24 & 0.24 & 1 & 0.33 & 0.33 & 0.43 & 0.43 & 0.43 & 0.43 & 0.43 & 0.43 & 0.43 & 0.43 & 0.43 & 0.43 \\\\\n",
       "0.2 & 0.2 & 0.2 & 0.2 & 0.39 & 0.39 & 0.39 & 0.15 & 0.15 & 0.15 & 0.15 & 0.15 & 0.15 & 0.24 & 0.24 & 0.24 & 0.24 & 0.33 & 1 & 0.33 & 0.43 & 0.43 & 0.43 & 0.43 & 0.43 & 0.43 & 0.43 & 0.43 & 0.43 & 0.43 \\\\\n",
       "0.2 & 0.2 & 0.2 & 0.2 & 0.39 & 0.39 & 0.39 & 0.15 & 0.15 & 0.15 & 0.15 & 0.15 & 0.15 & 0.24 & 0.24 & 0.24 & 0.24 & 0.33 & 0.33 & 1 & 0.43 & 0.43 & 0.43 & 0.43 & 0.43 & 0.43 & 0.43 & 0.43 & 0.43 & 0.43 \\\\\n",
       "0.14 & 0.14 & 0.14 & 0.14 & 0.36 & 0.36 & 0.36 & 0.25 & 0.25 & 0.25 & 0.25 & 0.25 & 0.25 & 0.091 & 0.091 & 0.091 & 0.091 & 0.43 & 0.43 & 0.43 & 1 & 0.44 & 0.44 & 0.44 & 0.44 & 0.44 & 0.44 & 0.44 & 0.44 & 0.44 \\\\\n",
       "0.14 & 0.14 & 0.14 & 0.14 & 0.36 & 0.36 & 0.36 & 0.25 & 0.25 & 0.25 & 0.25 & 0.25 & 0.25 & 0.091 & 0.091 & 0.091 & 0.091 & 0.43 & 0.43 & 0.43 & 0.44 & 1 & 0.44 & 0.44 & 0.44 & 0.44 & 0.44 & 0.44 & 0.44 & 0.44 \\\\\n",
       "0.14 & 0.14 & 0.14 & 0.14 & 0.36 & 0.36 & 0.36 & 0.25 & 0.25 & 0.25 & 0.25 & 0.25 & 0.25 & 0.091 & 0.091 & 0.091 & 0.091 & 0.43 & 0.43 & 0.43 & 0.44 & 0.44 & 1 & 0.44 & 0.44 & 0.44 & 0.44 & 0.44 & 0.44 & 0.44 \\\\\n",
       "0.14 & 0.14 & 0.14 & 0.14 & 0.36 & 0.36 & 0.36 & 0.25 & 0.25 & 0.25 & 0.25 & 0.25 & 0.25 & 0.091 & 0.091 & 0.091 & 0.091 & 0.43 & 0.43 & 0.43 & 0.44 & 0.44 & 0.44 & 1 & 0.44 & 0.44 & 0.44 & 0.44 & 0.44 & 0.44 \\\\\n",
       "0.14 & 0.14 & 0.14 & 0.14 & 0.36 & 0.36 & 0.36 & 0.25 & 0.25 & 0.25 & 0.25 & 0.25 & 0.25 & 0.091 & 0.091 & 0.091 & 0.091 & 0.43 & 0.43 & 0.43 & 0.44 & 0.44 & 0.44 & 0.44 & 1 & 0.44 & 0.44 & 0.44 & 0.44 & 0.44 \\\\\n",
       "0.14 & 0.14 & 0.14 & 0.14 & 0.36 & 0.36 & 0.36 & 0.25 & 0.25 & 0.25 & 0.25 & 0.25 & 0.25 & 0.091 & 0.091 & 0.091 & 0.091 & 0.43 & 0.43 & 0.43 & 0.44 & 0.44 & 0.44 & 0.44 & 0.44 & 1 & 0.44 & 0.44 & 0.44 & 0.44 \\\\\n",
       "0.14 & 0.14 & 0.14 & 0.14 & 0.36 & 0.36 & 0.36 & 0.25 & 0.25 & 0.25 & 0.25 & 0.25 & 0.25 & 0.091 & 0.091 & 0.091 & 0.091 & 0.43 & 0.43 & 0.43 & 0.44 & 0.44 & 0.44 & 0.44 & 0.44 & 0.44 & 1 & 0.44 & 0.44 & 0.44 \\\\\n",
       "0.14 & 0.14 & 0.14 & 0.14 & 0.36 & 0.36 & 0.36 & 0.25 & 0.25 & 0.25 & 0.25 & 0.25 & 0.25 & 0.091 & 0.091 & 0.091 & 0.091 & 0.43 & 0.43 & 0.43 & 0.44 & 0.44 & 0.44 & 0.44 & 0.44 & 0.44 & 0.44 & 1 & 0.44 & 0.44 \\\\\n",
       "0.14 & 0.14 & 0.14 & 0.14 & 0.36 & 0.36 & 0.36 & 0.25 & 0.25 & 0.25 & 0.25 & 0.25 & 0.25 & 0.091 & 0.091 & 0.091 & 0.091 & 0.43 & 0.43 & 0.43 & 0.44 & 0.44 & 0.44 & 0.44 & 0.44 & 0.44 & 0.44 & 0.44 & 1 & 0.44 \\\\\n",
       "0.14 & 0.14 & 0.14 & 0.14 & 0.36 & 0.36 & 0.36 & 0.25 & 0.25 & 0.25 & 0.25 & 0.25 & 0.25 & 0.091 & 0.091 & 0.091 & 0.091 & 0.43 & 0.43 & 0.43 & 0.44 & 0.44 & 0.44 & 0.44 & 0.44 & 0.44 & 0.44 & 0.44 & 0.44 & 1 \\\\\n",
       "\\end{array}\n",
       "\\right]\n",
       "\\end{equation}\n"
      ],
      "text/plain": [
       "\"\\\\begin{equation}\\n\\\\left[\\n\\\\begin{array}{cccccccccccccccccccccccccccccc}\\n1 & 0.1 & 0.1 & 0.1 & 0.15 & 0.15 & 0.15 & 0.1 & 0.1 & 0.1 & 0.1 & 0.1 & 0.1 & 0.17 & 0.17 & 0.17 & 0.17 & 0.2 & 0.2 & 0.2 & 0.14 & 0.14 & 0.14 & 0.14 & 0.14 & 0.14 & 0.14 & 0.14 & 0.14 & 0.14 \\\\\\\\\\n0.1 \" ⋯ 5933 bytes ⋯ \"4 & 0.44 & 1 & 0.44 \\\\\\\\\\n0.14 & 0.14 & 0.14 & 0.14 & 0.36 & 0.36 & 0.36 & 0.25 & 0.25 & 0.25 & 0.25 & 0.25 & 0.25 & 0.091 & 0.091 & 0.091 & 0.091 & 0.43 & 0.43 & 0.43 & 0.44 & 0.44 & 0.44 & 0.44 & 0.44 & 0.44 & 0.44 & 0.44 & 0.44 & 1 \\\\\\\\\\n\\\\end{array}\\n\\\\right]\\n\\\\end{equation}\\n\""
      ]
     },
     "execution_count": 32,
     "metadata": {},
     "output_type": "execute_result"
    }
   ],
   "source": [
    "K = 6\n",
    "Gc = randn(K,K) .+ 0.6\n",
    "for k=1:K-1, l=k+1:K\n",
    "    Gc[k,l] = Gc[l,k]\n",
    "end\n",
    "#nK = [k for k = 1:K]\n",
    "nK = rand(Poisson(4),K) .+ 1\n",
    "print(\"n = \",sum(nK),\"     nK = \",nK,\"\\n\")\n",
    "Gc = (Gc ./ sqrt(sum(nK)))./2\n",
    "C = Gamma2BlockC(Gc,nK)\n",
    "println(\"λmin = \",eigmin(C))\n",
    "latexify(C; fmt = \"%.2g\")"
   ]
  },
  {
   "cell_type": "code",
   "execution_count": 33,
   "id": "849cbf04",
   "metadata": {
    "tags": []
   },
   "outputs": [
    {
     "data": {
      "image/svg+xml": [
       "<?xml version=\"1.0\" encoding=\"utf-8\"?>\n",
       "<svg xmlns=\"http://www.w3.org/2000/svg\" xmlns:xlink=\"http://www.w3.org/1999/xlink\" width=\"600\" height=\"400\" viewBox=\"0 0 2400 1600\">\n",
       "<defs>\n",
       "  <clipPath id=\"clip720\">\n",
       "    <rect x=\"0\" y=\"0\" width=\"2400\" height=\"1600\"/>\n",
       "  </clipPath>\n",
       "</defs>\n",
       "<path clip-path=\"url(#clip720)\" d=\"\n",
       "M0 1600 L2400 1600 L2400 0 L0 0  Z\n",
       "  \" fill=\"#ffffff\" fill-rule=\"evenodd\" fill-opacity=\"1\"/>\n",
       "<defs>\n",
       "  <clipPath id=\"clip721\">\n",
       "    <rect x=\"480\" y=\"0\" width=\"1681\" height=\"1600\"/>\n",
       "  </clipPath>\n",
       "</defs>\n",
       "<path clip-path=\"url(#clip720)\" d=\"\n",
       "M140.696 1486.45 L2112.76 1486.45 L2112.76 47.2441 L140.696 47.2441  Z\n",
       "  \" fill=\"#ffffff\" fill-rule=\"evenodd\" fill-opacity=\"1\"/>\n",
       "<defs>\n",
       "  <clipPath id=\"clip722\">\n",
       "    <rect x=\"140\" y=\"47\" width=\"1973\" height=\"1440\"/>\n",
       "  </clipPath>\n",
       "</defs>\n",
       "<polyline clip-path=\"url(#clip722)\" style=\"stroke:#000000; stroke-linecap:butt; stroke-linejoin:round; stroke-width:2; stroke-opacity:0.1; fill:none\" points=\"\n",
       "  436.505,47.2441 436.505,1486.45 \n",
       "  \"/>\n",
       "<polyline clip-path=\"url(#clip722)\" style=\"stroke:#000000; stroke-linecap:butt; stroke-linejoin:round; stroke-width:2; stroke-opacity:0.1; fill:none\" points=\"\n",
       "  765.181,47.2441 765.181,1486.45 \n",
       "  \"/>\n",
       "<polyline clip-path=\"url(#clip722)\" style=\"stroke:#000000; stroke-linecap:butt; stroke-linejoin:round; stroke-width:2; stroke-opacity:0.1; fill:none\" points=\"\n",
       "  1093.86,47.2441 1093.86,1486.45 \n",
       "  \"/>\n",
       "<polyline clip-path=\"url(#clip722)\" style=\"stroke:#000000; stroke-linecap:butt; stroke-linejoin:round; stroke-width:2; stroke-opacity:0.1; fill:none\" points=\"\n",
       "  1422.53,47.2441 1422.53,1486.45 \n",
       "  \"/>\n",
       "<polyline clip-path=\"url(#clip722)\" style=\"stroke:#000000; stroke-linecap:butt; stroke-linejoin:round; stroke-width:2; stroke-opacity:0.1; fill:none\" points=\"\n",
       "  1751.21,47.2441 1751.21,1486.45 \n",
       "  \"/>\n",
       "<polyline clip-path=\"url(#clip722)\" style=\"stroke:#000000; stroke-linecap:butt; stroke-linejoin:round; stroke-width:2; stroke-opacity:0.1; fill:none\" points=\"\n",
       "  2079.89,47.2441 2079.89,1486.45 \n",
       "  \"/>\n",
       "<polyline clip-path=\"url(#clip720)\" style=\"stroke:#000000; stroke-linecap:butt; stroke-linejoin:round; stroke-width:4; stroke-opacity:1; fill:none\" points=\"\n",
       "  140.696,1486.45 2112.76,1486.45 \n",
       "  \"/>\n",
       "<polyline clip-path=\"url(#clip720)\" style=\"stroke:#000000; stroke-linecap:butt; stroke-linejoin:round; stroke-width:4; stroke-opacity:1; fill:none\" points=\"\n",
       "  436.505,1486.45 436.505,1467.55 \n",
       "  \"/>\n",
       "<polyline clip-path=\"url(#clip720)\" style=\"stroke:#000000; stroke-linecap:butt; stroke-linejoin:round; stroke-width:4; stroke-opacity:1; fill:none\" points=\"\n",
       "  765.181,1486.45 765.181,1467.55 \n",
       "  \"/>\n",
       "<polyline clip-path=\"url(#clip720)\" style=\"stroke:#000000; stroke-linecap:butt; stroke-linejoin:round; stroke-width:4; stroke-opacity:1; fill:none\" points=\"\n",
       "  1093.86,1486.45 1093.86,1467.55 \n",
       "  \"/>\n",
       "<polyline clip-path=\"url(#clip720)\" style=\"stroke:#000000; stroke-linecap:butt; stroke-linejoin:round; stroke-width:4; stroke-opacity:1; fill:none\" points=\"\n",
       "  1422.53,1486.45 1422.53,1467.55 \n",
       "  \"/>\n",
       "<polyline clip-path=\"url(#clip720)\" style=\"stroke:#000000; stroke-linecap:butt; stroke-linejoin:round; stroke-width:4; stroke-opacity:1; fill:none\" points=\"\n",
       "  1751.21,1486.45 1751.21,1467.55 \n",
       "  \"/>\n",
       "<polyline clip-path=\"url(#clip720)\" style=\"stroke:#000000; stroke-linecap:butt; stroke-linejoin:round; stroke-width:4; stroke-opacity:1; fill:none\" points=\"\n",
       "  2079.89,1486.45 2079.89,1467.55 \n",
       "  \"/>\n",
       "<path clip-path=\"url(#clip720)\" d=\"M426.782 1514.29 L445.139 1514.29 L445.139 1518.22 L431.065 1518.22 L431.065 1526.7 Q432.083 1526.35 433.102 1526.19 Q434.12 1526 435.139 1526 Q440.926 1526 444.305 1529.17 Q447.685 1532.34 447.685 1537.76 Q447.685 1543.34 444.213 1546.44 Q440.741 1549.52 434.421 1549.52 Q432.245 1549.52 429.977 1549.15 Q427.731 1548.78 425.324 1548.04 L425.324 1543.34 Q427.407 1544.47 429.63 1545.03 Q431.852 1545.58 434.329 1545.58 Q438.333 1545.58 440.671 1543.48 Q443.009 1541.37 443.009 1537.76 Q443.009 1534.15 440.671 1532.04 Q438.333 1529.94 434.329 1529.94 Q432.454 1529.94 430.579 1530.35 Q428.727 1530.77 426.782 1531.65 L426.782 1514.29 Z\" fill=\"#000000\" fill-rule=\"evenodd\" fill-opacity=\"1\" /><path clip-path=\"url(#clip720)\" d=\"M739.869 1544.91 L747.508 1544.91 L747.508 1518.55 L739.198 1520.21 L739.198 1515.95 L747.462 1514.29 L752.137 1514.29 L752.137 1544.91 L759.776 1544.91 L759.776 1548.85 L739.869 1548.85 L739.869 1544.91 Z\" fill=\"#000000\" fill-rule=\"evenodd\" fill-opacity=\"1\" /><path clip-path=\"url(#clip720)\" d=\"M779.221 1517.37 Q775.61 1517.37 773.781 1520.93 Q771.975 1524.47 771.975 1531.6 Q771.975 1538.71 773.781 1542.27 Q775.61 1545.82 779.221 1545.82 Q782.855 1545.82 784.66 1542.27 Q786.489 1538.71 786.489 1531.6 Q786.489 1524.47 784.66 1520.93 Q782.855 1517.37 779.221 1517.37 M779.221 1513.66 Q785.031 1513.66 788.086 1518.27 Q791.165 1522.85 791.165 1531.6 Q791.165 1540.33 788.086 1544.94 Q785.031 1549.52 779.221 1549.52 Q773.41 1549.52 770.332 1544.94 Q767.276 1540.33 767.276 1531.6 Q767.276 1522.85 770.332 1518.27 Q773.41 1513.66 779.221 1513.66 Z\" fill=\"#000000\" fill-rule=\"evenodd\" fill-opacity=\"1\" /><path clip-path=\"url(#clip720)\" d=\"M1069.04 1544.91 L1076.68 1544.91 L1076.68 1518.55 L1068.37 1520.21 L1068.37 1515.95 L1076.64 1514.29 L1081.31 1514.29 L1081.31 1544.91 L1088.95 1544.91 L1088.95 1548.85 L1069.04 1548.85 L1069.04 1544.91 Z\" fill=\"#000000\" fill-rule=\"evenodd\" fill-opacity=\"1\" /><path clip-path=\"url(#clip720)\" d=\"M1098.44 1514.29 L1116.8 1514.29 L1116.8 1518.22 L1102.72 1518.22 L1102.72 1526.7 Q1103.74 1526.35 1104.76 1526.19 Q1105.78 1526 1106.8 1526 Q1112.58 1526 1115.96 1529.17 Q1119.34 1532.34 1119.34 1537.76 Q1119.34 1543.34 1115.87 1546.44 Q1112.4 1549.52 1106.08 1549.52 Q1103.9 1549.52 1101.64 1549.15 Q1099.39 1548.78 1096.98 1548.04 L1096.98 1543.34 Q1099.07 1544.47 1101.29 1545.03 Q1103.51 1545.58 1105.99 1545.58 Q1109.99 1545.58 1112.33 1543.48 Q1114.67 1541.37 1114.67 1537.76 Q1114.67 1534.15 1112.33 1532.04 Q1109.99 1529.94 1105.99 1529.94 Q1104.11 1529.94 1102.24 1530.35 Q1100.39 1530.77 1098.44 1531.65 L1098.44 1514.29 Z\" fill=\"#000000\" fill-rule=\"evenodd\" fill-opacity=\"1\" /><path clip-path=\"url(#clip720)\" d=\"M1401.31 1544.91 L1417.63 1544.91 L1417.63 1548.85 L1395.68 1548.85 L1395.68 1544.91 Q1398.35 1542.16 1402.93 1537.53 Q1407.53 1532.88 1408.72 1531.53 Q1410.96 1529.01 1411.84 1527.27 Q1412.74 1525.51 1412.74 1523.82 Q1412.74 1521.07 1410.8 1519.33 Q1408.88 1517.6 1405.78 1517.6 Q1403.58 1517.6 1401.12 1518.36 Q1398.69 1519.13 1395.91 1520.68 L1395.91 1515.95 Q1398.74 1514.82 1401.19 1514.24 Q1403.65 1513.66 1405.68 1513.66 Q1411.05 1513.66 1414.25 1516.35 Q1417.44 1519.03 1417.44 1523.52 Q1417.44 1525.65 1416.63 1527.57 Q1415.84 1529.47 1413.74 1532.07 Q1413.16 1532.74 1410.06 1535.95 Q1406.96 1539.15 1401.31 1544.91 Z\" fill=\"#000000\" fill-rule=\"evenodd\" fill-opacity=\"1\" /><path clip-path=\"url(#clip720)\" d=\"M1437.44 1517.37 Q1433.83 1517.37 1432 1520.93 Q1430.2 1524.47 1430.2 1531.6 Q1430.2 1538.71 1432 1542.27 Q1433.83 1545.82 1437.44 1545.82 Q1441.08 1545.82 1442.88 1542.27 Q1444.71 1538.71 1444.71 1531.6 Q1444.71 1524.47 1442.88 1520.93 Q1441.08 1517.37 1437.44 1517.37 M1437.44 1513.66 Q1443.25 1513.66 1446.31 1518.27 Q1449.39 1522.85 1449.39 1531.6 Q1449.39 1540.33 1446.31 1544.94 Q1443.25 1549.52 1437.44 1549.52 Q1431.63 1549.52 1428.55 1544.94 Q1425.5 1540.33 1425.5 1531.6 Q1425.5 1522.85 1428.55 1518.27 Q1431.63 1513.66 1437.44 1513.66 Z\" fill=\"#000000\" fill-rule=\"evenodd\" fill-opacity=\"1\" /><path clip-path=\"url(#clip720)\" d=\"M1730.48 1544.91 L1746.8 1544.91 L1746.8 1548.85 L1724.86 1548.85 L1724.86 1544.91 Q1727.52 1542.16 1732.1 1537.53 Q1736.71 1532.88 1737.89 1531.53 Q1740.14 1529.01 1741.01 1527.27 Q1741.92 1525.51 1741.92 1523.82 Q1741.92 1521.07 1739.97 1519.33 Q1738.05 1517.6 1734.95 1517.6 Q1732.75 1517.6 1730.3 1518.36 Q1727.87 1519.13 1725.09 1520.68 L1725.09 1515.95 Q1727.91 1514.82 1730.37 1514.24 Q1732.82 1513.66 1734.86 1513.66 Q1740.23 1513.66 1743.42 1516.35 Q1746.62 1519.03 1746.62 1523.52 Q1746.62 1525.65 1745.81 1527.57 Q1745.02 1529.47 1742.91 1532.07 Q1742.33 1532.74 1739.23 1535.95 Q1736.13 1539.15 1730.48 1544.91 Z\" fill=\"#000000\" fill-rule=\"evenodd\" fill-opacity=\"1\" /><path clip-path=\"url(#clip720)\" d=\"M1756.66 1514.29 L1775.02 1514.29 L1775.02 1518.22 L1760.95 1518.22 L1760.95 1526.7 Q1761.96 1526.35 1762.98 1526.19 Q1764 1526 1765.02 1526 Q1770.81 1526 1774.19 1529.17 Q1777.57 1532.34 1777.57 1537.76 Q1777.57 1543.34 1774.09 1546.44 Q1770.62 1549.52 1764.3 1549.52 Q1762.13 1549.52 1759.86 1549.15 Q1757.61 1548.78 1755.2 1548.04 L1755.2 1543.34 Q1757.29 1544.47 1759.51 1545.03 Q1761.73 1545.58 1764.21 1545.58 Q1768.21 1545.58 1770.55 1543.48 Q1772.89 1541.37 1772.89 1537.76 Q1772.89 1534.15 1770.55 1532.04 Q1768.21 1529.94 1764.21 1529.94 Q1762.33 1529.94 1760.46 1530.35 Q1758.61 1530.77 1756.66 1531.65 L1756.66 1514.29 Z\" fill=\"#000000\" fill-rule=\"evenodd\" fill-opacity=\"1\" /><path clip-path=\"url(#clip720)\" d=\"M2068.73 1530.21 Q2072.09 1530.93 2073.96 1533.2 Q2075.86 1535.47 2075.86 1538.8 Q2075.86 1543.92 2072.34 1546.72 Q2068.82 1549.52 2062.34 1549.52 Q2060.17 1549.52 2057.85 1549.08 Q2055.56 1548.66 2053.11 1547.81 L2053.11 1543.29 Q2055.05 1544.43 2057.37 1545.01 Q2059.68 1545.58 2062.2 1545.58 Q2066.6 1545.58 2068.89 1543.85 Q2071.21 1542.11 2071.21 1538.8 Q2071.21 1535.75 2069.05 1534.03 Q2066.93 1532.3 2063.11 1532.3 L2059.08 1532.3 L2059.08 1528.45 L2063.29 1528.45 Q2066.74 1528.45 2068.57 1527.09 Q2070.4 1525.7 2070.4 1523.11 Q2070.4 1520.45 2068.5 1519.03 Q2066.62 1517.6 2063.11 1517.6 Q2061.18 1517.6 2058.99 1518.01 Q2056.79 1518.43 2054.15 1519.31 L2054.15 1515.14 Q2056.81 1514.4 2059.12 1514.03 Q2061.46 1513.66 2063.52 1513.66 Q2068.85 1513.66 2071.95 1516.09 Q2075.05 1518.5 2075.05 1522.62 Q2075.05 1525.49 2073.41 1527.48 Q2071.76 1529.45 2068.73 1530.21 Z\" fill=\"#000000\" fill-rule=\"evenodd\" fill-opacity=\"1\" /><path clip-path=\"url(#clip720)\" d=\"M2094.73 1517.37 Q2091.12 1517.37 2089.29 1520.93 Q2087.48 1524.47 2087.48 1531.6 Q2087.48 1538.71 2089.29 1542.27 Q2091.12 1545.82 2094.73 1545.82 Q2098.36 1545.82 2100.17 1542.27 Q2101.99 1538.71 2101.99 1531.6 Q2101.99 1524.47 2100.17 1520.93 Q2098.36 1517.37 2094.73 1517.37 M2094.73 1513.66 Q2100.54 1513.66 2103.59 1518.27 Q2106.67 1522.85 2106.67 1531.6 Q2106.67 1540.33 2103.59 1544.94 Q2100.54 1549.52 2094.73 1549.52 Q2088.92 1549.52 2085.84 1544.94 Q2082.78 1540.33 2082.78 1531.6 Q2082.78 1522.85 2085.84 1518.27 Q2088.92 1513.66 2094.73 1513.66 Z\" fill=\"#000000\" fill-rule=\"evenodd\" fill-opacity=\"1\" /><polyline clip-path=\"url(#clip722)\" style=\"stroke:#000000; stroke-linecap:butt; stroke-linejoin:round; stroke-width:2; stroke-opacity:0.1; fill:none\" points=\"\n",
       "  140.696,263.125 2112.76,263.125 \n",
       "  \"/>\n",
       "<polyline clip-path=\"url(#clip722)\" style=\"stroke:#000000; stroke-linecap:butt; stroke-linejoin:round; stroke-width:2; stroke-opacity:0.1; fill:none\" points=\"\n",
       "  140.696,502.992 2112.76,502.992 \n",
       "  \"/>\n",
       "<polyline clip-path=\"url(#clip722)\" style=\"stroke:#000000; stroke-linecap:butt; stroke-linejoin:round; stroke-width:2; stroke-opacity:0.1; fill:none\" points=\"\n",
       "  140.696,742.859 2112.76,742.859 \n",
       "  \"/>\n",
       "<polyline clip-path=\"url(#clip722)\" style=\"stroke:#000000; stroke-linecap:butt; stroke-linejoin:round; stroke-width:2; stroke-opacity:0.1; fill:none\" points=\"\n",
       "  140.696,982.727 2112.76,982.727 \n",
       "  \"/>\n",
       "<polyline clip-path=\"url(#clip722)\" style=\"stroke:#000000; stroke-linecap:butt; stroke-linejoin:round; stroke-width:2; stroke-opacity:0.1; fill:none\" points=\"\n",
       "  140.696,1222.59 2112.76,1222.59 \n",
       "  \"/>\n",
       "<polyline clip-path=\"url(#clip722)\" style=\"stroke:#000000; stroke-linecap:butt; stroke-linejoin:round; stroke-width:2; stroke-opacity:0.1; fill:none\" points=\"\n",
       "  140.696,1462.46 2112.76,1462.46 \n",
       "  \"/>\n",
       "<polyline clip-path=\"url(#clip720)\" style=\"stroke:#000000; stroke-linecap:butt; stroke-linejoin:round; stroke-width:4; stroke-opacity:1; fill:none\" points=\"\n",
       "  140.696,47.2441 140.696,1486.45 \n",
       "  \"/>\n",
       "<polyline clip-path=\"url(#clip720)\" style=\"stroke:#000000; stroke-linecap:butt; stroke-linejoin:round; stroke-width:4; stroke-opacity:1; fill:none\" points=\"\n",
       "  140.696,263.125 157.543,263.125 \n",
       "  \"/>\n",
       "<polyline clip-path=\"url(#clip720)\" style=\"stroke:#000000; stroke-linecap:butt; stroke-linejoin:round; stroke-width:4; stroke-opacity:1; fill:none\" points=\"\n",
       "  140.696,502.992 157.543,502.992 \n",
       "  \"/>\n",
       "<polyline clip-path=\"url(#clip720)\" style=\"stroke:#000000; stroke-linecap:butt; stroke-linejoin:round; stroke-width:4; stroke-opacity:1; fill:none\" points=\"\n",
       "  140.696,742.859 157.543,742.859 \n",
       "  \"/>\n",
       "<polyline clip-path=\"url(#clip720)\" style=\"stroke:#000000; stroke-linecap:butt; stroke-linejoin:round; stroke-width:4; stroke-opacity:1; fill:none\" points=\"\n",
       "  140.696,982.727 157.543,982.727 \n",
       "  \"/>\n",
       "<polyline clip-path=\"url(#clip720)\" style=\"stroke:#000000; stroke-linecap:butt; stroke-linejoin:round; stroke-width:4; stroke-opacity:1; fill:none\" points=\"\n",
       "  140.696,1222.59 157.543,1222.59 \n",
       "  \"/>\n",
       "<polyline clip-path=\"url(#clip720)\" style=\"stroke:#000000; stroke-linecap:butt; stroke-linejoin:round; stroke-width:4; stroke-opacity:1; fill:none\" points=\"\n",
       "  140.696,1462.46 157.543,1462.46 \n",
       "  \"/>\n",
       "<path clip-path=\"url(#clip720)\" d=\"M83.7929 245.845 L102.149 245.845 L102.149 249.78 L88.0753 249.78 L88.0753 258.252 Q89.0938 257.905 90.1123 257.743 Q91.1308 257.558 92.1493 257.558 Q97.9363 257.558 101.316 260.729 Q104.696 263.9 104.696 269.317 Q104.696 274.895 101.223 277.997 Q97.7511 281.076 91.4317 281.076 Q89.2558 281.076 86.9873 280.706 Q84.7419 280.335 82.3346 279.594 L82.3346 274.895 Q84.4179 276.03 86.6401 276.585 Q88.8623 277.141 91.3391 277.141 Q95.3437 277.141 97.6817 275.034 Q100.02 272.928 100.02 269.317 Q100.02 265.706 97.6817 263.599 Q95.3437 261.493 91.3391 261.493 Q89.4641 261.493 87.5892 261.909 Q85.7373 262.326 83.7929 263.206 L83.7929 245.845 Z\" fill=\"#000000\" fill-rule=\"evenodd\" fill-opacity=\"1\" /><path clip-path=\"url(#clip720)\" d=\"M53.3995 516.337 L61.0384 516.337 L61.0384 489.971 L52.7282 491.638 L52.7282 487.379 L60.9921 485.712 L65.668 485.712 L65.668 516.337 L73.3068 516.337 L73.3068 520.272 L53.3995 520.272 L53.3995 516.337 Z\" fill=\"#000000\" fill-rule=\"evenodd\" fill-opacity=\"1\" /><path clip-path=\"url(#clip720)\" d=\"M92.7512 488.791 Q89.1401 488.791 87.3114 492.355 Q85.5058 495.897 85.5058 503.027 Q85.5058 510.133 87.3114 513.698 Q89.1401 517.24 92.7512 517.24 Q96.3854 517.24 98.1909 513.698 Q100.02 510.133 100.02 503.027 Q100.02 495.897 98.1909 492.355 Q96.3854 488.791 92.7512 488.791 M92.7512 485.087 Q98.5613 485.087 101.617 489.693 Q104.696 494.277 104.696 503.027 Q104.696 511.753 101.617 516.36 Q98.5613 520.943 92.7512 520.943 Q86.941 520.943 83.8623 516.36 Q80.8068 511.753 80.8068 503.027 Q80.8068 494.277 83.8623 489.693 Q86.941 485.087 92.7512 485.087 Z\" fill=\"#000000\" fill-rule=\"evenodd\" fill-opacity=\"1\" /><path clip-path=\"url(#clip720)\" d=\"M54.3949 756.204 L62.0337 756.204 L62.0337 729.838 L53.7236 731.505 L53.7236 727.246 L61.9874 725.579 L66.6633 725.579 L66.6633 756.204 L74.3022 756.204 L74.3022 760.139 L54.3949 760.139 L54.3949 756.204 Z\" fill=\"#000000\" fill-rule=\"evenodd\" fill-opacity=\"1\" /><path clip-path=\"url(#clip720)\" d=\"M83.7929 725.579 L102.149 725.579 L102.149 729.514 L88.0753 729.514 L88.0753 737.987 Q89.0938 737.639 90.1123 737.477 Q91.1308 737.292 92.1493 737.292 Q97.9363 737.292 101.316 740.463 Q104.696 743.635 104.696 749.051 Q104.696 754.63 101.223 757.732 Q97.7511 760.811 91.4317 760.811 Q89.2558 760.811 86.9873 760.44 Q84.7419 760.07 82.3346 759.329 L82.3346 754.63 Q84.4179 755.764 86.6401 756.32 Q88.8623 756.875 91.3391 756.875 Q95.3437 756.875 97.6817 754.769 Q100.02 752.662 100.02 749.051 Q100.02 745.44 97.6817 743.334 Q95.3437 741.227 91.3391 741.227 Q89.4641 741.227 87.5892 741.644 Q85.7373 742.061 83.7929 742.94 L83.7929 725.579 Z\" fill=\"#000000\" fill-rule=\"evenodd\" fill-opacity=\"1\" /><path clip-path=\"url(#clip720)\" d=\"M56.6171 996.071 L72.9365 996.071 L72.9365 1000.01 L50.9921 1000.01 L50.9921 996.071 Q53.6541 993.317 58.2375 988.687 Q62.8439 984.034 64.0245 982.692 Q66.2698 980.169 67.1494 978.433 Q68.0522 976.673 68.0522 974.984 Q68.0522 972.229 66.1078 970.493 Q64.1865 968.757 61.0847 968.757 Q58.8856 968.757 56.4319 969.521 Q54.0014 970.284 51.2236 971.835 L51.2236 967.113 Q54.0477 965.979 56.5014 965.4 Q58.955 964.822 60.9921 964.822 Q66.3624 964.822 69.5568 967.507 Q72.7513 970.192 72.7513 974.683 Q72.7513 976.812 71.9411 978.734 Q71.1541 980.632 69.0476 983.224 Q68.4689 983.896 65.367 987.113 Q62.2652 990.308 56.6171 996.071 Z\" fill=\"#000000\" fill-rule=\"evenodd\" fill-opacity=\"1\" /><path clip-path=\"url(#clip720)\" d=\"M92.7512 968.525 Q89.1401 968.525 87.3114 972.09 Q85.5058 975.632 85.5058 982.761 Q85.5058 989.868 87.3114 993.433 Q89.1401 996.974 92.7512 996.974 Q96.3854 996.974 98.1909 993.433 Q100.02 989.868 100.02 982.761 Q100.02 975.632 98.1909 972.09 Q96.3854 968.525 92.7512 968.525 M92.7512 964.822 Q98.5613 964.822 101.617 969.428 Q104.696 974.011 104.696 982.761 Q104.696 991.488 101.617 996.095 Q98.5613 1000.68 92.7512 1000.68 Q86.941 1000.68 83.8623 996.095 Q80.8068 991.488 80.8068 982.761 Q80.8068 974.011 83.8623 969.428 Q86.941 964.822 92.7512 964.822 Z\" fill=\"#000000\" fill-rule=\"evenodd\" fill-opacity=\"1\" /><path clip-path=\"url(#clip720)\" d=\"M57.6125 1235.94 L73.9318 1235.94 L73.9318 1239.87 L51.9875 1239.87 L51.9875 1235.94 Q54.6495 1233.18 59.2328 1228.55 Q63.8393 1223.9 65.0198 1222.56 Q67.2652 1220.04 68.1448 1218.3 Q69.0476 1216.54 69.0476 1214.85 Q69.0476 1212.1 67.1032 1210.36 Q65.1819 1208.62 62.08 1208.62 Q59.881 1208.62 57.4273 1209.39 Q54.9967 1210.15 52.219 1211.7 L52.219 1206.98 Q55.043 1205.85 57.4967 1205.27 Q59.9504 1204.69 61.9874 1204.69 Q67.3578 1204.69 70.5522 1207.37 Q73.7466 1210.06 73.7466 1214.55 Q73.7466 1216.68 72.9365 1218.6 Q72.1494 1220.5 70.0429 1223.09 Q69.4642 1223.76 66.3624 1226.98 Q63.2606 1230.17 57.6125 1235.94 Z\" fill=\"#000000\" fill-rule=\"evenodd\" fill-opacity=\"1\" /><path clip-path=\"url(#clip720)\" d=\"M83.7929 1205.31 L102.149 1205.31 L102.149 1209.25 L88.0753 1209.25 L88.0753 1217.72 Q89.0938 1217.37 90.1123 1217.21 Q91.1308 1217.03 92.1493 1217.03 Q97.9363 1217.03 101.316 1220.2 Q104.696 1223.37 104.696 1228.79 Q104.696 1234.36 101.223 1237.47 Q97.7511 1240.55 91.4317 1240.55 Q89.2558 1240.55 86.9873 1240.17 Q84.7419 1239.8 82.3346 1239.06 L82.3346 1234.36 Q84.4179 1235.5 86.6401 1236.05 Q88.8623 1236.61 91.3391 1236.61 Q95.3437 1236.61 97.6817 1234.5 Q100.02 1232.4 100.02 1228.79 Q100.02 1225.17 97.6817 1223.07 Q95.3437 1220.96 91.3391 1220.96 Q89.4641 1220.96 87.5892 1221.38 Q85.7373 1221.8 83.7929 1222.67 L83.7929 1205.31 Z\" fill=\"#000000\" fill-rule=\"evenodd\" fill-opacity=\"1\" /><path clip-path=\"url(#clip720)\" d=\"M66.7559 1461.11 Q70.1124 1461.82 71.9874 1464.09 Q73.8855 1466.36 73.8855 1469.69 Q73.8855 1474.81 70.367 1477.61 Q66.8485 1480.41 60.3671 1480.41 Q58.1912 1480.41 55.8764 1479.97 Q53.5847 1479.56 51.131 1478.7 L51.131 1474.19 Q53.0754 1475.32 55.3903 1475.9 Q57.7051 1476.48 60.2282 1476.48 Q64.6263 1476.48 66.918 1474.74 Q69.2328 1473.01 69.2328 1469.69 Q69.2328 1466.64 67.08 1464.93 Q64.9504 1463.19 61.131 1463.19 L57.1032 1463.19 L57.1032 1459.35 L61.3161 1459.35 Q64.7652 1459.35 66.5939 1457.98 Q68.4226 1456.59 68.4226 1454 Q68.4226 1451.34 66.5245 1449.93 Q64.6495 1448.49 61.131 1448.49 Q59.2097 1448.49 57.0106 1448.91 Q54.8115 1449.32 52.1727 1450.2 L52.1727 1446.04 Q54.8347 1445.3 57.1495 1444.93 Q59.4875 1444.56 61.5476 1444.56 Q66.8717 1444.56 69.9735 1446.99 Q73.0753 1449.39 73.0753 1453.51 Q73.0753 1456.38 71.4318 1458.38 Q69.7883 1460.34 66.7559 1461.11 Z\" fill=\"#000000\" fill-rule=\"evenodd\" fill-opacity=\"1\" /><path clip-path=\"url(#clip720)\" d=\"M92.7512 1448.26 Q89.1401 1448.26 87.3114 1451.82 Q85.5058 1455.37 85.5058 1462.5 Q85.5058 1469.6 87.3114 1473.17 Q89.1401 1476.71 92.7512 1476.71 Q96.3854 1476.71 98.1909 1473.17 Q100.02 1469.6 100.02 1462.5 Q100.02 1455.37 98.1909 1451.82 Q96.3854 1448.26 92.7512 1448.26 M92.7512 1444.56 Q98.5613 1444.56 101.617 1449.16 Q104.696 1453.75 104.696 1462.5 Q104.696 1471.22 101.617 1475.83 Q98.5613 1480.41 92.7512 1480.41 Q86.941 1480.41 83.8623 1475.83 Q80.8068 1471.22 80.8068 1462.5 Q80.8068 1453.75 83.8623 1449.16 Q86.941 1444.56 92.7512 1444.56 Z\" fill=\"#000000\" fill-rule=\"evenodd\" fill-opacity=\"1\" /><g clip-path=\"url(#clip722)\">\n",
       "<image width=\"1972\" height=\"1439\" xlink:href=\"data:image/png;base64,\n",
       "iVBORw0KGgoAAAANSUhEUgAAB7QAAAWfCAYAAAArpcnjAAAgAElEQVR4nOzbsUqbARSG4Vh+RDoI\n",
       "ikMhUxcvIdDcPwFzB81ssIMgHQJu6dilqz1v8Hmu4BvO9nKuzqvVecVfx+P0Amg5naYXQMvXr9ML\n",
       "ACh7e5teAJS8v08vgJa7u+kFAABcoC/TAwAAAAAAAADgXwRtAAAAAAAAAJIEbQAAAAAAAACSBG0A\n",
       "AAAAAAAAkgRtAAAAAAAAAJIEbQAAAAAAAACSBG0AAAAAAAAAkgRtAAAAAAAAAJIEbQAAAAAAAACS\n",
       "BG0AAAAAAAAAkgRtAAAAAAAAAJIEbQAAAAAAAACSBG0AAAAAAAAAkgRtAAAAAAAAAJIEbQAAAAAA\n",
       "AACSBG0AAAAAAAAAkgRtAAAAAAAAAJIEbQAAAAAAAACSBG0AAAAAAAAAkgRtAAAAAAAAAJIEbQAA\n",
       "AAAAAACSBG0AAAAAAAAAkgRtAAAAAAAAAJIEbQAAAAAAAACSBG0AAAAAAAAAkgRtAAAAAAAAAJIE\n",
       "bQAAAAAAAACSBG0AAAAAAAAAkgRtAAAAAAAAAJIEbQAAAAAAAACSBG0AAAAAAAAAkgRtAAAAAAAA\n",
       "AJIEbQAAAAAAAACSBG0AAAAAAAAAkgRtAAAAAAAAAJIEbQAAAAAAAACSBG0AAAAAAAAAkgRtAAAA\n",
       "AAAAAJIEbQAAAAAAAACSBG0AAAAAAAAAkgRtAAAAAAAAAJIEbQAAAAAAAACSBG0AAAAAAAAAkgRt\n",
       "AAAAAAAAAJIEbQAAAAAAAACSBG0AAAAAAAAAkgRtAAAAAAAAAJIEbQAAAAAAAACSltXxOL2hZb2e\n",
       "XtDhNgAAAAAAAIBBPrQBAAAAAAAASBK0AQAAAAAAAEgStAEAAAAAAABIErQBAAAAAAAASBK0AQAA\n",
       "AAAAAEgStAEAAAAAAABIErQBAAAAAAAASBK0AQAAAAAAAEgStAEAAAAAAABIErQBAAAAAAAASBK0\n",
       "AQAAAAAAAEgStAEAAAAAAABIErQBAAAAAAAASBK0AQAAAAAAAEgStAEAAAAAAABIErQBAAAAAAAA\n",
       "SBK0AQAAAAAAAEgStAEAAAAAAABIErQBAAAAAAAASBK0AQAAAAAAAEgStAEAAAAAAABIErQBAAAA\n",
       "AAAASBK0AQAAAAAAAEgStAEAAAAAAABIErQBAAAAAAAASBK0AQAAAAAAAEgStAEAAAAAAABIErQB\n",
       "AAAAAAAASBK0AQAAAAAAAEgStAEAAAAAAABIErQBAAAAAAAASBK0AQAAAAAAAEgStAEAAAAAAABI\n",
       "ErQBAAAAAAAASBK0AQAAAAAAAEgStAEAAAAAAABIErQBAAAAAAAASBK0AQAAAAAAAEgStAEAAAAA\n",
       "AABIErQBAAAAAAAASBK0AQAAAAAAAEgStAEAAAAAAABIErQBAAAAAAAASBK0AQAAAAAAAEgStAEA\n",
       "AAAAAABIErQBAAAAAAAASBK0AQAAAAAAAEgStAEAAAAAAABIWqYH5ByP0ws61uvpBXPcAQAAAAAA\n",
       "AIzzoQ0AAAAAAABAkqANAAAAAAAAQJKgDQAAAAAAAECSoA0AAAAAAABAkqANAAAAAAAAQJKgDQAA\n",
       "AAAAAECSoA0AAAAAAABAkqANAAAAAAAAQJKgDQAAAAAAAECSoA0AAAAAAABAkqANAAAAAAAAQJKg\n",
       "DQAAAAAAAECSoA0AAAAAAABAkqANAAAAAAAAQJKgDQAAAAAAAECSoA0AAAAAAABAkqANAAAAAAAA\n",
       "QJKgDQAAAAAAAECSoA0AAAAAAABAkqANAAAAAAAAQJKgDQAAAAAAAECSoA0AAAAAAABAkqANAAAA\n",
       "AAAAQJKgDQAAAAAAAECSoA0AAAAAAABAkqANAAAAAAAAQJKgDQAAAAAAAECSoA0AAAAAAABAkqAN\n",
       "AAAAAAAAQJKgDQAAAAAAAECSoA0AAAAAAABAkqANAAAAAAAAQJKgDQAAAAAAAECSoA0AAAAAAABA\n",
       "kqANAAAAAAAAQJKgDQAAAAAAAECSoA0AAAAAAABAkqANAAAAAAAAQJKgDQAAAAAAAECSoA0AAAAA\n",
       "AABAkqANAAAAAAAAQJKgDQAAAAAAAECSoA0AAAAAAABAkqANAAAAAAAAQJKgDQAAAAAAAEDSMj2A\n",
       "sONxesGc9Xp6QcfhML0AAAAAAACAT8qHNgAAAAAAAABJgjYAAAAAAAAASYI2AAAAAAAAAEmCNgAA\n",
       "AAAAAABJgjYAAAAAAAAASYI2AAAAAAAAAEmCNgAAAAAAAABJgjYAAAAAAAAASYI2AAAAAAAAAEmC\n",
       "NgAAAAAAAABJgjYAAAAAAAAASYI2AAAAAAAAAEmCNgAAAAAAAABJgjYAAAAAAAAASYI2AAAAAAAA\n",
       "AEmCNgAAAAAAAABJgjYAAAAAAAAASYI2AAAAAAAAAEmCNgAAAAAAAABJgjYAAAAAAAAASYI2AAAA\n",
       "AAAAAEmCNgAAAAAAAABJgjYAAAAAAAAASYI2AAAAAAAAAEmCNgAAAAAAAABJgjYAAAAAAAAASYI2\n",
       "AAAAAAAAAEmCNgAAAAAAAABJgjYAAAAAAAAASYI2AAAAAAAAAEmCNgAAAAAAAABJgjYAAAAAAAAA\n",
       "SYI2AAAAAAAAAEmCNgAAAAAAAABJgjYAAAAAAAAASYI2AAAAAAAAAEmCNgAAAAAAAABJgjYAAAAA\n",
       "AAAASYI2AAAAAAAAAEmCNgAAAAAAAABJgjYAAAAAAAAASYI2AAAAAAAAAEmCNgAAAAAAAABJgjYA\n",
       "AAAAAAAASYI2AAAAAAAAAEmCNgAAAAAAAABJgjYAAAAAAAAASYI2AAAAAAAAAEnL6nSa3gA9h8P0\n",
       "go7Hx+kFHfv99AIK7u+nFwBQdns7vQAoeXqaXgAt19fTCwAAuEA+tAEAAAAAAABIErQBAAAAAAAA\n",
       "SBK0AQAAAAAAAEgStAEAAAAAAABIErQBAAAAAAAASBK0AQAAAAAAAEgStAEAAAAAAABIErQBAAAA\n",
       "AAAASBK0AQAAAAAAAEgStAEAAAAAAABIErQBAAAAAAAASBK0AQAAAAAAAEgStAEAAAAAAABIErQB\n",
       "AAAAAAAASBK0AQAAAAAAAEgStAEAAAAAAABIErQBAAAAAAAASBK0AQAAAAAAAEgStAEAAAAAAABI\n",
       "ErQBAAAAAAAASBK0AQAAAAAAAEgStAEAAAAAAABIErQBAAAAAAAASBK0AQAAAAAAAEgStAEAAAAA\n",
       "AABIErQBAAAAAAAASBK0AQAAAAAAAEgStAEAAAAAAABIErQBAAAAAAAASBK0AQAAAAAAAEgStAEA\n",
       "AAAAAABIErQBAAAAAAAASBK0AQAAAAAAAEgStAEAAAAAAABIErQBAAAAAAAASBK0AQAAAAAAAEgS\n",
       "tAEAAAAAAABIErQBAAAAAAAASBK0AQAAAAAAAEgStAEAAAAAAABIErQBAAAAAAAASBK0AQAAAAAA\n",
       "AEgStAEAAAAAAABIErQBAAAAAAAASBK0AQAAAAAAAEgStAEAAAAAAABIErQBAAAAAAAASBK0AQAA\n",
       "AAAAAEhapgcAcfv99IKOzWZ6wRx3AAAAAAAADPChDQAAAAAAAECSoA0AAAAAAABAkqANAAAAAAAA\n",
       "QJKgDQAAAAAAAECSoA0AAAAAAABAkqANAAAAAAAAQJKgDQAAAAAAAECSoA0AAAAAAABAkqANAAAA\n",
       "AAAAQJKgDQAAAAAAAECSoA0AAAAAAABAkqANAAAAAAAAQJKgDQAAAAAAAECSoA0AAAAAAABAkqAN\n",
       "AAAAAAAAQJKgDQAAAAAAAECSoA0AAAAAAABAkqANAAAAAAAAQJKgDQAAAAAAAECSoA0AAAAAAABA\n",
       "kqANAAAAAAAAQJKgDQAAAAAAAECSoA0AAAAAAABAkqANAAAAAAAAQJKgDQAAAAAAAECSoA0AAAAA\n",
       "AABAkqANAAAAAAAAQJKgDQAAAAAAAECSoA0AAAAAAABAkqANAAAAAAAAQJKgDQAAAAAAAECSoA0A\n",
       "AAAAAABAkqANAAAAAAAAQJKgDQAAAAAAAECSoA0AAAAAAABAkqANAAAAAAAAQJKgDQAAAAAAAECS\n",
       "oA0AAAAAAABAkqANAAAAAAAAQJKgDQAAAAAAAECSoA0AAAAAAABAkqANAAAAAAAAQJKgDQAAAAAA\n",
       "AECSoA0AAAAAAABAkqANAAAAAAAAQNIyPQDgYuz30wvmbDbTCzpeX6cXAAAAAADAp+FDGwAAAAAA\n",
       "AIAkQRsAAAAAAACAJEEbAAAAAAAAgCRBGwAAAAAAAIAkQRsAAAAAAACAJEEbAAAAAAAAgCRBGwAA\n",
       "AAAAAIAkQRsAAAAAAACAJEEbAAAAAAAAgCRBGwAAAAAAAIAkQRsAAAAAAACAJEEbAAAAAAAAgCRB\n",
       "GwAAAAAAAIAkQRsAAAAAAACAJEEbAAAAAAAAgCRBGwAAAAAAAIAkQRsAAAAAAACAJEEbAAAAAAAA\n",
       "gCRBGwAAAAAAAIAkQRsAAAAAAACAJEEbAAAAAAAAgCRBGwAAAAAAAIAkQRsAAAAAAACAJEEbAAAA\n",
       "AAAAgCRBGwAAAAAAAIAkQRsAAAAAAACAJEEbAAAAAAAAgCRBGwAAAAAAAIAkQRsAAAAAAACAJEEb\n",
       "AAAAAAAAgCRBGwAAAAAAAIAkQRsAAAAAAACAJEEbAAAAAAAAgCRBGwAAAAAAAIAkQRsAAAAAAACA\n",
       "JEEbAAAAAAAAgCRBGwAAAAAAAIAkQRsAAAAAAACAJEEbAAAAAAAAgCRBGwAAAAAAAIAkQRsAAAAA\n",
       "AACAJEEbAAAAAAAAgCRBGwAAAAAAAIAkQRsAAAAAAACAJEEbAAAAAAAAgCRBGwAAAAAAAIAkQRsA\n",
       "AAAAAACAJEEbAAAAAAAAgKSr8/PzeXoEEHZzM70AWh4ephd07HbTCwByfn3/MT0BCPn2++f0BGh5\n",
       "eZleAADABfKhDQAAAAAAAECSoA0AAAAAAABAkqANAAAAAAAAQJKgDQAAAAAAAECSoA0AAAAAAABA\n",
       "kqANAAAAAAAAQJKgDQAAAAAAAECSoA0AAAAAAABAkqANAAAAAAAAQJKgDQAAAAAAAECSoA0AAAAA\n",
       "AABAkqANAAAAAAAAQJKgDQAAAAAAAECSoA0AAAAAAABAkqANAAAAAAAAQJKgDQAAAAAAAECSoA0A\n",
       "AAAAAABAkqANAAAAAAAAQJKgDQAAAAAAAECSoA0AAAAAAABAkqANAAAAAAAAQJKgDQAAAAAAAECS\n",
       "oA0AAAAAAABAkqANAAAAAAAAQJKgDQAAAAAAAECSoA0AAAAAAABAkqANAAAAAAAAQJKgDQAAAAAA\n",
       "AECSoA0AAAAAAABAkqANAAAAAAAAQJKgDQAAAAAAAECSoA0AAAAAAABAkqANAAAAAAAAQJKgDQAA\n",
       "AAAAAECSoA0AAAAAAABAkqANAAAAAAAAQJKgDQAAAAAAAECSoA0AAAAAAABAkqANAAAAAAAAQJKg\n",
       "DQAAAAAAAECSoA0AAAAAAABAkqANAAAAAAAAQJKgDQAAAAAAAECSoA0AAAAAAABAkqANAAAAAAAA\n",
       "QJKgDQAAAAAAAECSoA0AAAAAAABAkqANAAAAAAAAQNIyPQAALspuN72gY7udXjDHHQAAAAAA/Bc+\n",
       "tAEAAAAAAABIErQBAAAAAAAASBK0AQAAAAAAAEgStAEAAAAAAABIErQBAAAAAAAASBK0AQAAAAAA\n",
       "AEgStAEAAAAAAABIErQBAAAAAAAASBK0AQAAAAAAAEgStAEAAAAAAABIErQBAAAAAAAASBK0AQAA\n",
       "AAAAAEgStAEAAAAAAABIErQBAAAAAAAASBK0AQAAAAAAAEgStAEAAAAAAABIErQBAAAAAAAASBK0\n",
       "AQAAAAAAAEgStAEAAAAAAABIErQBAAAAAAAASBK0AQAAAAAAAEgStAEAAAAAAABIErQBAAAAAAAA\n",
       "SBK0AQAAAAAAAEgStAEAAAAAAABIErQBAAAAAAAASBK0AQAAAAAAAEgStAEAAAAAAABIErQBAAAA\n",
       "AAAASBK0AQAAAAAAAEgStAEAAAAAAABIErQBAAAAAAAASBK0AQAAAAAAAEgStAEAAAAAAABIErQB\n",
       "AAAAAAAASBK0AQAAAAAAAEgStAEAAAAAAABIErQBAAAAAAAASBK0AQAAAAAAAEgStAEAAAAAAABI\n",
       "ErQBAAAAAAAASBK0AQAAAAAAAEgStAEAAAAAAABIErQBAAAAAAAASBK0AQAAAAAAAEhapgcAABdq\n",
       "t5teMGe7nV7Q8ZnvAAAAAAD4cD60AQAAAAAAAEgStAEAAAAAAABIErQBAAAAAAAASBK0AQAAAAAA\n",
       "AEgStAEAAAAAAABIErQBAAAAAAAASBK0AQAAAAAAAEgStAEAAAAAAABIErQBAAAAAAAASBK0AQAA\n",
       "AAAAAEgStAEAAAAAAABIErQBAAAAAAAASBK0AQAAAAAAAEgStAEAAAAAAABIErQBAAAAAAAASBK0\n",
       "AQAAAAAAAEgStAEAAAAAAABIErQBAAAAAAAASBK0AQAAAAAAAEgStAEAAAAAAABIErQBAAAAAAAA\n",
       "SBK0AQAAAAAAAEgStAEAAAAAAABIErQBAAAAAAAASBK0AQAAAAAAAEgStAEAAAAAAABIErQBAAAA\n",
       "AAAASBK0AQAAAAAAAEgStAEAAAAAAABIErQBAAAAAAAASBK0AQAAAAAAAEgStAEAAAAAAABIErQB\n",
       "AAAAAAAASBK0AQAAAAAAAEgStAEAAAAAAABIErQBAAAAAAAASBK0AQAAAAAAAEgStAEAAAAAAABI\n",
       "ErQBAAAAAAAASBK0AQAAAAAAAEgStAEAAAAAAABIErQBAAAAAAAASBK0AQAAAAAAAEgStAEAAAAA\n",
       "AABIErQBAAAAAAAASBK0AQAAAAAAAEgStAEAAAAAAABIErQBAAAAAAAASFqmBwAAXJzdbnpBx3Y7\n",
       "vWCOOwAAAACAD+dDGwAAAAAAAIAkQRsAAAAAAACAJEEbAAAAAAAAgCRBGwAAAAAAAIAkQRsAAAAA\n",
       "AACAJEEbAAAAAAAAgCRBGwAAAAAAAIAkQRsAAAAAAACAJEEbAAAAAAAAgCRBGwAAAAAAAIAkQRsA\n",
       "AAAAAACAJEEbAAAAAAAAgCRBGwAAAAAAAIAkQRsAAAAAAACAJEEbAAAAAAAAgCRBGwAAAAAAAIAk\n",
       "QRsAAAAAAACAJEEbAAAAAAAAgCRBGwAAAAAAAIAkQRsAAAAAAACAJEEbAAAAAAAAgCRBGwAAAAAA\n",
       "AIAkQRsAAAAAAACAJEEbAAAAAAAAgCRBGwAAAAAAAIAkQRsAAAAAAACAJEEbAAAAAAAAgCRBGwAA\n",
       "AAAAAIAkQRsAAAAAAACAJEEbAAAAAAAAgCRBGwAAAAAAAIAkQRsAAAAAAACAJEEbAAAAAAAAgCRB\n",
       "GwAAAAAAAIAkQRsAAAAAAACAJEEbAAAAAAAAgCRBGwAAAAAAAIAkQRsAAAAAAACAJEEbAAAAAAAA\n",
       "gCRBGwAAAAAAAIAkQRsAAAAAAACAJEEbAAAAAACAP+zbsU2bARRG0SD9okSiS5q0iBGMkFjCc1Aw\n",
       "iAvm8BI0uKCy2AGSFWicGVASvWtzzgRf8bqrB5AkaAMAAAAAAACQJGgDAAAAAAAAkCRoAwAAAAAA\n",
       "AJC0TA8AAOCIPT9PL5hzczO9oOMr3wEAAAAA/5UPbQAAAAAAAACSBG0AAAAAAAAAkgRtAAAAAAAA\n",
       "AJIEbQAAAAAAAACSBG0AAAAAAAAAkgRtAAAAAAAAAJIEbQAAAAAAAACSBG0AAAAAAAAAkgRtAAAA\n",
       "AAAAAJIEbQAAAAAAAACSBG0AAAAAAAAAkgRtAAAAAAAAAJIEbQAAAAAAAACSBG0AAAAAAAAAkgRt\n",
       "AAAAAAAAAJIEbQAAAAAAAACSBG0AAAAAAAAAkgRtAAAAAAAAAJIEbQAAAAAAAACSBG0AAAAAAAAA\n",
       "kgRtAAAAAAAAAJIEbQAAAAAAAACSBG0AAAAAAAAAkgRtAAAAAAAAAJIEbQAAAAAAAACSBG0AAAAA\n",
       "AAAAkgRtAAAAAAAAAJIEbQAAAAAAAACSBG0AAAAAAAAAkgRtAAAAAAAAAJIEbQAAAAAAAACSBG0A\n",
       "AAAAAAAAkgRtAAAAAAAAAJIEbQAAAAAAAACSBG0AAAAAAAAAkgRtAAAAAAAAAJIEbQAAAAAAAACS\n",
       "BG0AAAAAAAAAkgRtAAAAAAAAAJIEbQAAAAAAAACSBG0AAAAAAAAAkgRtAAAAAAAAAJIEbQAAAAAA\n",
       "AACSBG0AAAAAAAAAkgRtAAAAAAAAAJIEbQAAAAAAAACSBG0AAAAAAAAAkgRtAAAAAAAAAJKW6QEA\n",
       "AHCUnp+nF3Tc3Ewv6Hg/TC8AAAAAOCk+tAEAAAAAAABIErQBAAAAAAAASBK0AQAAAAAAAEgStAEA\n",
       "AAAAAABIErQBAAAAAAAASBK0AQAAAAAAAEgStAEAAAAAAABIErQBAAAAAAAASBK0AQAAAAAAAEgS\n",
       "tAEAAAAAAABIErQBAAAAAAAASBK0AQAAAAAAAEgStAEAAAAAAABIErQBAAAAAAAASBK0AQAAAAAA\n",
       "AEgStAEAAAAAAABIErQBAAAAAAAASBK0AQAAAAAAAEgStAEAAAAAAABIErQBAAAAAAAASBK0AQAA\n",
       "AAAAAEgStAEAAAAAAABIErQBAAAAAAAASBK0AQAAAAAAAEgStAEAAAAAAABIErQBAAAAAAAASBK0\n",
       "AQAAAAAAAEgStAEAAAAAAABIErQBAAAAAAAASBK0AQAAAAAAAEgStAEAAAAAAABIErQBAAAAAAAA\n",
       "SBK0AQAAAAAAAEgStAEAAAAAAABIErQBAAAAAAAASBK0AQAAAAAAAEgStAEAAAAAAABIErQBAAAA\n",
       "AAAASBK0AQAAAAAAAEgStAEAAAAAAABIErQBAAAAAAAASBK0AQAAAAAAAEgStAEAAAAAAABIErQB\n",
       "AAAAAAAASBK0AQAAAAAAAEgStAEAAAAAAABIErQBAAAAAAAASBK0AQAAAAAAAEg6O7y+HqZHAGEX\n",
       "F9MLIOXX+c/pCQCEff9xNj1hzm43vQB6Pj6mF0DL1dX0AgAAjpAPbQAAAAAAAACSBG0AAAAAAAAA\n",
       "kgRtAAAAAAAAAJIEbQAAAAAAAACSBG0AAAAAAAAAkgRtAAAAAAAAAJIEbQAAAAAAAACSBG0AAAAA\n",
       "AAAAkgRtAAAAAAAAAJIEbQAAAAAAAACSBG0AAAAAAAAAkgRtAAAAAAAAAJIEbQAAAAAAAACSBG0A\n",
       "AAAAAAAAkgRtAAAAAAAAAJIEbQAAAAAAAACSBG0AAAAAAAAAkgRtAAAAAAAAAJIEbQAAAAAAAACS\n",
       "BG0AAAAAAAAAkgRtAAAAAAAAAJIEbQAAAAAAAACSBG0AAAAAAAAAkgRtAAAAAAAAAJIEbQAAAAAA\n",
       "AACSBG0AAAAAAAAAkgRtAAAAAAAAAJIEbQAAAAAAAACSBG0AAAAAAAAAkgRtAAAAAAAAAJIEbQAA\n",
       "AAAAAACSBG0AAAAAAAAAkgRtAAAAAAAAAJIEbQAAAAAAAACSBG0AAAAAAAAAkgRtAAAAAAAAAJIE\n",
       "bQAAAAAAAACSBG0AAAAAAAAAkgRtAAAAAAAAAJIEbQAAAAAAAACSBG0AAAAAAAAAkgRtAAAAAAAA\n",
       "AJIEbQAAAAAAAACSBG0AAAAAAAAAkgRtAAAAAAAAAJKW6QEAAAAnY7ebXjBntZpe0PGV7wAAAAD+\n",
       "MR/aAAAAAAAAACQJ2gAAAAAAAAAkCdoAAAAAAAAAJAnaAAAAAAAAACQJ2gAAAAAAAAAkCdoAAAAA\n",
       "AAAAJAnaAAAAAAAAACQJ2gAAAAAAAAAkCdoAAAAAAAAAJAnaAAAAAAAAACQJ2gAAAAAAAAAkCdoA\n",
       "AAAAAAAAJAnaAAAAAAAAACQJ2gAAAAAAAAAkCdoAAAAAAAAAJAnaAAAAAAAAACQJ2gAAAAAAAAAk\n",
       "CdoAAAAAAAAAJAnaAAAAAAAAACQJ2gAAAAAAAAAkCdoAAAAAAAAAJAnaAAAAAAAAACQJ2gAAAAAA\n",
       "AAAkCdoAAAAAAAAAJAnaAAAAAAAAACQJ2gAAAAAAAAAkCdoAAAAAAAAAJAnaAAAAAAAAACQJ2gAA\n",
       "AAAAAAAkCdoAAAAAAAAAJAnaAAAAAAAAACQJ2gAAAAAAAAAkCdoAAAAAAAAAJAnaAAAAAAAAACQJ\n",
       "2gAAAAAAAAAkCdoAAAAAAAAAJAnaAAAAAAAAACQJ2gAAAAAAAAAkCdoAAAAAAAAAJAnaAAAAAAAA\n",
       "ACQJ2gAAAAAAAAAkCdoAAAAAAAAAJAnaAAAAAAAAACQJ2gAAAAAAAAAkCdoAAAAAAAAAJAnaAAAA\n",
       "AAAAACQJ2gAAAAAAAAAkCdoAAAAAAAAAJC3TAwAAADgBu930go7VanpBi9sAAADgL/jQBgAAAAAA\n",
       "ACBJ0AYAAAAAAAAgSdAGAAAAAAAAIEnQBgAAAAAAACBJ0AYAAAAAAAAgSdAGAAAAAAAAIEnQBgAA\n",
       "AAAAACBJ0AYAAAAAAAAgSdAGAAAAAAAAIEnQBgAAAAAAACBJ0AYAAAAAAAAgSdAGAAAAAAAAIEnQ\n",
       "BgAAAAAAACBJ0AYAAAAAAAAgSdAGAAAAAAAAIEnQBgAAAAAAACBJ0AYAAAAAAAAgSdAGAAAAAAAA\n",
       "IEnQBgAAAAAAACBJ0AYAAAAAAAAgSdAGAAAAAAAAIEnQBgAAAAAAACBJ0AYAAAAAAAAgSdAGAAAA\n",
       "AAAAIEnQBgAAAAAAACBJ0AYAAAAAAAAgSdAGAAAAAAAAIEnQBgAAAAAAACBJ0AYAAAAAAAAgSdAG\n",
       "AAAAAAAAIEnQBgAAAAAAACBJ0AYAAAAAAAAgSdAGAAAAAAAAIEnQBgAAAAAAACBJ0AYAAAAAAAAg\n",
       "SdAGAAAAAAAAIEnQBgAAAAAAACBJ0AYAAAAAAAAgSdAGAAAAAAAAIEnQBgAAAAAAACBJ0AYAAAAA\n",
       "AAAgSdAGAAAAAAAAIEnQBgAAAAAAACBJ0AYAAAAAAAAgSdAGAAAAAAAAIEnQBgAAAAAAACBJ0AYA\n",
       "AAAAAAAgSdAGAAAAAAAAIGmZHgAAAAAnZbebXtCyWk0vmPP0NL0AAADg6PnQBgAAAAAAACBJ0AYA\n",
       "AAAAAAAgSdAGAAAAAAAAIEnQBgAAAAAAAOUifpkAABr9SURBVCBJ0AYAAAAAAAAgSdAGAAAAAAAA\n",
       "IEnQBgAAAAAAACBJ0AYAAAAAAAAgSdAGAAAAAAAAIEnQBgAAAAAAACBJ0AYAAAAAAAAgSdAGAAAA\n",
       "AAAAIEnQBgAAAAAAACBJ0AYAAAAAAAAgSdAGAAAAAAAAIEnQBgAAAAAAACBJ0AYAAAAAAAAgSdAG\n",
       "AAAAAAAAIEnQBgAAAAAAACBJ0AYAAAAAAAAgSdAGAAAAAAAAIEnQBgAAAAAAACBJ0AYAAAAAAAAg\n",
       "SdAGAAAAAAAAIEnQBgAAAAAAACBJ0AYAAAAAAAAgSdAGAAAAAAAAIEnQBgAAAAAAACBJ0AYAAAAA\n",
       "AAAgSdAGAAAAAAAAIEnQBgAAAAAAACBJ0AYAAAAAAAAgSdAGAAAAAAAAIEnQBgAAAAAAACBJ0AYA\n",
       "AAAAAAAgSdAGAAAAAAAAIEnQBgAAAAAAACBJ0AYAAAAAAAAgSdAGAAAAAAAAIEnQBgAAAAAAACBJ\n",
       "0AYAAAAAAAAgSdAGAAAAAAAAIEnQBgAAAAAAACBJ0AYAAAAAAAAgSdAGAAAAAAAAIOns8PJymB4B\n",
       "hO330wug5fZ2egEAZb9/Ty8ASu7uphd0bLfTCyh4e5teAADAEfKhDQAAAAAAAECSoA0AAAAAAABA\n",
       "kqANAAAAAAAAQJKgDQAAAAAAAECSoA0AAAAAAABAkqANAAAAAAAAQJKgDQAAAAAAAECSoA0AAAAA\n",
       "AABAkqANAAAAAAAAQJKgDQAAAAAAAECSoA0AAAAAAABAkqANAAAAAAAAQJKgDQAAAAAAAECSoA0A\n",
       "AAAAAABAkqANAAAAAAAAQJKgDQAAAAAAAECSoA0AAAAAAABAkqANAAAAAAAAQJKgDQAAAAAAAECS\n",
       "oA0AAAAAAABAkqANAAAAAAAAQJKgDQAAAAAAAECSoA0AAAAAAABAkqANAAAAAAAAQJKgDQAAAAAA\n",
       "AECSoA0AAAAAAABAkqANAAAAAAAAQJKgDQAAAAAAAECSoA0AAAAAAABAkqANAAAAAAAAQJKgDQAA\n",
       "AAAAAECSoA0AAAAAAABAkqANAAAAAAAAQJKgDQAAAAAAAECSoA0AAAAAAABAkqANAAAAAAAAQJKg\n",
       "DQAAAAAAAECSoA0AAAAAAABAkqANAAAAAAAAQJKgDQAAAAAAAECSoA0AAAAAAABAkqANAAAAAAAA\n",
       "QJKgDQAAAAAAAECSoA0AAAAAAABAkqANAAAAAAAAQJKgDQAAAAAAAECSoA0AAAAAAABAkqANAAAA\n",
       "AAAAQNIyPQAAAADgJG230ws61uvpBR3uAgAAPsWHNgAAAAAAAABJgjYAAAAAAAAASYI2AAAAAAAA\n",
       "AEmCNgAAAAAAAABJgjYAAAAAAAAASYI2AAAAAAAAAEmCNgAAAAAAAABJgjYAAAAAAAAASYI2AAAA\n",
       "AAAAAEmCNgAAAAAAAABJgjYAAAAAAAAASYI2AAAAAAAAAEmCNgAAAAAAAABJgjYAAAAAAAAASYI2\n",
       "AAAAAAAAAEmCNgAAAAAAAABJgjYAAAAAAAAASYI2AAAAAAAAAEmCNgAAAAAAAABJgjYAAAAAAAAA\n",
       "SYI2AAAAAAAAAEmCNgAAAAAAAABJgjYAAAAAAAAASYI2AAAAAAAAAEmCNgAAAAAAAABJgjYAAAAA\n",
       "AAAASYI2AAAAAAAAAEmCNgAAAAAAAABJgjYAAAAAAAAASYI2AAAAAAAAAEmCNgAAAAAAAABJgjYA\n",
       "AAAAAAAASYI2AAAAAAAAAEmCNgAAAAAAAABJgjYAAAAAAAAASYI2AAAAAAAAAEmCNgAAAAAAAABJ\n",
       "gjYAAAAAAAAASYI2AAAAAAAAAEmCNgAAAAAAAABJgjYAAAAAAAAASYI2AAAAAAAAAEmCNgAAAAAA\n",
       "AABJgjYAAAAAAAAASYI2AAAAAAAAAEmCNgAAAAAAAABJgjYAAAAAAAAASYI2AAAAAAAAAEnL9AAA\n",
       "AAAATtx2O72gY72eXjDn8XF6AQAAR8iHNgAAAAAAAABJgjYAAAAAAAAASYI2AAAAAAAAAEmCNgAA\n",
       "AAAAAABJgjYAAAAAAAAASYI2AAAAAAAAAEmCNgAAAAAAAABJgjYAAAAAAAAASYI2AAAAAAAAAEmC\n",
       "NgAAAAAAAABJgjYAAAAAAAAASYI2AAAAAAAAAEmCNgAAAAAAAABJgjYAAAAAAAAASYI2AAAAAAAA\n",
       "AEmCNgAAAAAAAABJgjYAAAAAAAAASYI2AAAAAAAAAEmCNgAAAAAAAABJgjYAAAAAAAAASYI2AAAA\n",
       "AAAAAEmCNgAAAAAAAABJgjYAAAAAAAAASYI2AAAAAAAAAEmCNgAAAAAAAABJgjYAAAAAAAAASYI2\n",
       "AAAAAAAAAEmCNgAAAAAAAABJgjYAAAAAAAAASYI2AAAAAAAAAEmCNgAAAAAAAABJgjYAAAAAAAAA\n",
       "SYI2AAAAAAAAAEmCNgAAAAAAAABJgjYAAAAAAAAASYI2AAAAAAAAAEmCNgAAAAAAAABJgjYAAAAA\n",
       "AAAASYI2AAAAAAAAAEmCNgAAAAAAAABJgjYAAAAAAAAASYI2AAAAAAAAAEmCNgAAAAAAAABJgjYA\n",
       "AAAAAAAASYI2AAAAAAAAAEnLt8vL6Q1A2fn59AJoeX+fXgBA2fX19AKgZL+fXkDR4+P0gjn399ML\n",
       "Ojab6QUAAEfDhzYAAAAAAAAASYI2AAAAAAAAAEmCNgAAAAAAAABJgjYAAAAAAAAASYI2AAAAAAAA\n",
       "AEmCNgAAAAAAAABJgjYAAAAAAAAASYI2AAAAAAAAAEmCNgAAAAAAAABJgjYAAAAAAAAASYI2AAAA\n",
       "AAAAAEmCNgAAAAAAAABJgjYAAAAAAAAASYI2AAAAAAAAAEmCNgAAAAAAAABJgjYAAAAAAAAASYI2\n",
       "AAAAAAAAAEmCNgAAAAAAAABJgjYAAAAAAAAASYI2AAAAAAAAAEmCNgAAAAAAAABJgjYAAAAAAAAA\n",
       "SYI2AAAAAAAAAEmCNgAAAAAAAABJgjYAAAAAAAAASYI2AAAAAAAAAEmCNgAAAAAAAABJgjYAAAAA\n",
       "AAAASYI2AAAAAAAAAEmCNgAAAAAAAABJgjYAAAAAAAAASYI2AAAAAAAAAEmCNgAAAAAAAABJgjYA\n",
       "AAAAAAAASYI2AAAAAAAAAEmCNgAAAAAAAABJgjYAAAAAAAAASYI2AAAAAAAAAEmCNgAAAAAAAABJ\n",
       "gjYAAAAAAAAASYI2AAAAAAAAAEmCNgAAAAAAAABJgjYAAAAAAAAASYI2AAAAAAAAAEmCNgAAAAAA\n",
       "AABJgjYAAAAAAAAASYI2AAAAAAAAAEmCNgAAAAAAAABJy/QAAAAAAOAL2GymF3Q8PEwvmOMOAIBP\n",
       "8qENAAAAAAAAQJKgDQAAAAAAAECSoA0AAAAAAABAkqANAAAAAAAAQJKgDQAAAAAAAECSoA0AAAAA\n",
       "AABAkqANAAAAAAAAQJKgDQAAAAAAAECSoA0AAAAAAABAkqANAAAAAAAAQJKgDQAAAAAAAECSoA0A\n",
       "AAAAAABAkqANAAAAAAAAQJKgDQAAAAAAAECSoA0AAAAAAABAkqANAAAAAAAAQJKgDQAAAAAAAECS\n",
       "oA0AAAAAAABAkqANAAAAAAAAQJKgDQAAAAAAAECSoA0AAAAAAABAkqANAAAAAAAAQJKgDQAAAAAA\n",
       "AECSoA0AAAAAAABAkqANAAAAAAAAQJKgDQAAAAAAAECSoA0AAAAAAABAkqANAAAAAAAAQJKgDQAA\n",
       "AAAAAECSoA0AAAAAAABAkqANAAAAAAAAQJKgDQAAAAAAAECSoA0AAAAAAABAkqANAAAAAAAAQJKg\n",
       "DQAAAAAAAECSoA0AAAAAAABAkqANAAAAAAAAQJKgDQAAAAAAAECSoA0AAAAAwJ/27di2DiCGgqCC\n",
       "q/gKYc1KnMgwvuCIC9xMBS9gtiAAQJKgDQAAAAAAAECSoA0AAAAAAABAkqANAAAAAAAAQJKgDQAA\n",
       "AAAAAECSoA0AAAAAAABAkqANAAAAAAAAQNLZHgAAAAAA8JSZ7QV77t1e0PHyHQDAf/ChDQAAAAAA\n",
       "AECSoA0AAAAAAABAkqANAAAAAAAAQJKgDQAAAAAAAECSoA0AAAAAAABAkqANAAAAAAAAQJKgDQAA\n",
       "AAAAAECSoA0AAAAAAABAkqANAAAAAAAAQJKgDQAAAAAAAECSoA0AAAAAAABAkqANAAAAAAAAQJKg\n",
       "DQAAAAAAAECSoA0AAAAAAABAkqANAAAAAAAAQJKgDQAAAAAAAECSoA0AAAAAAABAkqANAAAAAAAA\n",
       "QJKgDQAAAAAAAECSoA0AAAAAAABAkqANAAAAAAAAQJKgDQAAAAAAAECSoA0AAAAAAABAkqANAAAA\n",
       "AAAAQJKgDQAAAAAAAECSoA0AAAAAAABAkqANAAAAAAAAQJKgDQAAAAAAAECSoA0AAAAAAABAkqAN\n",
       "AAAAAAAAQJKgDQAAAAAAAECSoA0AAAAAAABAkqANAAAAAAAAQJKgDQAAAAAAAECSoA0AAAAAAABA\n",
       "kqANAAAAAAAAQJKgDQAAAAAAAECSoA0AAAAAAABAkqANAAAAAAAAQJKgDQAAAAAAAECSoA0AAAAA\n",
       "AABAkqANAAAAAAAAQJKgDQAAAAAAAECSoA0AAAAAAABAkqANAAAAAAAAQJKgDQAAAAAAAECSoA0A\n",
       "AAAAAABAkqANAAAAAAAAQNLZHgAAAAAAwCNmthd03Lu9oMNdAPCBD20AAAAAAAAAkgRtAAAAAAAA\n",
       "AJIEbQAAAAAAAACSBG0AAAAAAAAAkgRtAAAAAAAAAJIEbQAAAAAAAACSBG0AAAAAAAAAkgRtAAAA\n",
       "AAAAAJIEbQAAAAAAAACSBG0AAAAAAAAAkgRtAAAAAAAAAJIEbQAAAAAAAACSBG0AAAAAAAAAkgRt\n",
       "AAAAAAAAAJIEbQAAAAAAAACSBG0AAAAAAAAAkgRtAAAAAAAAAJIEbQAAAAAAAACSBG0AAAAAAAAA\n",
       "kgRtAAAAAAAAAJIEbQAAAAAAAACSBG0AAAAAAAAAkgRtAAAAAAAAAJIEbQAAAAAAAACSBG0AAAAA\n",
       "AAAAkgRtAAAAAAAAAJIEbQAAAAAAAACSBG0AAAAAAAAAkgRtAAAAAAAAAJIEbQAAAAAAAACSBG0A\n",
       "AAAAAAAAkgRtAAAAAAAAAJIEbQAAAAAAAACSBG0AAAAAAAAAkgRtAAAAAAAAAJIEbQAAAAAAAACS\n",
       "BG0AAAAAAAAAkgRtAAAAAAAAAJIEbQAAAAAAAACSBG0AAAAAAAAAkgRtAAAAAAAAAJIEbQAAAAAA\n",
       "AACSBG0AAAAAAAAAkgRtAAAAAAAAAJIEbQAAAAAAAACSBG0AAAAAAAAAkgRtAAAAAAAAAJIEbQAA\n",
       "AAAAAACSzvYAAAAAAAB4zsz2go57txfscQcAv/KhDQAAAAAAAECSoA0AAAAAAABAkqANAAAAAAAA\n",
       "QJKgDQAAAAAAAECSoA0AAAAAAABAkqANAAAAAAAAQJKgDQAAAAAAAECSoA0AAAAAAABAkqANAAAA\n",
       "AAAAQJKgDQAAAAAAAECSoA0AAAAAAABAkqANAAAAAAAAQJKgDQAAAAAAAECSoA0AAAAAAABAkqAN\n",
       "AAAAAAAAQJKgDQAAAAAAAECSoA0AAAAAAABAkqANAAAAAAAAQJKgDQAAAAAAAECSoA0AAAAAAABA\n",
       "kqANAAAAAAAAQJKgDQAAAAAAAECSoA0AAAAAAABAkqANAAAAAAAAQJKgDQAAAAAAAECSoA0AAAAA\n",
       "AABAkqANAAAAAAAAQJKgDQAAAAAAAECSoA0AAAAAAABAkqANAAAAAAAAQJKgDQAAAAAAAECSoA0A\n",
       "AAAAAABAkqANAAAAAAAAQJKgDQAAAAAAAECSoA0AAAAAAABAkqANAAAAAAAAQJKgDQAAAAAAAECS\n",
       "oA0AAAAAAABAkqANAAAAAAAAQJKgDQAAAAAAAECSoA0AAAAAAABAkqANAAAAAAAAQJKgDQAAAAAA\n",
       "AECSoA0AAAAAAABAkqANAAAAAAAAQNLZHgAAAAAAADxsZnvBnnu3F3S8fAfARz60AQAAAAAAAEgS\n",
       "tAEAAAAAAABIErQBAAAAAAAASBK0AQAAAAAAAEgStAEAAAAAAABIErQBAAAAAAAASBK0AQAAAAAA\n",
       "AEgStAEAAAAAAABIErQBAAAAAAAASBK0AQAAAAAAAEgStAEAAAAAAABIErQBAAAAAAAASBK0AQAA\n",
       "AAAAAEgStAEAAAAAAABIErQBAAAAAAAASBK0AQAAAAAAAEgStAEAAAAAAABIErQBAAAAAAAASBK0\n",
       "AQAAAAAAAEgStAEAAAAAAABIErQBAAAAAAAASBK0AQAAAAAAAEgStAEAAAAAAABIErQBAAAAAAAA\n",
       "SBK0AQAAAAAAAEgStAEAAAAAAABIErQBAAAAAAAASBK0AQAAAAAAAEgStAEAAAAAAABIErQBAAAA\n",
       "AAAASBK0AQAAAAAAAEgStAEAAAAAAABIErQBAAAAAAAASBK0AQAAAAAAAEgStAEAAAAAAABIErQB\n",
       "AAAAAAAASBK0AQAAAAAAAEgStAEAAAAAAABIErQBAAAAAAAASBK0AQAAAAAAAEgStAEAAAAAAABI\n",
       "ErQBAAAAAAAASBK0AQAAAAAAAEgStAEAAAAAAABIErQBAAAAAAAASBK0AQAAAAAAAEgStAEAAAAA\n",
       "AABIErQBAAAAAAAASDrbAwAAAAAAAJ40s72g497tBR3uAn7woQ0AAAAAAABAkqANAAAAAAAAQJKg\n",
       "DQAAAAAAAECSoA0AAAAAAABAkqANAAAAAAAAQJKgDQAAAAAAAECSoA0AAAAAAABAkqANAAAAAAAA\n",
       "QJKgDQAAAAAAAECSoA0AAAAAAABAkqANAAAAAAAAQJKgDQAAAAAAAECSoA0AAAAAAABAkqANAAAA\n",
       "AAAAQJKgDQAAAAAAAECSoA0AAAAAAABAkqANAAAAAAAAQJKgDQAAAAAAAECSoA0AAAAAAABAkqAN\n",
       "AAAAAAAAQJKgDQAAAAAAAECSoA0AAAAAAABAkqANAAAAAAAAQJKgDQAAAAAAAECSoA0AAAAAAABA\n",
       "kqANAAAAAAAAQJKgDQAAAAAAAECSoA0AAAAAAABAkqANAAAAAAAAQJKgDQAAAAAAAECSoA0AAAAA\n",
       "AABAkqANAAAAAAAAQJKgDQAAAAAAAECSoA0AAAAAAABAkqANAAAAAAAAQJKgDQAAAAAAAECSoA0A\n",
       "AAAAAABAkqANAAAAAAAAQJKgDQAAAAAAAECSoA0AAAAAAABAkqANAAAAAAAAQJKgDQAAAAAAAECS\n",
       "oA0AAAAAAABAkqANAAAAAAAAQJKgDQAAAAAAAECSoA0AAAAAAABAkqANAAAAAAAAQJKgDQAAAAAA\n",
       "AEDS2R4AAAAAAADA42a2F3Tcu71gjzvgH3xoAwAAAAAAAJAkaAMAAAAAAACQJGgDAAAAAAAAkCRo\n",
       "AwAAAAAAAJAkaAMAAAAAAACQJGgDAAAAAAAAkCRoAwAAAAAAAJAkaAMAAAAAAACQJGgDAAAAAAAA\n",
       "kCRoAwAAAAAAAJAkaAMAAAAAAACQJGgDAAAAAAAAkCRoAwAAAAAAAJAkaAMAAAAAAACQJGgDAAAA\n",
       "AAAAkCRoAwAAAAAAAJAkaAMAAAAAAACQJGgDAAAAAAAAkCRoAwAAAAAAAJAkaAMAAAAAAACQJGgD\n",
       "AAAAAAAAkCRoAwAAAAAAAJAkaAMAAAAAAACQJGgDAAAAAAAAkCRoAwAAAAAAAJAkaAMAAAAAAACQ\n",
       "JGgDAAAAAAAAkCRoAwAAAAAAAJAkaAMAAAAAAACQJGgDAAAAAAAAkCRoAwAAAAAAAJAkaAMAAAAA\n",
       "AACQJGgDAAAAAAAAkCRoAwAAAAAAAJAkaAMAAAAAAACQJGgDAAAAAAAAkCRoAwAAAAAAAJAkaAMA\n",
       "AAAAAACQJGgDAAAAAAAAkCRoAwAAAAAAAJAkaAMAAAAAAACQJGgDAAAAAAAAkCRoAwAAAAAAAJAk\n",
       "aAMAAAAAAACQJGgDAAAAAAAAkHS2BwAAAAAAAAB/zGwv2HPv9oKOl+/gLz60AQAAAAAAAEgStAEA\n",
       "AAAAAABIErQBAAAAAAAASBK0AQAAAAAAAEgStAEAAAAAAABIErQBAAAAAAAASBK0AQAAAAAAAEgS\n",
       "tAEAAAAAAABIErQBAAAAAAAASBK0AQAAAAAAAEgStAEAAAAAAABIErQBAAAAAAAASBK0AQAAAAAA\n",
       "AEgStAEAAAAAAABIErQBAAAAAAAASBK0AQAAAAAAAEgStAEAAAAAAABIErQBAAAAAAAASBK0AQAA\n",
       "AAAAAEgStAEAAAAAAABIErQBAAAAAAAASBK0AQAAAAAAAEgStAEAAAAAAABIErQBAAAAAAAASBK0\n",
       "AQAAAAAAAEgStAEAAAAAAABIErQBAAAAAAAASBK0AQAAAAAAAEgStAEAAAAAAABIErQBAAAAAAAA\n",
       "SBK0AQAAAAAAAEgStAEAAAAAAABIErQBAAAAAAAASBK0AQAAAAAAAEgStAEAAAAAAABIErQBAAAA\n",
       "AAAASBK0AQAAAAAAAEgStAEAAAAAAABIErQBAAAAAAAASBK0AQAAAAAAAEgStAEAAAAAAABIErQB\n",
       "AAAAAAAASBK0AQAAAAAAAEgStAEAAAAAAABIErQBAAAAAAAASBK0AQAAAAAAAEgStAEAAAAAAABI\n",
       "ErQBAAAAAAAASDrbAwAAAAAAAAC+ZrYXdNy7vSDDhzYAAAAAAAAASYI2AAAAAAAAAEmCNgAAAAAA\n",
       "AABJgjYAAAAAAAAASYI2AAAAAAAAAEmCNgAAAAAAAABJgjYAAAAAAAAASYI2AAAAAAAAAEmCNgAA\n",
       "AAAAAABJgjYAAAAAAAAASYI2AAAAAAAAAEmCNgAAAAAAAABJgjYAAAAAAAAASYI2AAAAAAAAAEmC\n",
       "NgAAAAAAAABJgjYAAAAAAAAASYI2AAAAAAAAAEmCNgAAAAAAAABJgjYAAAAAAAAASYI2AAAAAAAA\n",
       "AEmCNgAAAAAAAABJgjYAAAAAAAAASYI2AAAAAAAAAEmCNgAAAAAAAABJgjYAAAAAAAAASYI2AAAA\n",
       "AAAAAEmCNgAAAAAAAABJgjYAAAAAAAAASYI2AAAAAAAAAEmCNgAAAAAAAABJgjYAAAAAAAAASYI2\n",
       "AAAAAAAAAEmCNgAAAAAAAABJgjYAAAAAAAAASYI2AAAAAAAAAEmCNgAAAAAAAABJgjYAAAAAAAAA\n",
       "SYI2AAAAAAAAAEmCNgAAAAAAAABJgjYAAAAAAAAASYI2AAAAAAAAAEmCNgAAAAAAAABJgjYAAAAA\n",
       "AAAASYI2AAAAAAAAAEmCNgAAAAAAAABJgjYAAAAAAAAASYI2AAAAAAAAAEnfZT+SvQDAd/8AAAAA\n",
       "SUVORK5CYII=\n",
       "\" transform=\"translate(141, 47)\"/>\n",
       "</g>\n",
       "<defs>\n",
       "  <clipPath id=\"clip723\">\n",
       "    <rect x=\"2160\" y=\"47\" width=\"73\" height=\"1440\"/>\n",
       "  </clipPath>\n",
       "</defs>\n",
       "<g clip-path=\"url(#clip723)\">\n",
       "<image width=\"72\" height=\"1439\" xlink:href=\"data:image/png;base64,\n",
       "iVBORw0KGgoAAAANSUhEUgAAAEgAAAWfCAYAAAAI7rB3AAALeUlEQVR4nO3XwQ3DIBQFQYjpv+OE\n",
       "VJDsEQ4zFVirL5489xh78NPr9AfcTqAgUBAoCBTWmPP0N1zNBQWBgkBBoCBQWOOl0T/qBIGCQEGg\n",
       "4JEO6gSBgkBBoCBQsGJBnSBQECgIFAQKViyoEwQKAgWBgkc6qBMECgIFgYJAwYoFdYJAQaAgUPBI\n",
       "B3WCQEGgIFAQKFixoE4QKAgUBAoCBSsW1AkCBYGCQMEjHdQJAgWBgkBBoGDFgjpBoCBQECgIFKxY\n",
       "UCcIFAQKAgWPdFAnCBQECgIFgYIVC+oEgYJAQaDgkQ7qBIGCQEGgIFCwYkGdIFAQKAgUBApWLKgT\n",
       "BAoCBYGCRzqoEwQKAgWBgkDBigV1gkBBoCBQEChYsaBOECgIFAQKHumgThAoCBQECgIFKxbUCQIF\n",
       "gYJAwSMd1AkCBYGCQEGgYMWCOkGgIFAQKAgUrFhQJwgUBAoCBY90UCcIFAQKAgWBghUL6gSBgkBB\n",
       "oCBQsGJBnSBQECgIFDzSQZ0gUBAoCBQEClYsqBMECgIFgYJHOqgTBAoCBYGCQMGKBXWCQEGgIFAQ\n",
       "KFixoE4QKAgUBAoe6aBOECgIFAQKAgUrFtQJAgWBgkDBIx3UCQIFgYJAQaBgxYI6QaAgUBAoCBSs\n",
       "WFAnCBQECgIFj3RQJwgUBAoCBYGCFQvqBIGCQEGgIFCwYkGdIFAQKAgUPNJBnSBQECgIFAQKViyo\n",
       "EwQKAgWBgkc6qBMECgIFgYJAwYoFdYJAQaAgUBAoWLGgThAoCBQECh7poE4QKAgUBAoCBSsW1AkC\n",
       "BYGCQEGgYMWCOkGgIFAQKHikgzpBoCBQECgIFKxYUCcIFAQKAgWPdFAnCBQECgIFgYIVC+oEgYJA\n",
       "QaAgULBiQZ0gUBAoCBQ80kGdIFAQKAgUBApWLKgTBAoCBYGCQMGKBXWCQEGgIFDwSAd1gkBBoCBQ\n",
       "EChYsaBOECgIFAQKHumgThAoCBQECgIFKxbUCQIFgYJAQaBgxYI6QaAgUBAorPE8p7/hai4oCBQE\n",
       "CgIFgYJfjaBOECgIFAQKHumgThAoCBQECgIFKxbUCQIFgYJAQaBgxYI6QaAgUBAoeKSDOkGgIFAQ\n",
       "KAgUrFhQJwgUBAoCBYGCFQvqBIGCQEGg4JEO6gSBgkBBoCBQsGJBnSBQECgIFDzSQZ0gUBAoCBQE\n",
       "ClYsqBMECgIFgYJAwYoFdYJAQaAgUPBIB3WCQEGgIFAQKFixoE4QKAgUBAoCBSsW1AkCBYGCQMEj\n",
       "HdQJAgWBgkBBoGDFgjpBoCBQECh4pIM6QaAgUBAoCBSsWFAnCBQECgIFgYIVC+oEgYJAQaDgkQ7q\n",
       "BIGCQEGgIFCwYkGdIFAQKAgUBApWLKgTBAoCBYGCRzqoEwQKAgWBgkDBigV1gkBBoCBQ8EgHdYJA\n",
       "QaAgUBAoWLGgThAoCBQECgIFKxbUCQIFgYJAwSMd1AkCBYGCQEGgYMWCOkGgIFAQKAgUrFhQJwgU\n",
       "BAoCBY90UCcIFAQKAgWBghUL6gSBgkBBoOCRDuoEgYJAQaAgULBiQZ0gUBAoCBQEClYsqBMECgIF\n",
       "gYJHOqgTBAoCBYGCQMGKBXWCQEGgIFDwSAd1gkBBoCBQEChYsaBOECgIFAQKAgUrFtQJAgWBgkDB\n",
       "Ix3UCQIFgYJAQaBgxYI6QaAgUBAoCBSsWFAnCBQECgIFj3RQJwgUBAoCBYGCFQvqBIGCQEGg4JEO\n",
       "6gSBgkBBoCBQsGJBnSBQECgIFAQKViyoEwQKAgWBgkc6qBMECgIFgYJAwYoFdYJAQaAgUBAoWLGg\n",
       "ThAoCBQECh7poE4QKAgUBAoCBSsW1AkCBYGCQMEjHdQJAgWBgkBBoGDFgjpBoCBQECgIFKxYUCcI\n",
       "FAQKAgWPdFAnCBQECgIFgYIVC+oEgYJAQaAgULBiQZ0gUBAoCBQ80kGdIFAQKAgUBApWLKgTBAoC\n",
       "BYHC2mOe/oaruaAgUBAoCBQEClYsuKAgUBAoCBQEClYsuKAgUBAoCBTW53P6E+7mgoJAQaAgUBAo\n",
       "WLHggoJAQaAgUPBIBxcUBAoCBYGCQMGKBRcUBAoCBYGCQMGKBRcUBAoCBYGCRzq4oCBQECgIFAQK\n",
       "Viy4oCBQECgIFAQKViy4oCBQECgIFDzSwQUFgYJAQaAgULBiwQUFgYJAQaDgkQ4uKAgUBAoCBYGC\n",
       "FQsuKAgUBAoCBYGCFQsuKAgUBAoCBY90cEFBoCBQECgIFKxYcEFBoCBQECgIFKxYcEFBoCBQECh4\n",
       "pIMLCgIFgYJAQaBgxYILCgIFgYJAwSMdXFAQKAgUBAoCBSsWXFAQKAgUBAoCBSsWXFAQKAgUBAoe\n",
       "6eCCgkBBoCBQEChYseCCgkBBoCBQEChYseCCgkBBoCBQ8EgHFxQECgIFgYJAwYoFFxQECgIFgYJH\n",
       "OrigIFAQKAgUBApWLLigIFAQKAgUBApWLLigIFAQKAgUPNLBBQWBgkBBoCBQsGLBBQWBgkBBoOCR\n",
       "Di4oCBQECgIFgYIVCy4oCBQECgIFgYIVCy4oCBQECgIFj3RwQUGgIFAQKAgUrFhwQUGgIFAQKAgU\n",
       "rFhwQUGgIFAQKHikgwsKAgWBgkBBoGDFggsKAgWBgkDBIx1cUBAoCBQECgIFKxZcUBAoCBQECgIF\n",
       "KxZcUBAoCBQECh7p4IKCQEGgIFAQKFix4IKCQEGgIFAQKFix4IKCQEGgIFDwSAcXFAQKAgWBgkDB\n",
       "igUXFAQKAgWBgkc6uKAgUBAoCBQEClYsuKAgUBAoCBQEClYsuKAgUBAoCBQ80sEFBYGCQEGgIFCw\n",
       "YsEFBYGCQEGgIFCwYsEFBYGCQEGg4JEOLigIFAQKAgWBghULLigIFAQKAgWPdHBBQaAgUBAoCBSs\n",
       "WHBBQaAgUBAoCBSsWHBBQaAgUBAoeKSDCwoCBYGCQEGgYMWCCwoCBYGCQEGgYMWCCwoCBYGCQMEj\n",
       "HVxQECgIFAQKAoX1fp/+hLu5oCBQECgIFPxqBBcUBAoCBYGCQMGKBRcUBAoCBYGCQMGKBRcUBAoC\n",
       "BYGCRzq4oCBQECgIFAQKViy4oCBQECgIFDzSwQUFgYJAQaAgULBiwQUFgYJAQaAgULBiwQUFgYJA\n",
       "QaDgkQ4uKAgUBAoCBYGCFQsuKAgUBAoCBYGCFQsuKAgUBAoCBY90cEFBoCBQECgIFKxYcEFBoCBQ\n",
       "ECh4pIMLCgIFgYJAQaBgxYILCgIFgYJAQaBgxYILCgIFgYJAwSMdXFAQKAgUBAoCBSsWXFAQKAgU\n",
       "BAoCBSsWXFAQKAgUBAoe6eCCgkBBoCBQEChYseCCgkBBoCBQ8EgHFxQECgIFgYJAwYoFFxQECgIF\n",
       "gYJAwYoFFxQECgIFgYJHOrigIFAQKAgUBApWLLigIFAQKAgUBApWLLigIFAQKAgUPNLBBQWBgkBB\n",
       "oCBQsGLBBQWBgkBBoOCRDi4oCBQECgIFgYIVCy4oCBQECgIFgYIVCy4oCBQECgIFj3RwQUGgIFAQ\n",
       "KAgUrFhwQUGgIFAQKHikgwsKAgWBgkBBoGDFggsKAgWBgkBBoGDFggsKAgWBgkDBIx1cUBAoCBQE\n",
       "CgIFKxZcUBAoCBQECgIFKxZcUBAoCBQECh7p4IKCQEGgIFAQKFix4IKCQEGgIFDwSAcXFAQKAgWB\n",
       "gkDBigUXFAQKAgWBgkDBigUXFAQKAgWBgkc6uKAgUBAoCBQEClYsuKAgUBAoCBQEClYsuKAgUBAo\n",
       "CBQ80sEFBYGCQEGgIFCwYsEFBYGCQEGg4JEOLigIFAQKAgWBghULLigIFAQKAgWBghULLigIFAQK\n",
       "AgWPdHBBQaAgUBAoCBSsWHBBQaAgUBAoCBSsWHBBQaAgUBAoeKSDCwoCBYGCQEGgYMWCCwoCBYGC\n",
       "QMEjHVxQECgIFAQKAgUrFlxQECgIFAQKAgUrFlxQECgIFAQKc869T3/EzVxQECgIFAQKAoU5hhX7\n",
       "xwUFgYJAQaDwBSktDkf8bGBYAAAAAElFTkSuQmCC\n",
       "\" transform=\"translate(2161, 47)\"/>\n",
       "</g>\n",
       "<path clip-path=\"url(#clip720)\" d=\"M2268.76 1483.27 L2298.43 1483.27 L2298.43 1487.21 L2268.76 1487.21 L2268.76 1483.27 Z\" fill=\"#000000\" fill-rule=\"evenodd\" fill-opacity=\"1\" /><path clip-path=\"url(#clip720)\" d=\"M2309.33 1496.16 L2316.97 1496.16 L2316.97 1469.8 L2308.66 1471.46 L2308.66 1467.21 L2316.93 1465.54 L2321.6 1465.54 L2321.6 1496.16 L2329.24 1496.16 L2329.24 1500.1 L2309.33 1500.1 L2309.33 1496.16 Z\" fill=\"#000000\" fill-rule=\"evenodd\" fill-opacity=\"1\" /><path clip-path=\"url(#clip720)\" d=\"M2338.69 1494.22 L2343.57 1494.22 L2343.57 1500.1 L2338.69 1500.1 L2338.69 1494.22 Z\" fill=\"#000000\" fill-rule=\"evenodd\" fill-opacity=\"1\" /><path clip-path=\"url(#clip720)\" d=\"M2363.76 1468.62 Q2360.14 1468.62 2358.32 1472.18 Q2356.51 1475.72 2356.51 1482.85 Q2356.51 1489.96 2358.32 1493.53 Q2360.14 1497.07 2363.76 1497.07 Q2367.39 1497.07 2369.2 1493.53 Q2371.02 1489.96 2371.02 1482.85 Q2371.02 1475.72 2369.2 1472.18 Q2367.39 1468.62 2363.76 1468.62 M2363.76 1464.91 Q2369.57 1464.91 2372.62 1469.52 Q2375.7 1474.1 2375.7 1482.85 Q2375.7 1491.58 2372.62 1496.19 Q2369.57 1500.77 2363.76 1500.77 Q2357.95 1500.77 2354.87 1496.19 Q2351.81 1491.58 2351.81 1482.85 Q2351.81 1474.1 2354.87 1469.52 Q2357.95 1464.91 2363.76 1464.91 Z\" fill=\"#000000\" fill-rule=\"evenodd\" fill-opacity=\"1\" /><path clip-path=\"url(#clip720)\" d=\"M2393.92 1468.62 Q2390.31 1468.62 2388.48 1472.18 Q2386.67 1475.72 2386.67 1482.85 Q2386.67 1489.96 2388.48 1493.53 Q2390.31 1497.07 2393.92 1497.07 Q2397.55 1497.07 2399.36 1493.53 Q2401.19 1489.96 2401.19 1482.85 Q2401.19 1475.72 2399.36 1472.18 Q2397.55 1468.62 2393.92 1468.62 M2393.92 1464.91 Q2399.73 1464.91 2402.78 1469.52 Q2405.86 1474.1 2405.86 1482.85 Q2405.86 1491.58 2402.78 1496.19 Q2399.73 1500.77 2393.92 1500.77 Q2388.11 1500.77 2385.03 1496.19 Q2381.97 1491.58 2381.97 1482.85 Q2381.97 1474.1 2385.03 1469.52 Q2388.11 1464.91 2393.92 1464.91 Z\" fill=\"#000000\" fill-rule=\"evenodd\" fill-opacity=\"1\" /><path clip-path=\"url(#clip720)\" d=\"M2268.76 1303.37 L2298.43 1303.37 L2298.43 1307.31 L2268.76 1307.31 L2268.76 1303.37 Z\" fill=\"#000000\" fill-rule=\"evenodd\" fill-opacity=\"1\" /><path clip-path=\"url(#clip720)\" d=\"M2318.52 1288.72 Q2314.91 1288.72 2313.08 1292.28 Q2311.28 1295.82 2311.28 1302.95 Q2311.28 1310.06 2313.08 1313.62 Q2314.91 1317.17 2318.52 1317.17 Q2322.16 1317.17 2323.96 1313.62 Q2325.79 1310.06 2325.79 1302.95 Q2325.79 1295.82 2323.96 1292.28 Q2322.16 1288.72 2318.52 1288.72 M2318.52 1285.01 Q2324.33 1285.01 2327.39 1289.62 Q2330.47 1294.2 2330.47 1302.95 Q2330.47 1311.68 2327.39 1316.29 Q2324.33 1320.87 2318.52 1320.87 Q2312.71 1320.87 2309.64 1316.29 Q2306.58 1311.68 2306.58 1302.95 Q2306.58 1294.2 2309.64 1289.62 Q2312.71 1285.01 2318.52 1285.01 Z\" fill=\"#000000\" fill-rule=\"evenodd\" fill-opacity=\"1\" /><path clip-path=\"url(#clip720)\" d=\"M2338.69 1314.32 L2343.57 1314.32 L2343.57 1320.2 L2338.69 1320.2 L2338.69 1314.32 Z\" fill=\"#000000\" fill-rule=\"evenodd\" fill-opacity=\"1\" /><path clip-path=\"url(#clip720)\" d=\"M2352.57 1285.64 L2374.8 1285.64 L2374.8 1287.63 L2362.25 1320.2 L2357.37 1320.2 L2369.17 1289.57 L2352.57 1289.57 L2352.57 1285.64 Z\" fill=\"#000000\" fill-rule=\"evenodd\" fill-opacity=\"1\" /><path clip-path=\"url(#clip720)\" d=\"M2383.96 1285.64 L2402.32 1285.64 L2402.32 1289.57 L2388.25 1289.57 L2388.25 1298.05 Q2389.26 1297.7 2390.28 1297.54 Q2391.3 1297.35 2392.32 1297.35 Q2398.11 1297.35 2401.49 1300.52 Q2404.87 1303.69 2404.87 1309.11 Q2404.87 1314.69 2401.39 1317.79 Q2397.92 1320.87 2391.6 1320.87 Q2389.43 1320.87 2387.16 1320.5 Q2384.91 1320.13 2382.51 1319.39 L2382.51 1314.69 Q2384.59 1315.82 2386.81 1316.38 Q2389.03 1316.93 2391.51 1316.93 Q2395.51 1316.93 2397.85 1314.83 Q2400.19 1312.72 2400.19 1309.11 Q2400.19 1305.5 2397.85 1303.39 Q2395.51 1301.29 2391.51 1301.29 Q2389.63 1301.29 2387.76 1301.7 Q2385.91 1302.12 2383.96 1303 L2383.96 1285.64 Z\" fill=\"#000000\" fill-rule=\"evenodd\" fill-opacity=\"1\" /><path clip-path=\"url(#clip720)\" d=\"M2268.76 1123.47 L2298.43 1123.47 L2298.43 1127.4 L2268.76 1127.4 L2268.76 1123.47 Z\" fill=\"#000000\" fill-rule=\"evenodd\" fill-opacity=\"1\" /><path clip-path=\"url(#clip720)\" d=\"M2318.52 1108.82 Q2314.91 1108.82 2313.08 1112.38 Q2311.28 1115.92 2311.28 1123.05 Q2311.28 1130.16 2313.08 1133.72 Q2314.91 1137.27 2318.52 1137.27 Q2322.16 1137.27 2323.96 1133.72 Q2325.79 1130.16 2325.79 1123.05 Q2325.79 1115.92 2323.96 1112.38 Q2322.16 1108.82 2318.52 1108.82 M2318.52 1105.11 Q2324.33 1105.11 2327.39 1109.72 Q2330.47 1114.3 2330.47 1123.05 Q2330.47 1131.78 2327.39 1136.39 Q2324.33 1140.97 2318.52 1140.97 Q2312.71 1140.97 2309.64 1136.39 Q2306.58 1131.78 2306.58 1123.05 Q2306.58 1114.3 2309.64 1109.72 Q2312.71 1105.11 2318.52 1105.11 Z\" fill=\"#000000\" fill-rule=\"evenodd\" fill-opacity=\"1\" /><path clip-path=\"url(#clip720)\" d=\"M2338.69 1134.42 L2343.57 1134.42 L2343.57 1140.3 L2338.69 1140.3 L2338.69 1134.42 Z\" fill=\"#000000\" fill-rule=\"evenodd\" fill-opacity=\"1\" /><path clip-path=\"url(#clip720)\" d=\"M2353.8 1105.74 L2372.16 1105.74 L2372.16 1109.67 L2358.08 1109.67 L2358.08 1118.15 Q2359.1 1117.8 2360.12 1117.64 Q2361.14 1117.45 2362.16 1117.45 Q2367.95 1117.45 2371.32 1120.62 Q2374.7 1123.79 2374.7 1129.21 Q2374.7 1134.79 2371.23 1137.89 Q2367.76 1140.97 2361.44 1140.97 Q2359.26 1140.97 2357 1140.6 Q2354.75 1140.23 2352.34 1139.49 L2352.34 1134.79 Q2354.43 1135.92 2356.65 1136.48 Q2358.87 1137.03 2361.35 1137.03 Q2365.35 1137.03 2367.69 1134.93 Q2370.03 1132.82 2370.03 1129.21 Q2370.03 1125.6 2367.69 1123.49 Q2365.35 1121.39 2361.35 1121.39 Q2359.47 1121.39 2357.6 1121.8 Q2355.75 1122.22 2353.8 1123.1 L2353.8 1105.74 Z\" fill=\"#000000\" fill-rule=\"evenodd\" fill-opacity=\"1\" /><path clip-path=\"url(#clip720)\" d=\"M2393.92 1108.82 Q2390.31 1108.82 2388.48 1112.38 Q2386.67 1115.92 2386.67 1123.05 Q2386.67 1130.16 2388.48 1133.72 Q2390.31 1137.27 2393.92 1137.27 Q2397.55 1137.27 2399.36 1133.72 Q2401.19 1130.16 2401.19 1123.05 Q2401.19 1115.92 2399.36 1112.38 Q2397.55 1108.82 2393.92 1108.82 M2393.92 1105.11 Q2399.73 1105.11 2402.78 1109.72 Q2405.86 1114.3 2405.86 1123.05 Q2405.86 1131.78 2402.78 1136.39 Q2399.73 1140.97 2393.92 1140.97 Q2388.11 1140.97 2385.03 1136.39 Q2381.97 1131.78 2381.97 1123.05 Q2381.97 1114.3 2385.03 1109.72 Q2388.11 1105.11 2393.92 1105.11 Z\" fill=\"#000000\" fill-rule=\"evenodd\" fill-opacity=\"1\" /><path clip-path=\"url(#clip720)\" d=\"M2268.76 943.569 L2298.43 943.569 L2298.43 947.504 L2268.76 947.504 L2268.76 943.569 Z\" fill=\"#000000\" fill-rule=\"evenodd\" fill-opacity=\"1\" /><path clip-path=\"url(#clip720)\" d=\"M2318.52 928.916 Q2314.91 928.916 2313.08 932.481 Q2311.28 936.023 2311.28 943.152 Q2311.28 950.259 2313.08 953.824 Q2314.91 957.365 2318.52 957.365 Q2322.16 957.365 2323.96 953.824 Q2325.79 950.259 2325.79 943.152 Q2325.79 936.023 2323.96 932.481 Q2322.16 928.916 2318.52 928.916 M2318.52 925.213 Q2324.33 925.213 2327.39 929.819 Q2330.47 934.402 2330.47 943.152 Q2330.47 951.879 2327.39 956.486 Q2324.33 961.069 2318.52 961.069 Q2312.71 961.069 2309.64 956.486 Q2306.58 951.879 2306.58 943.152 Q2306.58 934.402 2309.64 929.819 Q2312.71 925.213 2318.52 925.213 Z\" fill=\"#000000\" fill-rule=\"evenodd\" fill-opacity=\"1\" /><path clip-path=\"url(#clip720)\" d=\"M2338.69 954.518 L2343.57 954.518 L2343.57 960.398 L2338.69 960.398 L2338.69 954.518 Z\" fill=\"#000000\" fill-rule=\"evenodd\" fill-opacity=\"1\" /><path clip-path=\"url(#clip720)\" d=\"M2357.78 956.462 L2374.1 956.462 L2374.1 960.398 L2352.16 960.398 L2352.16 956.462 Q2354.82 953.708 2359.4 949.078 Q2364.01 944.426 2365.19 943.083 Q2367.44 940.56 2368.32 938.824 Q2369.22 937.064 2369.22 935.375 Q2369.22 932.62 2367.27 930.884 Q2365.35 929.148 2362.25 929.148 Q2360.05 929.148 2357.6 929.912 Q2355.17 930.676 2352.39 932.227 L2352.39 927.504 Q2355.21 926.37 2357.67 925.791 Q2360.12 925.213 2362.16 925.213 Q2367.53 925.213 2370.72 927.898 Q2373.92 930.583 2373.92 935.074 Q2373.92 937.203 2373.11 939.125 Q2372.32 941.023 2370.21 943.615 Q2369.63 944.287 2366.53 947.504 Q2363.43 950.699 2357.78 956.462 Z\" fill=\"#000000\" fill-rule=\"evenodd\" fill-opacity=\"1\" /><path clip-path=\"url(#clip720)\" d=\"M2383.96 925.838 L2402.32 925.838 L2402.32 929.773 L2388.25 929.773 L2388.25 938.245 Q2389.26 937.898 2390.28 937.736 Q2391.3 937.551 2392.32 937.551 Q2398.11 937.551 2401.49 940.722 Q2404.87 943.893 2404.87 949.31 Q2404.87 954.888 2401.39 957.99 Q2397.92 961.069 2391.6 961.069 Q2389.43 961.069 2387.16 960.699 Q2384.91 960.328 2382.51 959.587 L2382.51 954.888 Q2384.59 956.023 2386.81 956.578 Q2389.03 957.134 2391.51 957.134 Q2395.51 957.134 2397.85 955.027 Q2400.19 952.921 2400.19 949.31 Q2400.19 945.699 2397.85 943.592 Q2395.51 941.486 2391.51 941.486 Q2389.63 941.486 2387.76 941.902 Q2385.91 942.319 2383.96 943.199 L2383.96 925.838 Z\" fill=\"#000000\" fill-rule=\"evenodd\" fill-opacity=\"1\" /><path clip-path=\"url(#clip720)\" d=\"M2280.7 749.016 Q2277.09 749.016 2275.26 752.581 Q2273.45 756.122 2273.45 763.252 Q2273.45 770.358 2275.26 773.923 Q2277.09 777.465 2280.7 777.465 Q2284.33 777.465 2286.14 773.923 Q2287.97 770.358 2287.97 763.252 Q2287.97 756.122 2286.14 752.581 Q2284.33 749.016 2280.7 749.016 M2280.7 745.312 Q2286.51 745.312 2289.57 749.919 Q2292.64 754.502 2292.64 763.252 Q2292.64 771.979 2289.57 776.585 Q2286.51 781.168 2280.7 781.168 Q2274.89 781.168 2271.81 776.585 Q2268.76 771.979 2268.76 763.252 Q2268.76 754.502 2271.81 749.919 Q2274.89 745.312 2280.7 745.312 Z\" fill=\"#000000\" fill-rule=\"evenodd\" fill-opacity=\"1\" /><path clip-path=\"url(#clip720)\" d=\"M2280.7 569.115 Q2277.09 569.115 2275.26 572.68 Q2273.45 576.222 2273.45 583.351 Q2273.45 590.458 2275.26 594.023 Q2277.09 597.564 2280.7 597.564 Q2284.33 597.564 2286.14 594.023 Q2287.97 590.458 2287.97 583.351 Q2287.97 576.222 2286.14 572.68 Q2284.33 569.115 2280.7 569.115 M2280.7 565.412 Q2286.51 565.412 2289.57 570.018 Q2292.64 574.601 2292.64 583.351 Q2292.64 592.078 2289.57 596.685 Q2286.51 601.268 2280.7 601.268 Q2274.89 601.268 2271.81 596.685 Q2268.76 592.078 2268.76 583.351 Q2268.76 574.601 2271.81 570.018 Q2274.89 565.412 2280.7 565.412 Z\" fill=\"#000000\" fill-rule=\"evenodd\" fill-opacity=\"1\" /><path clip-path=\"url(#clip720)\" d=\"M2300.86 594.717 L2305.75 594.717 L2305.75 600.597 L2300.86 600.597 L2300.86 594.717 Z\" fill=\"#000000\" fill-rule=\"evenodd\" fill-opacity=\"1\" /><path clip-path=\"url(#clip720)\" d=\"M2319.96 596.662 L2336.28 596.662 L2336.28 600.597 L2314.33 600.597 L2314.33 596.662 Q2317 593.907 2321.58 589.277 Q2326.19 584.625 2327.37 583.282 Q2329.61 580.759 2330.49 579.023 Q2331.39 577.264 2331.39 575.574 Q2331.39 572.819 2329.45 571.083 Q2327.53 569.347 2324.43 569.347 Q2322.23 569.347 2319.77 570.111 Q2317.34 570.875 2314.57 572.426 L2314.57 567.703 Q2317.39 566.569 2319.84 565.99 Q2322.3 565.412 2324.33 565.412 Q2329.7 565.412 2332.9 568.097 Q2336.09 570.782 2336.09 575.273 Q2336.09 577.402 2335.28 579.324 Q2334.5 581.222 2332.39 583.814 Q2331.81 584.486 2328.71 587.703 Q2325.61 590.898 2319.96 596.662 Z\" fill=\"#000000\" fill-rule=\"evenodd\" fill-opacity=\"1\" /><path clip-path=\"url(#clip720)\" d=\"M2346.14 566.037 L2364.5 566.037 L2364.5 569.972 L2350.42 569.972 L2350.42 578.444 Q2351.44 578.097 2352.46 577.935 Q2353.48 577.75 2354.5 577.75 Q2360.28 577.75 2363.66 580.921 Q2367.04 584.092 2367.04 589.509 Q2367.04 595.087 2363.57 598.189 Q2360.1 601.268 2353.78 601.268 Q2351.6 601.268 2349.33 600.898 Q2347.09 600.527 2344.68 599.787 L2344.68 595.087 Q2346.76 596.222 2348.99 596.777 Q2351.21 597.333 2353.69 597.333 Q2357.69 597.333 2360.03 595.226 Q2362.37 593.12 2362.37 589.509 Q2362.37 585.898 2360.03 583.791 Q2357.69 581.685 2353.69 581.685 Q2351.81 581.685 2349.94 582.101 Q2348.08 582.518 2346.14 583.398 L2346.14 566.037 Z\" fill=\"#000000\" fill-rule=\"evenodd\" fill-opacity=\"1\" /><path clip-path=\"url(#clip720)\" d=\"M2280.7 389.215 Q2277.09 389.215 2275.26 392.78 Q2273.45 396.321 2273.45 403.451 Q2273.45 410.557 2275.26 414.122 Q2277.09 417.664 2280.7 417.664 Q2284.33 417.664 2286.14 414.122 Q2287.97 410.557 2287.97 403.451 Q2287.97 396.321 2286.14 392.78 Q2284.33 389.215 2280.7 389.215 M2280.7 385.511 Q2286.51 385.511 2289.57 390.118 Q2292.64 394.701 2292.64 403.451 Q2292.64 412.178 2289.57 416.784 Q2286.51 421.368 2280.7 421.368 Q2274.89 421.368 2271.81 416.784 Q2268.76 412.178 2268.76 403.451 Q2268.76 394.701 2271.81 390.118 Q2274.89 385.511 2280.7 385.511 Z\" fill=\"#000000\" fill-rule=\"evenodd\" fill-opacity=\"1\" /><path clip-path=\"url(#clip720)\" d=\"M2300.86 414.817 L2305.75 414.817 L2305.75 420.696 L2300.86 420.696 L2300.86 414.817 Z\" fill=\"#000000\" fill-rule=\"evenodd\" fill-opacity=\"1\" /><path clip-path=\"url(#clip720)\" d=\"M2315.98 386.136 L2334.33 386.136 L2334.33 390.071 L2320.26 390.071 L2320.26 398.544 Q2321.28 398.196 2322.3 398.034 Q2323.32 397.849 2324.33 397.849 Q2330.12 397.849 2333.5 401.02 Q2336.88 404.192 2336.88 409.608 Q2336.88 415.187 2333.41 418.289 Q2329.94 421.368 2323.62 421.368 Q2321.44 421.368 2319.17 420.997 Q2316.93 420.627 2314.52 419.886 L2314.52 415.187 Q2316.6 416.321 2318.83 416.877 Q2321.05 417.432 2323.52 417.432 Q2327.53 417.432 2329.87 415.326 Q2332.2 413.219 2332.2 409.608 Q2332.2 405.997 2329.87 403.891 Q2327.53 401.784 2323.52 401.784 Q2321.65 401.784 2319.77 402.201 Q2317.92 402.618 2315.98 403.497 L2315.98 386.136 Z\" fill=\"#000000\" fill-rule=\"evenodd\" fill-opacity=\"1\" /><path clip-path=\"url(#clip720)\" d=\"M2356.09 389.215 Q2352.48 389.215 2350.65 392.78 Q2348.85 396.321 2348.85 403.451 Q2348.85 410.557 2350.65 414.122 Q2352.48 417.664 2356.09 417.664 Q2359.73 417.664 2361.53 414.122 Q2363.36 410.557 2363.36 403.451 Q2363.36 396.321 2361.53 392.78 Q2359.73 389.215 2356.09 389.215 M2356.09 385.511 Q2361.9 385.511 2364.96 390.118 Q2368.04 394.701 2368.04 403.451 Q2368.04 412.178 2364.96 416.784 Q2361.9 421.368 2356.09 421.368 Q2350.28 421.368 2347.2 416.784 Q2344.15 412.178 2344.15 403.451 Q2344.15 394.701 2347.2 390.118 Q2350.28 385.511 2356.09 385.511 Z\" fill=\"#000000\" fill-rule=\"evenodd\" fill-opacity=\"1\" /><path clip-path=\"url(#clip720)\" d=\"M2280.7 209.314 Q2277.09 209.314 2275.26 212.879 Q2273.45 216.421 2273.45 223.55 Q2273.45 230.657 2275.26 234.222 Q2277.09 237.763 2280.7 237.763 Q2284.33 237.763 2286.14 234.222 Q2287.97 230.657 2287.97 223.55 Q2287.97 216.421 2286.14 212.879 Q2284.33 209.314 2280.7 209.314 M2280.7 205.611 Q2286.51 205.611 2289.57 210.217 Q2292.64 214.801 2292.64 223.55 Q2292.64 232.277 2289.57 236.884 Q2286.51 241.467 2280.7 241.467 Q2274.89 241.467 2271.81 236.884 Q2268.76 232.277 2268.76 223.55 Q2268.76 214.801 2271.81 210.217 Q2274.89 205.611 2280.7 205.611 Z\" fill=\"#000000\" fill-rule=\"evenodd\" fill-opacity=\"1\" /><path clip-path=\"url(#clip720)\" d=\"M2300.86 234.916 L2305.75 234.916 L2305.75 240.796 L2300.86 240.796 L2300.86 234.916 Z\" fill=\"#000000\" fill-rule=\"evenodd\" fill-opacity=\"1\" /><path clip-path=\"url(#clip720)\" d=\"M2314.75 206.236 L2336.97 206.236 L2336.97 208.226 L2324.43 240.796 L2319.54 240.796 L2331.35 210.171 L2314.75 210.171 L2314.75 206.236 Z\" fill=\"#000000\" fill-rule=\"evenodd\" fill-opacity=\"1\" /><path clip-path=\"url(#clip720)\" d=\"M2346.14 206.236 L2364.5 206.236 L2364.5 210.171 L2350.42 210.171 L2350.42 218.643 Q2351.44 218.296 2352.46 218.134 Q2353.48 217.949 2354.5 217.949 Q2360.28 217.949 2363.66 221.12 Q2367.04 224.291 2367.04 229.708 Q2367.04 235.287 2363.57 238.388 Q2360.1 241.467 2353.78 241.467 Q2351.6 241.467 2349.33 241.097 Q2347.09 240.726 2344.68 239.986 L2344.68 235.287 Q2346.76 236.421 2348.99 236.976 Q2351.21 237.532 2353.69 237.532 Q2357.69 237.532 2360.03 235.425 Q2362.37 233.319 2362.37 229.708 Q2362.37 226.097 2360.03 223.99 Q2357.69 221.884 2353.69 221.884 Q2351.81 221.884 2349.94 222.3 Q2348.08 222.717 2346.14 223.597 L2346.14 206.236 Z\" fill=\"#000000\" fill-rule=\"evenodd\" fill-opacity=\"1\" /><path clip-path=\"url(#clip720)\" d=\"M2269.43 56.9601 L2277.07 56.9601 L2277.07 30.5945 L2268.76 32.2612 L2268.76 28.002 L2277.02 26.3353 L2281.7 26.3353 L2281.7 56.9601 L2289.33 56.9601 L2289.33 60.8953 L2269.43 60.8953 L2269.43 56.9601 Z\" fill=\"#000000\" fill-rule=\"evenodd\" fill-opacity=\"1\" /><path clip-path=\"url(#clip720)\" d=\"M2298.78 55.0157 L2303.66 55.0157 L2303.66 60.8953 L2298.78 60.8953 L2298.78 55.0157 Z\" fill=\"#000000\" fill-rule=\"evenodd\" fill-opacity=\"1\" /><path clip-path=\"url(#clip720)\" d=\"M2323.85 29.414 Q2320.24 29.414 2318.41 32.9788 Q2316.6 36.5204 2316.6 43.65 Q2316.6 50.7565 2318.41 54.3213 Q2320.24 57.8629 2323.85 57.8629 Q2327.48 57.8629 2329.29 54.3213 Q2331.12 50.7565 2331.12 43.65 Q2331.12 36.5204 2329.29 32.9788 Q2327.48 29.414 2323.85 29.414 M2323.85 25.7103 Q2329.66 25.7103 2332.71 30.3168 Q2335.79 34.9001 2335.79 43.65 Q2335.79 52.3768 2332.71 56.9833 Q2329.66 61.5666 2323.85 61.5666 Q2318.04 61.5666 2314.96 56.9833 Q2311.9 52.3768 2311.9 43.65 Q2311.9 34.9001 2314.96 30.3168 Q2318.04 25.7103 2323.85 25.7103 Z\" fill=\"#000000\" fill-rule=\"evenodd\" fill-opacity=\"1\" /><path clip-path=\"url(#clip720)\" d=\"M2354.01 29.414 Q2350.4 29.414 2348.57 32.9788 Q2346.76 36.5204 2346.76 43.65 Q2346.76 50.7565 2348.57 54.3213 Q2350.4 57.8629 2354.01 57.8629 Q2357.64 57.8629 2359.45 54.3213 Q2361.28 50.7565 2361.28 43.65 Q2361.28 36.5204 2359.45 32.9788 Q2357.64 29.414 2354.01 29.414 M2354.01 25.7103 Q2359.82 25.7103 2362.88 30.3168 Q2365.95 34.9001 2365.95 43.65 Q2365.95 52.3768 2362.88 56.9833 Q2359.82 61.5666 2354.01 61.5666 Q2348.2 61.5666 2345.12 56.9833 Q2342.07 52.3768 2342.07 43.65 Q2342.07 34.9001 2345.12 30.3168 Q2348.2 25.7103 2354.01 25.7103 Z\" fill=\"#000000\" fill-rule=\"evenodd\" fill-opacity=\"1\" /><polyline clip-path=\"url(#clip720)\" style=\"stroke:#000000; stroke-linecap:butt; stroke-linejoin:round; stroke-width:4; stroke-opacity:1; fill:none\" points=\"\n",
       "  2232.76,1486.45 2232.76,1486.45 2256.76,1486.45 2232.76,1486.45 2232.76,1306.55 2256.76,1306.55 2232.76,1306.55 2232.76,1126.65 2256.76,1126.65 2232.76,1126.65 \n",
       "  2232.76,946.746 2256.76,946.746 2232.76,946.746 2232.76,766.846 2256.76,766.846 2232.76,766.846 2232.76,586.946 2256.76,586.946 2232.76,586.946 2232.76,407.045 \n",
       "  2256.76,407.045 2232.76,407.045 2232.76,227.145 2256.76,227.145 2232.76,227.145 2232.76,47.2441 2256.76,47.2441 2232.76,47.2441 \n",
       "  \"/>\n",
       "</svg>\n"
      ]
     },
     "execution_count": 33,
     "metadata": {},
     "output_type": "execute_result"
    }
   ],
   "source": [
    "heatmap(C,  c = :bwr, clims=(-1,1), yflip=:true)"
   ]
  }
 ],
 "metadata": {
  "kernelspec": {
   "display_name": "Julia 1.8.0-rc1",
   "language": "julia",
   "name": "julia-1.8"
  },
  "language_info": {
   "file_extension": ".jl",
   "mimetype": "application/julia",
   "name": "julia",
   "version": "1.8.0"
  }
 },
 "nbformat": 4,
 "nbformat_minor": 5
}
